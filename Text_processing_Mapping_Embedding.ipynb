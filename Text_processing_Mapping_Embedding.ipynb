{
  "nbformat": 4,
  "nbformat_minor": 0,
  "metadata": {
    "colab": {
      "name": "Text_processing_Mapping_Embedding.ipynb",
      "provenance": [],
      "collapsed_sections": [
        "IoKsSo5CkDBf",
        "Tse5SgGxK8ex",
        "OCHmR8ThmJbg",
        "jA5QqaSSVgad",
        "cILeKCfRiJGP",
        "eE_R96fOlSqk",
        "mSlEuwmdlNRG",
        "juiZ57uElW8a"
      ],
      "mount_file_id": "1ppazTdTHWvrVIEghW1gKGfRvX0hX5p_z",
      "authorship_tag": "ABX9TyMmvs+TDL08bRaifqezhKSE",
      "include_colab_link": true
    },
    "kernelspec": {
      "name": "python3",
      "display_name": "Python 3"
    },
    "language_info": {
      "name": "python"
    },
    "gpuClass": "standard"
  },
  "cells": [
    {
      "cell_type": "markdown",
      "metadata": {
        "id": "view-in-github",
        "colab_type": "text"
      },
      "source": [
        "<a href=\"https://colab.research.google.com/github/SaurabhMulgaonkarNW/ReStock/blob/main/Text_processing_Mapping_Embedding.ipynb\" target=\"_parent\"><img src=\"https://colab.research.google.com/assets/colab-badge.svg\" alt=\"Open In Colab\"/></a>"
      ]
    },
    {
      "cell_type": "markdown",
      "source": [
        "# Importing data"
      ],
      "metadata": {
        "id": "JexBZTwhjs8i"
      }
    },
    {
      "cell_type": "code",
      "source": [
        "!pip install tensorflow-text"
      ],
      "metadata": {
        "colab": {
          "base_uri": "https://localhost:8080/"
        },
        "id": "iOFtjXOzmCaH",
        "outputId": "a456af0d-ed0d-4f57-c2c3-eddf248216b2"
      },
      "execution_count": 1,
      "outputs": [
        {
          "output_type": "stream",
          "name": "stdout",
          "text": [
            "Looking in indexes: https://pypi.org/simple, https://us-python.pkg.dev/colab-wheels/public/simple/\n",
            "Collecting tensorflow-text\n",
            "  Downloading tensorflow_text-2.9.0-cp37-cp37m-manylinux_2_17_x86_64.manylinux2014_x86_64.whl (4.6 MB)\n",
            "\u001b[K     |████████████████████████████████| 4.6 MB 10.0 MB/s \n",
            "\u001b[?25hCollecting tensorflow<2.10,>=2.9.0\n",
            "  Downloading tensorflow-2.9.1-cp37-cp37m-manylinux_2_17_x86_64.manylinux2014_x86_64.whl (511.7 MB)\n",
            "\u001b[K     |████████████████████████████████| 511.7 MB 4.6 kB/s \n",
            "\u001b[?25hRequirement already satisfied: tensorflow-hub>=0.8.0 in /usr/local/lib/python3.7/dist-packages (from tensorflow-text) (0.12.0)\n",
            "Collecting tensorboard<2.10,>=2.9\n",
            "  Downloading tensorboard-2.9.1-py3-none-any.whl (5.8 MB)\n",
            "\u001b[K     |████████████████████████████████| 5.8 MB 50.8 MB/s \n",
            "\u001b[?25hRequirement already satisfied: typing-extensions>=3.6.6 in /usr/local/lib/python3.7/dist-packages (from tensorflow<2.10,>=2.9.0->tensorflow-text) (4.1.1)\n",
            "Collecting gast<=0.4.0,>=0.2.1\n",
            "  Downloading gast-0.4.0-py3-none-any.whl (9.8 kB)\n",
            "Requirement already satisfied: astunparse>=1.6.0 in /usr/local/lib/python3.7/dist-packages (from tensorflow<2.10,>=2.9.0->tensorflow-text) (1.6.3)\n",
            "Requirement already satisfied: libclang>=13.0.0 in /usr/local/lib/python3.7/dist-packages (from tensorflow<2.10,>=2.9.0->tensorflow-text) (14.0.6)\n",
            "Requirement already satisfied: packaging in /usr/local/lib/python3.7/dist-packages (from tensorflow<2.10,>=2.9.0->tensorflow-text) (21.3)\n",
            "Requirement already satisfied: google-pasta>=0.1.1 in /usr/local/lib/python3.7/dist-packages (from tensorflow<2.10,>=2.9.0->tensorflow-text) (0.2.0)\n",
            "Requirement already satisfied: protobuf<3.20,>=3.9.2 in /usr/local/lib/python3.7/dist-packages (from tensorflow<2.10,>=2.9.0->tensorflow-text) (3.17.3)\n",
            "Collecting tensorflow-estimator<2.10.0,>=2.9.0rc0\n",
            "  Downloading tensorflow_estimator-2.9.0-py2.py3-none-any.whl (438 kB)\n",
            "\u001b[K     |████████████████████████████████| 438 kB 28.1 MB/s \n",
            "\u001b[?25hRequirement already satisfied: numpy>=1.20 in /usr/local/lib/python3.7/dist-packages (from tensorflow<2.10,>=2.9.0->tensorflow-text) (1.21.6)\n",
            "Collecting keras<2.10.0,>=2.9.0rc0\n",
            "  Downloading keras-2.9.0-py2.py3-none-any.whl (1.6 MB)\n",
            "\u001b[K     |████████████████████████████████| 1.6 MB 49.8 MB/s \n",
            "\u001b[?25hRequirement already satisfied: termcolor>=1.1.0 in /usr/local/lib/python3.7/dist-packages (from tensorflow<2.10,>=2.9.0->tensorflow-text) (1.1.0)\n",
            "Requirement already satisfied: h5py>=2.9.0 in /usr/local/lib/python3.7/dist-packages (from tensorflow<2.10,>=2.9.0->tensorflow-text) (3.1.0)\n",
            "Requirement already satisfied: grpcio<2.0,>=1.24.3 in /usr/local/lib/python3.7/dist-packages (from tensorflow<2.10,>=2.9.0->tensorflow-text) (1.47.0)\n",
            "Requirement already satisfied: wrapt>=1.11.0 in /usr/local/lib/python3.7/dist-packages (from tensorflow<2.10,>=2.9.0->tensorflow-text) (1.14.1)\n",
            "Collecting flatbuffers<2,>=1.12\n",
            "  Downloading flatbuffers-1.12-py2.py3-none-any.whl (15 kB)\n",
            "Requirement already satisfied: opt-einsum>=2.3.2 in /usr/local/lib/python3.7/dist-packages (from tensorflow<2.10,>=2.9.0->tensorflow-text) (3.3.0)\n",
            "Requirement already satisfied: six>=1.12.0 in /usr/local/lib/python3.7/dist-packages (from tensorflow<2.10,>=2.9.0->tensorflow-text) (1.15.0)\n",
            "Requirement already satisfied: tensorflow-io-gcs-filesystem>=0.23.1 in /usr/local/lib/python3.7/dist-packages (from tensorflow<2.10,>=2.9.0->tensorflow-text) (0.26.0)\n",
            "Requirement already satisfied: absl-py>=1.0.0 in /usr/local/lib/python3.7/dist-packages (from tensorflow<2.10,>=2.9.0->tensorflow-text) (1.2.0)\n",
            "Requirement already satisfied: setuptools in /usr/local/lib/python3.7/dist-packages (from tensorflow<2.10,>=2.9.0->tensorflow-text) (57.4.0)\n",
            "Requirement already satisfied: keras-preprocessing>=1.1.1 in /usr/local/lib/python3.7/dist-packages (from tensorflow<2.10,>=2.9.0->tensorflow-text) (1.1.2)\n",
            "Requirement already satisfied: wheel<1.0,>=0.23.0 in /usr/local/lib/python3.7/dist-packages (from astunparse>=1.6.0->tensorflow<2.10,>=2.9.0->tensorflow-text) (0.37.1)\n",
            "Requirement already satisfied: cached-property in /usr/local/lib/python3.7/dist-packages (from h5py>=2.9.0->tensorflow<2.10,>=2.9.0->tensorflow-text) (1.5.2)\n",
            "Requirement already satisfied: google-auth<3,>=1.6.3 in /usr/local/lib/python3.7/dist-packages (from tensorboard<2.10,>=2.9->tensorflow<2.10,>=2.9.0->tensorflow-text) (1.35.0)\n",
            "Requirement already satisfied: requests<3,>=2.21.0 in /usr/local/lib/python3.7/dist-packages (from tensorboard<2.10,>=2.9->tensorflow<2.10,>=2.9.0->tensorflow-text) (2.23.0)\n",
            "Requirement already satisfied: tensorboard-plugin-wit>=1.6.0 in /usr/local/lib/python3.7/dist-packages (from tensorboard<2.10,>=2.9->tensorflow<2.10,>=2.9.0->tensorflow-text) (1.8.1)\n",
            "Requirement already satisfied: werkzeug>=1.0.1 in /usr/local/lib/python3.7/dist-packages (from tensorboard<2.10,>=2.9->tensorflow<2.10,>=2.9.0->tensorflow-text) (1.0.1)\n",
            "Requirement already satisfied: markdown>=2.6.8 in /usr/local/lib/python3.7/dist-packages (from tensorboard<2.10,>=2.9->tensorflow<2.10,>=2.9.0->tensorflow-text) (3.4.1)\n",
            "Requirement already satisfied: tensorboard-data-server<0.7.0,>=0.6.0 in /usr/local/lib/python3.7/dist-packages (from tensorboard<2.10,>=2.9->tensorflow<2.10,>=2.9.0->tensorflow-text) (0.6.1)\n",
            "Requirement already satisfied: google-auth-oauthlib<0.5,>=0.4.1 in /usr/local/lib/python3.7/dist-packages (from tensorboard<2.10,>=2.9->tensorflow<2.10,>=2.9.0->tensorflow-text) (0.4.6)\n",
            "Requirement already satisfied: cachetools<5.0,>=2.0.0 in /usr/local/lib/python3.7/dist-packages (from google-auth<3,>=1.6.3->tensorboard<2.10,>=2.9->tensorflow<2.10,>=2.9.0->tensorflow-text) (4.2.4)\n",
            "Requirement already satisfied: pyasn1-modules>=0.2.1 in /usr/local/lib/python3.7/dist-packages (from google-auth<3,>=1.6.3->tensorboard<2.10,>=2.9->tensorflow<2.10,>=2.9.0->tensorflow-text) (0.2.8)\n",
            "Requirement already satisfied: rsa<5,>=3.1.4 in /usr/local/lib/python3.7/dist-packages (from google-auth<3,>=1.6.3->tensorboard<2.10,>=2.9->tensorflow<2.10,>=2.9.0->tensorflow-text) (4.9)\n",
            "Requirement already satisfied: requests-oauthlib>=0.7.0 in /usr/local/lib/python3.7/dist-packages (from google-auth-oauthlib<0.5,>=0.4.1->tensorboard<2.10,>=2.9->tensorflow<2.10,>=2.9.0->tensorflow-text) (1.3.1)\n",
            "Requirement already satisfied: importlib-metadata>=4.4 in /usr/local/lib/python3.7/dist-packages (from markdown>=2.6.8->tensorboard<2.10,>=2.9->tensorflow<2.10,>=2.9.0->tensorflow-text) (4.12.0)\n",
            "Requirement already satisfied: zipp>=0.5 in /usr/local/lib/python3.7/dist-packages (from importlib-metadata>=4.4->markdown>=2.6.8->tensorboard<2.10,>=2.9->tensorflow<2.10,>=2.9.0->tensorflow-text) (3.8.1)\n",
            "Requirement already satisfied: pyasn1<0.5.0,>=0.4.6 in /usr/local/lib/python3.7/dist-packages (from pyasn1-modules>=0.2.1->google-auth<3,>=1.6.3->tensorboard<2.10,>=2.9->tensorflow<2.10,>=2.9.0->tensorflow-text) (0.4.8)\n",
            "Requirement already satisfied: certifi>=2017.4.17 in /usr/local/lib/python3.7/dist-packages (from requests<3,>=2.21.0->tensorboard<2.10,>=2.9->tensorflow<2.10,>=2.9.0->tensorflow-text) (2022.6.15)\n",
            "Requirement already satisfied: chardet<4,>=3.0.2 in /usr/local/lib/python3.7/dist-packages (from requests<3,>=2.21.0->tensorboard<2.10,>=2.9->tensorflow<2.10,>=2.9.0->tensorflow-text) (3.0.4)\n",
            "Requirement already satisfied: urllib3!=1.25.0,!=1.25.1,<1.26,>=1.21.1 in /usr/local/lib/python3.7/dist-packages (from requests<3,>=2.21.0->tensorboard<2.10,>=2.9->tensorflow<2.10,>=2.9.0->tensorflow-text) (1.24.3)\n",
            "Requirement already satisfied: idna<3,>=2.5 in /usr/local/lib/python3.7/dist-packages (from requests<3,>=2.21.0->tensorboard<2.10,>=2.9->tensorflow<2.10,>=2.9.0->tensorflow-text) (2.10)\n",
            "Requirement already satisfied: oauthlib>=3.0.0 in /usr/local/lib/python3.7/dist-packages (from requests-oauthlib>=0.7.0->google-auth-oauthlib<0.5,>=0.4.1->tensorboard<2.10,>=2.9->tensorflow<2.10,>=2.9.0->tensorflow-text) (3.2.0)\n",
            "Requirement already satisfied: pyparsing!=3.0.5,>=2.0.2 in /usr/local/lib/python3.7/dist-packages (from packaging->tensorflow<2.10,>=2.9.0->tensorflow-text) (3.0.9)\n",
            "Installing collected packages: tensorflow-estimator, tensorboard, keras, gast, flatbuffers, tensorflow, tensorflow-text\n",
            "  Attempting uninstall: tensorflow-estimator\n",
            "    Found existing installation: tensorflow-estimator 2.8.0\n",
            "    Uninstalling tensorflow-estimator-2.8.0:\n",
            "      Successfully uninstalled tensorflow-estimator-2.8.0\n",
            "  Attempting uninstall: tensorboard\n",
            "    Found existing installation: tensorboard 2.8.0\n",
            "    Uninstalling tensorboard-2.8.0:\n",
            "      Successfully uninstalled tensorboard-2.8.0\n",
            "  Attempting uninstall: keras\n",
            "    Found existing installation: keras 2.8.0\n",
            "    Uninstalling keras-2.8.0:\n",
            "      Successfully uninstalled keras-2.8.0\n",
            "  Attempting uninstall: gast\n",
            "    Found existing installation: gast 0.5.3\n",
            "    Uninstalling gast-0.5.3:\n",
            "      Successfully uninstalled gast-0.5.3\n",
            "  Attempting uninstall: flatbuffers\n",
            "    Found existing installation: flatbuffers 2.0\n",
            "    Uninstalling flatbuffers-2.0:\n",
            "      Successfully uninstalled flatbuffers-2.0\n",
            "  Attempting uninstall: tensorflow\n",
            "    Found existing installation: tensorflow 2.8.2+zzzcolab20220719082949\n",
            "    Uninstalling tensorflow-2.8.2+zzzcolab20220719082949:\n",
            "      Successfully uninstalled tensorflow-2.8.2+zzzcolab20220719082949\n",
            "Successfully installed flatbuffers-1.12 gast-0.4.0 keras-2.9.0 tensorboard-2.9.1 tensorflow-2.9.1 tensorflow-estimator-2.9.0 tensorflow-text-2.9.0\n"
          ]
        }
      ]
    },
    {
      "cell_type": "code",
      "source": [
        "# Importing all required libraries\n",
        "\n",
        "import pandas as pd\n",
        "import numpy as np\n",
        "\n",
        "import re\n",
        "import sys\n",
        "\n",
        "import nltk\n",
        "from nltk.corpus import stopwords\n",
        "from nltk.stem.wordnet import WordNetLemmatizer"
      ],
      "metadata": {
        "id": "M_QuSRDVA5n0"
      },
      "execution_count": 2,
      "outputs": []
    },
    {
      "cell_type": "code",
      "source": [
        "#path = \"/content/drive/MyDrive/Capstone_Project/Data\"\n",
        "df_mc = pd.read_csv('/content/drive/MyDrive/Capstone_Project/Data/Data_mc_v3.csv')\n",
        "df_nse = pd.read_csv('/content/drive/MyDrive/Capstone_Project/Data/data_nse_1.csv')\n",
        "df_hdfc = pd.read_csv('/content/drive/MyDrive/Capstone_Project/Data/HDFCBANK.csv')\n",
        "\n",
        "#df_mc = pd.read_csv('/content/Data_mc_v2.csv')\n",
        "#df_nse = pd.read_csv('/content/data_nse_1.csv')\n",
        "\n",
        "# Dataset is now stored in a Pandas Dataframe"
      ],
      "metadata": {
        "id": "79YFVaF_AQPB"
      },
      "execution_count": 3,
      "outputs": []
    },
    {
      "cell_type": "code",
      "source": [
        "# Requirements for nltk\n",
        "nltk.download('stopwords', quiet=True)\n",
        "nltk.download('wordnet', quiet=True)\n",
        "nltk.download('punkt', quiet=True)\n",
        "nltk.download('omw-1.4', quiet=True)"
      ],
      "metadata": {
        "colab": {
          "base_uri": "https://localhost:8080/"
        },
        "id": "Y9lU-ipggZI5",
        "outputId": "756eee7a-1d35-4913-f071-27fef35f273d"
      },
      "execution_count": 4,
      "outputs": [
        {
          "output_type": "execute_result",
          "data": {
            "text/plain": [
              "True"
            ]
          },
          "metadata": {},
          "execution_count": 4
        }
      ]
    },
    {
      "cell_type": "code",
      "source": [
        "# replace punctuations with space\n",
        "def remove_punc(text):\n",
        "  return re.sub('[^a-zA-Z]',' ', str(text))\n",
        "\n",
        "# lower case\n",
        "def lower_case(text):\n",
        "  return text.lower()\n",
        "\n",
        "# Remove tags\n",
        "def remove_tags(text):\n",
        "  return re.sub(\"&lt;/?.*?&gt;\",\"&lt;&gt; \", text)\n",
        "\n",
        "# Remove special characters and digits\n",
        "def remove_special_chars_and_digits(text):\n",
        "  return re.sub(\"(\\\\d|\\\\W)+\",\" \", text)\n",
        "\n",
        "# Create tokens\n",
        "def run_nltk_tokenizer(text):\n",
        "  tokens = nltk.word_tokenize(text)\n",
        "  return tokens\n",
        "\n",
        "# Remove stop words\n",
        "def remove_stop_words(text):\n",
        "  stop_words = set(stopwords.words('english'))-set(['no','not'])\n",
        "  word_tokens =run_nltk_tokenizer(text)\n",
        "  filtered_sentence = []\n",
        "  for w in word_tokens:\n",
        "    if w not in stop_words:\n",
        "      filtered_sentence.append(w)\n",
        "  return filtered_sentence\n",
        "\n",
        "# Perform lemmatization\n",
        "def apply_lemmatization(wlist):\n",
        "  lem= WordNetLemmatizer()\n",
        "  output = ' '.join([lem.lemmatize(w) for w in wlist])\n",
        "  return output\n",
        "\n",
        "# Full Cleaning text\n",
        "def normalize(text):\n",
        "  text = remove_punc(text)\n",
        "  text = lower_case(text)\n",
        "  text = remove_tags(text)\n",
        "  text = remove_special_chars_and_digits(text)\n",
        "  text = remove_stop_words(text)\n",
        "  text = apply_lemmatization(text)\n",
        "  return text"
      ],
      "metadata": {
        "id": "-F5rgNQ3gyyJ"
      },
      "execution_count": 5,
      "outputs": []
    },
    {
      "cell_type": "code",
      "source": [
        "#df_nse.drop('Series',inplace=True,axis=1)\n",
        "df_hdfc.drop('Series',inplace=True,axis=1)"
      ],
      "metadata": {
        "id": "SZV3QkdWBFjB"
      },
      "execution_count": 6,
      "outputs": []
    },
    {
      "cell_type": "code",
      "source": [
        "df_mc.drop(['timestamp','link','author'],inplace=True,axis=1)\n"
      ],
      "metadata": {
        "id": "wJWmOS7KE2mn"
      },
      "execution_count": 7,
      "outputs": []
    },
    {
      "cell_type": "code",
      "source": [
        "df_mc.head()"
      ],
      "metadata": {
        "colab": {
          "base_uri": "https://localhost:8080/",
          "height": 250
        },
        "id": "1ZjuEr3-KzEy",
        "outputId": "b7368890-5322-4ba3-938e-177dcac0ea4d"
      },
      "execution_count": 8,
      "outputs": [
        {
          "output_type": "execute_result",
          "data": {
            "text/plain": [
              "                                               title  \\\n",
              "0  Your life insurance claim would be valid in th...   \n",
              "1  Inflation is a monster that can eat your savin...   \n",
              "2  Motherhood ahead? Plan for your child’s expens...   \n",
              "3  Women can manage money just as well as men. He...   \n",
              "4  Peculiar money challenges for single women acr...   \n",
              "\n",
              "                                                desc  \\\n",
              "0  However, read your policy’s fine print as ther...   \n",
              "1  Most of us focus on savings and forget to inve...   \n",
              "2  The kitty will come in handy in case you need ...   \n",
              "3  Budgeting and finance come naturally to women....   \n",
              "4  There has been a substantial rise in the numbe...   \n",
              "\n",
              "                                             content        Date  \n",
              "0  With an Indian life lost in the war-hit region...  2022-03-07  \n",
              "1  Inflation may be something not many people und...  2022-03-07  \n",
              "2  For most parents-to-be, personal lives take a ...  2022-03-07  \n",
              "3  Take the case of our client Rajani. When she w...  2022-03-08  \n",
              "4  Although the basics of financial planning rema...  2022-03-08  "
            ],
            "text/html": [
              "\n",
              "  <div id=\"df-2526cc06-787d-4548-88a9-8c66930357f5\">\n",
              "    <div class=\"colab-df-container\">\n",
              "      <div>\n",
              "<style scoped>\n",
              "    .dataframe tbody tr th:only-of-type {\n",
              "        vertical-align: middle;\n",
              "    }\n",
              "\n",
              "    .dataframe tbody tr th {\n",
              "        vertical-align: top;\n",
              "    }\n",
              "\n",
              "    .dataframe thead th {\n",
              "        text-align: right;\n",
              "    }\n",
              "</style>\n",
              "<table border=\"1\" class=\"dataframe\">\n",
              "  <thead>\n",
              "    <tr style=\"text-align: right;\">\n",
              "      <th></th>\n",
              "      <th>title</th>\n",
              "      <th>desc</th>\n",
              "      <th>content</th>\n",
              "      <th>Date</th>\n",
              "    </tr>\n",
              "  </thead>\n",
              "  <tbody>\n",
              "    <tr>\n",
              "      <th>0</th>\n",
              "      <td>Your life insurance claim would be valid in th...</td>\n",
              "      <td>However, read your policy’s fine print as ther...</td>\n",
              "      <td>With an Indian life lost in the war-hit region...</td>\n",
              "      <td>2022-03-07</td>\n",
              "    </tr>\n",
              "    <tr>\n",
              "      <th>1</th>\n",
              "      <td>Inflation is a monster that can eat your savin...</td>\n",
              "      <td>Most of us focus on savings and forget to inve...</td>\n",
              "      <td>Inflation may be something not many people und...</td>\n",
              "      <td>2022-03-07</td>\n",
              "    </tr>\n",
              "    <tr>\n",
              "      <th>2</th>\n",
              "      <td>Motherhood ahead? Plan for your child’s expens...</td>\n",
              "      <td>The kitty will come in handy in case you need ...</td>\n",
              "      <td>For most parents-to-be, personal lives take a ...</td>\n",
              "      <td>2022-03-07</td>\n",
              "    </tr>\n",
              "    <tr>\n",
              "      <th>3</th>\n",
              "      <td>Women can manage money just as well as men. He...</td>\n",
              "      <td>Budgeting and finance come naturally to women....</td>\n",
              "      <td>Take the case of our client Rajani. When she w...</td>\n",
              "      <td>2022-03-08</td>\n",
              "    </tr>\n",
              "    <tr>\n",
              "      <th>4</th>\n",
              "      <td>Peculiar money challenges for single women acr...</td>\n",
              "      <td>There has been a substantial rise in the numbe...</td>\n",
              "      <td>Although the basics of financial planning rema...</td>\n",
              "      <td>2022-03-08</td>\n",
              "    </tr>\n",
              "  </tbody>\n",
              "</table>\n",
              "</div>\n",
              "      <button class=\"colab-df-convert\" onclick=\"convertToInteractive('df-2526cc06-787d-4548-88a9-8c66930357f5')\"\n",
              "              title=\"Convert this dataframe to an interactive table.\"\n",
              "              style=\"display:none;\">\n",
              "        \n",
              "  <svg xmlns=\"http://www.w3.org/2000/svg\" height=\"24px\"viewBox=\"0 0 24 24\"\n",
              "       width=\"24px\">\n",
              "    <path d=\"M0 0h24v24H0V0z\" fill=\"none\"/>\n",
              "    <path d=\"M18.56 5.44l.94 2.06.94-2.06 2.06-.94-2.06-.94-.94-2.06-.94 2.06-2.06.94zm-11 1L8.5 8.5l.94-2.06 2.06-.94-2.06-.94L8.5 2.5l-.94 2.06-2.06.94zm10 10l.94 2.06.94-2.06 2.06-.94-2.06-.94-.94-2.06-.94 2.06-2.06.94z\"/><path d=\"M17.41 7.96l-1.37-1.37c-.4-.4-.92-.59-1.43-.59-.52 0-1.04.2-1.43.59L10.3 9.45l-7.72 7.72c-.78.78-.78 2.05 0 2.83L4 21.41c.39.39.9.59 1.41.59.51 0 1.02-.2 1.41-.59l7.78-7.78 2.81-2.81c.8-.78.8-2.07 0-2.86zM5.41 20L4 18.59l7.72-7.72 1.47 1.35L5.41 20z\"/>\n",
              "  </svg>\n",
              "      </button>\n",
              "      \n",
              "  <style>\n",
              "    .colab-df-container {\n",
              "      display:flex;\n",
              "      flex-wrap:wrap;\n",
              "      gap: 12px;\n",
              "    }\n",
              "\n",
              "    .colab-df-convert {\n",
              "      background-color: #E8F0FE;\n",
              "      border: none;\n",
              "      border-radius: 50%;\n",
              "      cursor: pointer;\n",
              "      display: none;\n",
              "      fill: #1967D2;\n",
              "      height: 32px;\n",
              "      padding: 0 0 0 0;\n",
              "      width: 32px;\n",
              "    }\n",
              "\n",
              "    .colab-df-convert:hover {\n",
              "      background-color: #E2EBFA;\n",
              "      box-shadow: 0px 1px 2px rgba(60, 64, 67, 0.3), 0px 1px 3px 1px rgba(60, 64, 67, 0.15);\n",
              "      fill: #174EA6;\n",
              "    }\n",
              "\n",
              "    [theme=dark] .colab-df-convert {\n",
              "      background-color: #3B4455;\n",
              "      fill: #D2E3FC;\n",
              "    }\n",
              "\n",
              "    [theme=dark] .colab-df-convert:hover {\n",
              "      background-color: #434B5C;\n",
              "      box-shadow: 0px 1px 3px 1px rgba(0, 0, 0, 0.15);\n",
              "      filter: drop-shadow(0px 1px 2px rgba(0, 0, 0, 0.3));\n",
              "      fill: #FFFFFF;\n",
              "    }\n",
              "  </style>\n",
              "\n",
              "      <script>\n",
              "        const buttonEl =\n",
              "          document.querySelector('#df-2526cc06-787d-4548-88a9-8c66930357f5 button.colab-df-convert');\n",
              "        buttonEl.style.display =\n",
              "          google.colab.kernel.accessAllowed ? 'block' : 'none';\n",
              "\n",
              "        async function convertToInteractive(key) {\n",
              "          const element = document.querySelector('#df-2526cc06-787d-4548-88a9-8c66930357f5');\n",
              "          const dataTable =\n",
              "            await google.colab.kernel.invokeFunction('convertToInteractive',\n",
              "                                                     [key], {});\n",
              "          if (!dataTable) return;\n",
              "\n",
              "          const docLinkHtml = 'Like what you see? Visit the ' +\n",
              "            '<a target=\"_blank\" href=https://colab.research.google.com/notebooks/data_table.ipynb>data table notebook</a>'\n",
              "            + ' to learn more about interactive tables.';\n",
              "          element.innerHTML = '';\n",
              "          dataTable['output_type'] = 'display_data';\n",
              "          await google.colab.output.renderOutput(dataTable, element);\n",
              "          const docLink = document.createElement('div');\n",
              "          docLink.innerHTML = docLinkHtml;\n",
              "          element.appendChild(docLink);\n",
              "        }\n",
              "      </script>\n",
              "    </div>\n",
              "  </div>\n",
              "  "
            ]
          },
          "metadata": {},
          "execution_count": 8
        }
      ]
    },
    {
      "cell_type": "code",
      "source": [
        "#df_nse.head()\n",
        "df_hdfc.tail()"
      ],
      "metadata": {
        "colab": {
          "base_uri": "https://localhost:8080/",
          "height": 354
        },
        "id": "A8vrFmCpKzMn",
        "outputId": "9ff673d1-ccd0-4022-b6db-ebb89de62b7a"
      },
      "execution_count": 9,
      "outputs": [
        {
          "output_type": "execute_result",
          "data": {
            "text/plain": [
              "        Symbol        Date  Prev Close     Open     High      Low     Last  \\\n",
              "1368  HDFCBANK  2022-07-11     1397.10  1394.00  1409.90  1393.25  1403.20   \n",
              "1369  HDFCBANK  2022-07-12     1406.15  1405.25  1405.25  1389.40  1391.20   \n",
              "1370  HDFCBANK  2022-07-13     1391.80  1390.00  1394.20  1354.25  1359.55   \n",
              "1371  HDFCBANK  2022-07-14     1357.85  1362.00  1372.65  1349.25  1352.00   \n",
              "1372  HDFCBANK  2022-07-15     1351.05  1353.00  1364.90  1346.80  1364.00   \n",
              "\n",
              "        Close     VWAP   Volume      Turnover  Trades  Deliverable Volume  \\\n",
              "1368  1406.15  1403.07  3731440  5.235481e+14  115690             2385267   \n",
              "1369  1391.80  1395.12  4938487  6.889788e+14  107652             3382902   \n",
              "1370  1357.85  1371.20  7972805  1.093230e+15  185857             5063094   \n",
              "1371  1351.05  1359.74  5186205  7.051894e+14  156703             2992747   \n",
              "1372  1362.05  1357.60  6797823  9.228735e+14  126512             4710365   \n",
              "\n",
              "      %Deliverble  \n",
              "1368       0.6392  \n",
              "1369       0.6850  \n",
              "1370       0.6350  \n",
              "1371       0.5771  \n",
              "1372       0.6929  "
            ],
            "text/html": [
              "\n",
              "  <div id=\"df-61d269b4-3966-4d91-8aef-4f34aa5b3578\">\n",
              "    <div class=\"colab-df-container\">\n",
              "      <div>\n",
              "<style scoped>\n",
              "    .dataframe tbody tr th:only-of-type {\n",
              "        vertical-align: middle;\n",
              "    }\n",
              "\n",
              "    .dataframe tbody tr th {\n",
              "        vertical-align: top;\n",
              "    }\n",
              "\n",
              "    .dataframe thead th {\n",
              "        text-align: right;\n",
              "    }\n",
              "</style>\n",
              "<table border=\"1\" class=\"dataframe\">\n",
              "  <thead>\n",
              "    <tr style=\"text-align: right;\">\n",
              "      <th></th>\n",
              "      <th>Symbol</th>\n",
              "      <th>Date</th>\n",
              "      <th>Prev Close</th>\n",
              "      <th>Open</th>\n",
              "      <th>High</th>\n",
              "      <th>Low</th>\n",
              "      <th>Last</th>\n",
              "      <th>Close</th>\n",
              "      <th>VWAP</th>\n",
              "      <th>Volume</th>\n",
              "      <th>Turnover</th>\n",
              "      <th>Trades</th>\n",
              "      <th>Deliverable Volume</th>\n",
              "      <th>%Deliverble</th>\n",
              "    </tr>\n",
              "  </thead>\n",
              "  <tbody>\n",
              "    <tr>\n",
              "      <th>1368</th>\n",
              "      <td>HDFCBANK</td>\n",
              "      <td>2022-07-11</td>\n",
              "      <td>1397.10</td>\n",
              "      <td>1394.00</td>\n",
              "      <td>1409.90</td>\n",
              "      <td>1393.25</td>\n",
              "      <td>1403.20</td>\n",
              "      <td>1406.15</td>\n",
              "      <td>1403.07</td>\n",
              "      <td>3731440</td>\n",
              "      <td>5.235481e+14</td>\n",
              "      <td>115690</td>\n",
              "      <td>2385267</td>\n",
              "      <td>0.6392</td>\n",
              "    </tr>\n",
              "    <tr>\n",
              "      <th>1369</th>\n",
              "      <td>HDFCBANK</td>\n",
              "      <td>2022-07-12</td>\n",
              "      <td>1406.15</td>\n",
              "      <td>1405.25</td>\n",
              "      <td>1405.25</td>\n",
              "      <td>1389.40</td>\n",
              "      <td>1391.20</td>\n",
              "      <td>1391.80</td>\n",
              "      <td>1395.12</td>\n",
              "      <td>4938487</td>\n",
              "      <td>6.889788e+14</td>\n",
              "      <td>107652</td>\n",
              "      <td>3382902</td>\n",
              "      <td>0.6850</td>\n",
              "    </tr>\n",
              "    <tr>\n",
              "      <th>1370</th>\n",
              "      <td>HDFCBANK</td>\n",
              "      <td>2022-07-13</td>\n",
              "      <td>1391.80</td>\n",
              "      <td>1390.00</td>\n",
              "      <td>1394.20</td>\n",
              "      <td>1354.25</td>\n",
              "      <td>1359.55</td>\n",
              "      <td>1357.85</td>\n",
              "      <td>1371.20</td>\n",
              "      <td>7972805</td>\n",
              "      <td>1.093230e+15</td>\n",
              "      <td>185857</td>\n",
              "      <td>5063094</td>\n",
              "      <td>0.6350</td>\n",
              "    </tr>\n",
              "    <tr>\n",
              "      <th>1371</th>\n",
              "      <td>HDFCBANK</td>\n",
              "      <td>2022-07-14</td>\n",
              "      <td>1357.85</td>\n",
              "      <td>1362.00</td>\n",
              "      <td>1372.65</td>\n",
              "      <td>1349.25</td>\n",
              "      <td>1352.00</td>\n",
              "      <td>1351.05</td>\n",
              "      <td>1359.74</td>\n",
              "      <td>5186205</td>\n",
              "      <td>7.051894e+14</td>\n",
              "      <td>156703</td>\n",
              "      <td>2992747</td>\n",
              "      <td>0.5771</td>\n",
              "    </tr>\n",
              "    <tr>\n",
              "      <th>1372</th>\n",
              "      <td>HDFCBANK</td>\n",
              "      <td>2022-07-15</td>\n",
              "      <td>1351.05</td>\n",
              "      <td>1353.00</td>\n",
              "      <td>1364.90</td>\n",
              "      <td>1346.80</td>\n",
              "      <td>1364.00</td>\n",
              "      <td>1362.05</td>\n",
              "      <td>1357.60</td>\n",
              "      <td>6797823</td>\n",
              "      <td>9.228735e+14</td>\n",
              "      <td>126512</td>\n",
              "      <td>4710365</td>\n",
              "      <td>0.6929</td>\n",
              "    </tr>\n",
              "  </tbody>\n",
              "</table>\n",
              "</div>\n",
              "      <button class=\"colab-df-convert\" onclick=\"convertToInteractive('df-61d269b4-3966-4d91-8aef-4f34aa5b3578')\"\n",
              "              title=\"Convert this dataframe to an interactive table.\"\n",
              "              style=\"display:none;\">\n",
              "        \n",
              "  <svg xmlns=\"http://www.w3.org/2000/svg\" height=\"24px\"viewBox=\"0 0 24 24\"\n",
              "       width=\"24px\">\n",
              "    <path d=\"M0 0h24v24H0V0z\" fill=\"none\"/>\n",
              "    <path d=\"M18.56 5.44l.94 2.06.94-2.06 2.06-.94-2.06-.94-.94-2.06-.94 2.06-2.06.94zm-11 1L8.5 8.5l.94-2.06 2.06-.94-2.06-.94L8.5 2.5l-.94 2.06-2.06.94zm10 10l.94 2.06.94-2.06 2.06-.94-2.06-.94-.94-2.06-.94 2.06-2.06.94z\"/><path d=\"M17.41 7.96l-1.37-1.37c-.4-.4-.92-.59-1.43-.59-.52 0-1.04.2-1.43.59L10.3 9.45l-7.72 7.72c-.78.78-.78 2.05 0 2.83L4 21.41c.39.39.9.59 1.41.59.51 0 1.02-.2 1.41-.59l7.78-7.78 2.81-2.81c.8-.78.8-2.07 0-2.86zM5.41 20L4 18.59l7.72-7.72 1.47 1.35L5.41 20z\"/>\n",
              "  </svg>\n",
              "      </button>\n",
              "      \n",
              "  <style>\n",
              "    .colab-df-container {\n",
              "      display:flex;\n",
              "      flex-wrap:wrap;\n",
              "      gap: 12px;\n",
              "    }\n",
              "\n",
              "    .colab-df-convert {\n",
              "      background-color: #E8F0FE;\n",
              "      border: none;\n",
              "      border-radius: 50%;\n",
              "      cursor: pointer;\n",
              "      display: none;\n",
              "      fill: #1967D2;\n",
              "      height: 32px;\n",
              "      padding: 0 0 0 0;\n",
              "      width: 32px;\n",
              "    }\n",
              "\n",
              "    .colab-df-convert:hover {\n",
              "      background-color: #E2EBFA;\n",
              "      box-shadow: 0px 1px 2px rgba(60, 64, 67, 0.3), 0px 1px 3px 1px rgba(60, 64, 67, 0.15);\n",
              "      fill: #174EA6;\n",
              "    }\n",
              "\n",
              "    [theme=dark] .colab-df-convert {\n",
              "      background-color: #3B4455;\n",
              "      fill: #D2E3FC;\n",
              "    }\n",
              "\n",
              "    [theme=dark] .colab-df-convert:hover {\n",
              "      background-color: #434B5C;\n",
              "      box-shadow: 0px 1px 3px 1px rgba(0, 0, 0, 0.15);\n",
              "      filter: drop-shadow(0px 1px 2px rgba(0, 0, 0, 0.3));\n",
              "      fill: #FFFFFF;\n",
              "    }\n",
              "  </style>\n",
              "\n",
              "      <script>\n",
              "        const buttonEl =\n",
              "          document.querySelector('#df-61d269b4-3966-4d91-8aef-4f34aa5b3578 button.colab-df-convert');\n",
              "        buttonEl.style.display =\n",
              "          google.colab.kernel.accessAllowed ? 'block' : 'none';\n",
              "\n",
              "        async function convertToInteractive(key) {\n",
              "          const element = document.querySelector('#df-61d269b4-3966-4d91-8aef-4f34aa5b3578');\n",
              "          const dataTable =\n",
              "            await google.colab.kernel.invokeFunction('convertToInteractive',\n",
              "                                                     [key], {});\n",
              "          if (!dataTable) return;\n",
              "\n",
              "          const docLinkHtml = 'Like what you see? Visit the ' +\n",
              "            '<a target=\"_blank\" href=https://colab.research.google.com/notebooks/data_table.ipynb>data table notebook</a>'\n",
              "            + ' to learn more about interactive tables.';\n",
              "          element.innerHTML = '';\n",
              "          dataTable['output_type'] = 'display_data';\n",
              "          await google.colab.output.renderOutput(dataTable, element);\n",
              "          const docLink = document.createElement('div');\n",
              "          docLink.innerHTML = docLinkHtml;\n",
              "          element.appendChild(docLink);\n",
              "        }\n",
              "      </script>\n",
              "    </div>\n",
              "  </div>\n",
              "  "
            ]
          },
          "metadata": {},
          "execution_count": 9
        }
      ]
    },
    {
      "cell_type": "code",
      "source": [
        "df1= df_hdfc[df_hdfc.Date>='2022-03-07']"
      ],
      "metadata": {
        "id": "6zXJ75ARi0uI"
      },
      "execution_count": 10,
      "outputs": []
    },
    {
      "cell_type": "code",
      "source": [
        "df1.shape"
      ],
      "metadata": {
        "colab": {
          "base_uri": "https://localhost:8080/"
        },
        "id": "0qNomE0JqOJd",
        "outputId": "344851a9-ed67-4ef8-c9fd-c19d0e23dd7f"
      },
      "execution_count": 11,
      "outputs": [
        {
          "output_type": "execute_result",
          "data": {
            "text/plain": [
              "(91, 14)"
            ]
          },
          "metadata": {},
          "execution_count": 11
        }
      ]
    },
    {
      "cell_type": "code",
      "source": [
        "df_mc.shape"
      ],
      "metadata": {
        "colab": {
          "base_uri": "https://localhost:8080/"
        },
        "id": "KF9mOZEYkYjE",
        "outputId": "47b7c209-a39f-4781-bd31-71f81e91c53c"
      },
      "execution_count": 12,
      "outputs": [
        {
          "output_type": "execute_result",
          "data": {
            "text/plain": [
              "(3233, 4)"
            ]
          },
          "metadata": {},
          "execution_count": 12
        }
      ]
    },
    {
      "cell_type": "markdown",
      "source": [
        "# Text Processing"
      ],
      "metadata": {
        "id": "IoKsSo5CkDBf"
      }
    },
    {
      "cell_type": "code",
      "source": [
        "df_mc['cleaned_title']=df_mc['title'].apply(normalize)"
      ],
      "metadata": {
        "id": "FYfG58NTrsLe"
      },
      "execution_count": 13,
      "outputs": []
    },
    {
      "cell_type": "code",
      "source": [
        "df_mc['cleaned_desc']=df_mc['desc'].apply(normalize)"
      ],
      "metadata": {
        "id": "sxs5BZ90r5BV"
      },
      "execution_count": 14,
      "outputs": []
    },
    {
      "cell_type": "code",
      "source": [
        "df_mc['cleaned_content']=df_mc['content'].apply(normalize)"
      ],
      "metadata": {
        "id": "ZajYRkXmr8Sf"
      },
      "execution_count": 15,
      "outputs": []
    },
    {
      "cell_type": "code",
      "source": [
        "df_mc.info()"
      ],
      "metadata": {
        "colab": {
          "base_uri": "https://localhost:8080/"
        },
        "id": "mb9ugK8hOc3y",
        "outputId": "57cf2a58-8269-42ee-fbc7-78f61549a1a1"
      },
      "execution_count": 16,
      "outputs": [
        {
          "output_type": "stream",
          "name": "stdout",
          "text": [
            "<class 'pandas.core.frame.DataFrame'>\n",
            "RangeIndex: 3233 entries, 0 to 3232\n",
            "Data columns (total 7 columns):\n",
            " #   Column           Non-Null Count  Dtype \n",
            "---  ------           --------------  ----- \n",
            " 0   title            3233 non-null   object\n",
            " 1   desc             2889 non-null   object\n",
            " 2   content          3057 non-null   object\n",
            " 3   Date             3233 non-null   object\n",
            " 4   cleaned_title    3233 non-null   object\n",
            " 5   cleaned_desc     3233 non-null   object\n",
            " 6   cleaned_content  3233 non-null   object\n",
            "dtypes: object(7)\n",
            "memory usage: 176.9+ KB\n"
          ]
        }
      ]
    },
    {
      "cell_type": "markdown",
      "source": [
        "# Group df_mc by date"
      ],
      "metadata": {
        "id": "Tse5SgGxK8ex"
      }
    },
    {
      "cell_type": "code",
      "source": [
        "a=df_mc.astype({\"desc\": str, \"content\": str}).groupby('Date', as_index = False) # Removes null values in content column\n",
        "A=a.agg({'cleaned_title': ' '.join,\n",
        "       'cleaned_desc': ' '.join,\n",
        "      'cleaned_content': ' '.join})"
      ],
      "metadata": {
        "id": "_Xx4nrduNH2s"
      },
      "execution_count": 17,
      "outputs": []
    },
    {
      "cell_type": "code",
      "source": [
        "A.head()"
      ],
      "metadata": {
        "colab": {
          "base_uri": "https://localhost:8080/",
          "height": 0
        },
        "id": "w8WwFOZPUdU0",
        "outputId": "820aa22a-90ad-4a84-c64b-c3eaafcd6c72"
      },
      "execution_count": 18,
      "outputs": [
        {
          "output_type": "execute_result",
          "data": {
            "text/plain": [
              "         Date                                      cleaned_title  \\\n",
              "0  2022-03-07  life insurance claim would valid case death du...   \n",
              "1  2022-03-08  woman manage money well men step peculiar mone...   \n",
              "2  2022-03-09  sell equity buy gold instead amfi see uptick f...   \n",
              "3  2022-03-10  planning summer holiday five co branded airlin...   \n",
              "4  2022-03-11  explained crypto taxation work india hypertens...   \n",
              "\n",
              "                                        cleaned_desc  \\\n",
              "0  however read policy fine print could certain e...   \n",
              "1  budgeting finance come naturally woman yet shy...   \n",
              "2  risk taking investor follow extreme strategy s...   \n",
              "3  frequent traveller loyal airline airline co br...   \n",
              "4  loss arising crypto trading not offset kind in...   \n",
              "\n",
              "                                     cleaned_content  \n",
              "0  indian life lost war hit region ukraine concer...  \n",
              "1  take case client rajani single father used tak...  \n",
              "2  fall stock price make many investor nervous es...  \n",
              "3  nan investor withdrawal across several debt sc...  \n",
              "4  profit profit loss loss goi no set loss arisin...  "
            ],
            "text/html": [
              "\n",
              "  <div id=\"df-53e3d5fa-1754-45e8-b1b1-9c670cb0940f\">\n",
              "    <div class=\"colab-df-container\">\n",
              "      <div>\n",
              "<style scoped>\n",
              "    .dataframe tbody tr th:only-of-type {\n",
              "        vertical-align: middle;\n",
              "    }\n",
              "\n",
              "    .dataframe tbody tr th {\n",
              "        vertical-align: top;\n",
              "    }\n",
              "\n",
              "    .dataframe thead th {\n",
              "        text-align: right;\n",
              "    }\n",
              "</style>\n",
              "<table border=\"1\" class=\"dataframe\">\n",
              "  <thead>\n",
              "    <tr style=\"text-align: right;\">\n",
              "      <th></th>\n",
              "      <th>Date</th>\n",
              "      <th>cleaned_title</th>\n",
              "      <th>cleaned_desc</th>\n",
              "      <th>cleaned_content</th>\n",
              "    </tr>\n",
              "  </thead>\n",
              "  <tbody>\n",
              "    <tr>\n",
              "      <th>0</th>\n",
              "      <td>2022-03-07</td>\n",
              "      <td>life insurance claim would valid case death du...</td>\n",
              "      <td>however read policy fine print could certain e...</td>\n",
              "      <td>indian life lost war hit region ukraine concer...</td>\n",
              "    </tr>\n",
              "    <tr>\n",
              "      <th>1</th>\n",
              "      <td>2022-03-08</td>\n",
              "      <td>woman manage money well men step peculiar mone...</td>\n",
              "      <td>budgeting finance come naturally woman yet shy...</td>\n",
              "      <td>take case client rajani single father used tak...</td>\n",
              "    </tr>\n",
              "    <tr>\n",
              "      <th>2</th>\n",
              "      <td>2022-03-09</td>\n",
              "      <td>sell equity buy gold instead amfi see uptick f...</td>\n",
              "      <td>risk taking investor follow extreme strategy s...</td>\n",
              "      <td>fall stock price make many investor nervous es...</td>\n",
              "    </tr>\n",
              "    <tr>\n",
              "      <th>3</th>\n",
              "      <td>2022-03-10</td>\n",
              "      <td>planning summer holiday five co branded airlin...</td>\n",
              "      <td>frequent traveller loyal airline airline co br...</td>\n",
              "      <td>nan investor withdrawal across several debt sc...</td>\n",
              "    </tr>\n",
              "    <tr>\n",
              "      <th>4</th>\n",
              "      <td>2022-03-11</td>\n",
              "      <td>explained crypto taxation work india hypertens...</td>\n",
              "      <td>loss arising crypto trading not offset kind in...</td>\n",
              "      <td>profit profit loss loss goi no set loss arisin...</td>\n",
              "    </tr>\n",
              "  </tbody>\n",
              "</table>\n",
              "</div>\n",
              "      <button class=\"colab-df-convert\" onclick=\"convertToInteractive('df-53e3d5fa-1754-45e8-b1b1-9c670cb0940f')\"\n",
              "              title=\"Convert this dataframe to an interactive table.\"\n",
              "              style=\"display:none;\">\n",
              "        \n",
              "  <svg xmlns=\"http://www.w3.org/2000/svg\" height=\"24px\"viewBox=\"0 0 24 24\"\n",
              "       width=\"24px\">\n",
              "    <path d=\"M0 0h24v24H0V0z\" fill=\"none\"/>\n",
              "    <path d=\"M18.56 5.44l.94 2.06.94-2.06 2.06-.94-2.06-.94-.94-2.06-.94 2.06-2.06.94zm-11 1L8.5 8.5l.94-2.06 2.06-.94-2.06-.94L8.5 2.5l-.94 2.06-2.06.94zm10 10l.94 2.06.94-2.06 2.06-.94-2.06-.94-.94-2.06-.94 2.06-2.06.94z\"/><path d=\"M17.41 7.96l-1.37-1.37c-.4-.4-.92-.59-1.43-.59-.52 0-1.04.2-1.43.59L10.3 9.45l-7.72 7.72c-.78.78-.78 2.05 0 2.83L4 21.41c.39.39.9.59 1.41.59.51 0 1.02-.2 1.41-.59l7.78-7.78 2.81-2.81c.8-.78.8-2.07 0-2.86zM5.41 20L4 18.59l7.72-7.72 1.47 1.35L5.41 20z\"/>\n",
              "  </svg>\n",
              "      </button>\n",
              "      \n",
              "  <style>\n",
              "    .colab-df-container {\n",
              "      display:flex;\n",
              "      flex-wrap:wrap;\n",
              "      gap: 12px;\n",
              "    }\n",
              "\n",
              "    .colab-df-convert {\n",
              "      background-color: #E8F0FE;\n",
              "      border: none;\n",
              "      border-radius: 50%;\n",
              "      cursor: pointer;\n",
              "      display: none;\n",
              "      fill: #1967D2;\n",
              "      height: 32px;\n",
              "      padding: 0 0 0 0;\n",
              "      width: 32px;\n",
              "    }\n",
              "\n",
              "    .colab-df-convert:hover {\n",
              "      background-color: #E2EBFA;\n",
              "      box-shadow: 0px 1px 2px rgba(60, 64, 67, 0.3), 0px 1px 3px 1px rgba(60, 64, 67, 0.15);\n",
              "      fill: #174EA6;\n",
              "    }\n",
              "\n",
              "    [theme=dark] .colab-df-convert {\n",
              "      background-color: #3B4455;\n",
              "      fill: #D2E3FC;\n",
              "    }\n",
              "\n",
              "    [theme=dark] .colab-df-convert:hover {\n",
              "      background-color: #434B5C;\n",
              "      box-shadow: 0px 1px 3px 1px rgba(0, 0, 0, 0.15);\n",
              "      filter: drop-shadow(0px 1px 2px rgba(0, 0, 0, 0.3));\n",
              "      fill: #FFFFFF;\n",
              "    }\n",
              "  </style>\n",
              "\n",
              "      <script>\n",
              "        const buttonEl =\n",
              "          document.querySelector('#df-53e3d5fa-1754-45e8-b1b1-9c670cb0940f button.colab-df-convert');\n",
              "        buttonEl.style.display =\n",
              "          google.colab.kernel.accessAllowed ? 'block' : 'none';\n",
              "\n",
              "        async function convertToInteractive(key) {\n",
              "          const element = document.querySelector('#df-53e3d5fa-1754-45e8-b1b1-9c670cb0940f');\n",
              "          const dataTable =\n",
              "            await google.colab.kernel.invokeFunction('convertToInteractive',\n",
              "                                                     [key], {});\n",
              "          if (!dataTable) return;\n",
              "\n",
              "          const docLinkHtml = 'Like what you see? Visit the ' +\n",
              "            '<a target=\"_blank\" href=https://colab.research.google.com/notebooks/data_table.ipynb>data table notebook</a>'\n",
              "            + ' to learn more about interactive tables.';\n",
              "          element.innerHTML = '';\n",
              "          dataTable['output_type'] = 'display_data';\n",
              "          await google.colab.output.renderOutput(dataTable, element);\n",
              "          const docLink = document.createElement('div');\n",
              "          docLink.innerHTML = docLinkHtml;\n",
              "          element.appendChild(docLink);\n",
              "        }\n",
              "      </script>\n",
              "    </div>\n",
              "  </div>\n",
              "  "
            ]
          },
          "metadata": {},
          "execution_count": 18
        }
      ]
    },
    {
      "cell_type": "code",
      "source": [
        "A.Date[-5:]"
      ],
      "metadata": {
        "colab": {
          "base_uri": "https://localhost:8080/"
        },
        "id": "w2Wy6ynPlsBJ",
        "outputId": "868b6953-7532-4992-b49d-5ef450f26ea9"
      },
      "execution_count": 19,
      "outputs": [
        {
          "output_type": "execute_result",
          "data": {
            "text/plain": [
              "117    2022-07-17\n",
              "118    2022-07-18\n",
              "119    2022-07-28\n",
              "120    2022-07-29\n",
              "121    2022-07-30\n",
              "Name: Date, dtype: object"
            ]
          },
          "metadata": {},
          "execution_count": 19
        }
      ]
    },
    {
      "cell_type": "code",
      "source": [
        "B=A.copy()"
      ],
      "metadata": {
        "id": "QzwaKwEUUvJx"
      },
      "execution_count": 20,
      "outputs": []
    },
    {
      "cell_type": "code",
      "source": [
        "C=A[A.Date<='2022-07-15']"
      ],
      "metadata": {
        "id": "xp8mkfTTuli5"
      },
      "execution_count": 21,
      "outputs": []
    },
    {
      "cell_type": "code",
      "source": [
        "#B.drop(index=[116,117,118],inplace=True) # removing dates to match MCtrl data"
      ],
      "metadata": {
        "id": "dBw97v_tUxOh"
      },
      "execution_count": 22,
      "outputs": []
    },
    {
      "cell_type": "code",
      "source": [
        "'''def dataframe_date_creation(start_date, end_date):\n",
        "\n",
        "  \"Create a dataframe consisting of dates from start date to end date in str format\"\n",
        "\n",
        "  date_range=pd.date_range(start=start_date,end=end_date) # Create a date range, enter date in yyyy-mm-dd format\n",
        "  df = pd.DataFrame(data=date_range, columns=['Date']) # Create dataframe with date as datetime type\n",
        "\n",
        "  df['Date']=pd.to_datetime(df['Date'],format='%d-%m-%y').dt.date #date only dd-mm-yyyy format\n",
        "  df['Date']=df['Date'].astype(str) # Convert to str\n",
        "\n",
        "  return df\n",
        "'''"
      ],
      "metadata": {
        "id": "T4RQt7t0MXif",
        "colab": {
          "base_uri": "https://localhost:8080/",
          "height": 0
        },
        "outputId": "ef910545-d5c8-4bc6-90ee-b13a1401d1d9"
      },
      "execution_count": 23,
      "outputs": [
        {
          "output_type": "execute_result",
          "data": {
            "text/plain": [
              "'def dataframe_date_creation(start_date, end_date):\\n\\n  \"Create a dataframe consisting of dates from start date to end date in str format\"\\n\\n  date_range=pd.date_range(start=start_date,end=end_date) # Create a date range, enter date in yyyy-mm-dd format\\n  df = pd.DataFrame(data=date_range, columns=[\\'Date\\']) # Create dataframe with date as datetime type\\n\\n  df[\\'Date\\']=pd.to_datetime(df[\\'Date\\'],format=\\'%d-%m-%y\\').dt.date #date only dd-mm-yyyy format\\n  df[\\'Date\\']=df[\\'Date\\'].astype(str) # Convert to str\\n\\n  return df\\n'"
            ],
            "application/vnd.google.colaboratory.intrinsic+json": {
              "type": "string"
            }
          },
          "metadata": {},
          "execution_count": 23
        }
      ]
    },
    {
      "cell_type": "code",
      "source": [
        "#dfnew = dataframe_date_creation(\"2022-03-07\",\"2022-07-15\")"
      ],
      "metadata": {
        "id": "29gKgZeUNQEi"
      },
      "execution_count": 24,
      "outputs": []
    },
    {
      "cell_type": "code",
      "source": [
        "#pd.merge(left=df_hdfc, right=B, on= 'Date', how='outer').to_csv('hdfcmergeouter.csv')#join1=\n",
        "#merged_df = left.merge(right, on='P', how='outer')"
      ],
      "metadata": {
        "id": "B3cLiSFaQHL1"
      },
      "execution_count": 25,
      "outputs": []
    },
    {
      "cell_type": "code",
      "source": [
        "join1=pd.merge(left=df1, right=C, on= 'Date', how='outer')#.to_csv('hdfcmergeouter_samedates.csv')#join1="
      ],
      "metadata": {
        "id": "oe2p9mFHvH_6"
      },
      "execution_count": 26,
      "outputs": []
    },
    {
      "cell_type": "code",
      "source": [
        "join1.head()"
      ],
      "metadata": {
        "colab": {
          "base_uri": "https://localhost:8080/",
          "height": 0
        },
        "id": "6e3NwFKrpWqF",
        "outputId": "217f0aae-4e43-4853-8cd4-b082a338510a"
      },
      "execution_count": 27,
      "outputs": [
        {
          "output_type": "execute_result",
          "data": {
            "text/plain": [
              "     Symbol        Date  Prev Close    Open     High      Low     Last  \\\n",
              "0  HDFCBANK  2022-03-07     1366.50  1318.5  1332.35  1297.05  1326.00   \n",
              "1  HDFCBANK  2022-03-08     1324.80  1302.2  1334.00  1292.00  1333.00   \n",
              "2  HDFCBANK  2022-03-09     1327.80  1330.0  1374.70  1318.85  1371.05   \n",
              "3  HDFCBANK  2022-03-10     1371.15  1427.0  1427.00  1380.25  1388.90   \n",
              "4  HDFCBANK  2022-03-11     1392.70  1388.0  1408.95  1372.70  1396.00   \n",
              "\n",
              "     Close     VWAP      Volume      Turnover    Trades  Deliverable Volume  \\\n",
              "0  1324.80  1314.70  13527229.0  1.778424e+15  426139.0           8418793.0   \n",
              "1  1327.80  1305.18  19606246.0  2.558968e+15  527016.0          11934591.0   \n",
              "2  1371.15  1347.62  11567347.0  1.558836e+15  330592.0           7459892.0   \n",
              "3  1392.70  1404.82  11136603.0  1.564487e+15  277256.0           5815424.0   \n",
              "4  1396.80  1396.47   7575390.0  1.057880e+15  204283.0           4434451.0   \n",
              "\n",
              "   %Deliverble                                      cleaned_title  \\\n",
              "0       0.6224  life insurance claim would valid case death du...   \n",
              "1       0.6087  woman manage money well men step peculiar mone...   \n",
              "2       0.6449  sell equity buy gold instead amfi see uptick f...   \n",
              "3       0.5222  planning summer holiday five co branded airlin...   \n",
              "4       0.5854  explained crypto taxation work india hypertens...   \n",
              "\n",
              "                                        cleaned_desc  \\\n",
              "0  however read policy fine print could certain e...   \n",
              "1  budgeting finance come naturally woman yet shy...   \n",
              "2  risk taking investor follow extreme strategy s...   \n",
              "3  frequent traveller loyal airline airline co br...   \n",
              "4  loss arising crypto trading not offset kind in...   \n",
              "\n",
              "                                     cleaned_content  \n",
              "0  indian life lost war hit region ukraine concer...  \n",
              "1  take case client rajani single father used tak...  \n",
              "2  fall stock price make many investor nervous es...  \n",
              "3  nan investor withdrawal across several debt sc...  \n",
              "4  profit profit loss loss goi no set loss arisin...  "
            ],
            "text/html": [
              "\n",
              "  <div id=\"df-ff71d428-4889-4b93-bfe0-8f67ac394e03\">\n",
              "    <div class=\"colab-df-container\">\n",
              "      <div>\n",
              "<style scoped>\n",
              "    .dataframe tbody tr th:only-of-type {\n",
              "        vertical-align: middle;\n",
              "    }\n",
              "\n",
              "    .dataframe tbody tr th {\n",
              "        vertical-align: top;\n",
              "    }\n",
              "\n",
              "    .dataframe thead th {\n",
              "        text-align: right;\n",
              "    }\n",
              "</style>\n",
              "<table border=\"1\" class=\"dataframe\">\n",
              "  <thead>\n",
              "    <tr style=\"text-align: right;\">\n",
              "      <th></th>\n",
              "      <th>Symbol</th>\n",
              "      <th>Date</th>\n",
              "      <th>Prev Close</th>\n",
              "      <th>Open</th>\n",
              "      <th>High</th>\n",
              "      <th>Low</th>\n",
              "      <th>Last</th>\n",
              "      <th>Close</th>\n",
              "      <th>VWAP</th>\n",
              "      <th>Volume</th>\n",
              "      <th>Turnover</th>\n",
              "      <th>Trades</th>\n",
              "      <th>Deliverable Volume</th>\n",
              "      <th>%Deliverble</th>\n",
              "      <th>cleaned_title</th>\n",
              "      <th>cleaned_desc</th>\n",
              "      <th>cleaned_content</th>\n",
              "    </tr>\n",
              "  </thead>\n",
              "  <tbody>\n",
              "    <tr>\n",
              "      <th>0</th>\n",
              "      <td>HDFCBANK</td>\n",
              "      <td>2022-03-07</td>\n",
              "      <td>1366.50</td>\n",
              "      <td>1318.5</td>\n",
              "      <td>1332.35</td>\n",
              "      <td>1297.05</td>\n",
              "      <td>1326.00</td>\n",
              "      <td>1324.80</td>\n",
              "      <td>1314.70</td>\n",
              "      <td>13527229.0</td>\n",
              "      <td>1.778424e+15</td>\n",
              "      <td>426139.0</td>\n",
              "      <td>8418793.0</td>\n",
              "      <td>0.6224</td>\n",
              "      <td>life insurance claim would valid case death du...</td>\n",
              "      <td>however read policy fine print could certain e...</td>\n",
              "      <td>indian life lost war hit region ukraine concer...</td>\n",
              "    </tr>\n",
              "    <tr>\n",
              "      <th>1</th>\n",
              "      <td>HDFCBANK</td>\n",
              "      <td>2022-03-08</td>\n",
              "      <td>1324.80</td>\n",
              "      <td>1302.2</td>\n",
              "      <td>1334.00</td>\n",
              "      <td>1292.00</td>\n",
              "      <td>1333.00</td>\n",
              "      <td>1327.80</td>\n",
              "      <td>1305.18</td>\n",
              "      <td>19606246.0</td>\n",
              "      <td>2.558968e+15</td>\n",
              "      <td>527016.0</td>\n",
              "      <td>11934591.0</td>\n",
              "      <td>0.6087</td>\n",
              "      <td>woman manage money well men step peculiar mone...</td>\n",
              "      <td>budgeting finance come naturally woman yet shy...</td>\n",
              "      <td>take case client rajani single father used tak...</td>\n",
              "    </tr>\n",
              "    <tr>\n",
              "      <th>2</th>\n",
              "      <td>HDFCBANK</td>\n",
              "      <td>2022-03-09</td>\n",
              "      <td>1327.80</td>\n",
              "      <td>1330.0</td>\n",
              "      <td>1374.70</td>\n",
              "      <td>1318.85</td>\n",
              "      <td>1371.05</td>\n",
              "      <td>1371.15</td>\n",
              "      <td>1347.62</td>\n",
              "      <td>11567347.0</td>\n",
              "      <td>1.558836e+15</td>\n",
              "      <td>330592.0</td>\n",
              "      <td>7459892.0</td>\n",
              "      <td>0.6449</td>\n",
              "      <td>sell equity buy gold instead amfi see uptick f...</td>\n",
              "      <td>risk taking investor follow extreme strategy s...</td>\n",
              "      <td>fall stock price make many investor nervous es...</td>\n",
              "    </tr>\n",
              "    <tr>\n",
              "      <th>3</th>\n",
              "      <td>HDFCBANK</td>\n",
              "      <td>2022-03-10</td>\n",
              "      <td>1371.15</td>\n",
              "      <td>1427.0</td>\n",
              "      <td>1427.00</td>\n",
              "      <td>1380.25</td>\n",
              "      <td>1388.90</td>\n",
              "      <td>1392.70</td>\n",
              "      <td>1404.82</td>\n",
              "      <td>11136603.0</td>\n",
              "      <td>1.564487e+15</td>\n",
              "      <td>277256.0</td>\n",
              "      <td>5815424.0</td>\n",
              "      <td>0.5222</td>\n",
              "      <td>planning summer holiday five co branded airlin...</td>\n",
              "      <td>frequent traveller loyal airline airline co br...</td>\n",
              "      <td>nan investor withdrawal across several debt sc...</td>\n",
              "    </tr>\n",
              "    <tr>\n",
              "      <th>4</th>\n",
              "      <td>HDFCBANK</td>\n",
              "      <td>2022-03-11</td>\n",
              "      <td>1392.70</td>\n",
              "      <td>1388.0</td>\n",
              "      <td>1408.95</td>\n",
              "      <td>1372.70</td>\n",
              "      <td>1396.00</td>\n",
              "      <td>1396.80</td>\n",
              "      <td>1396.47</td>\n",
              "      <td>7575390.0</td>\n",
              "      <td>1.057880e+15</td>\n",
              "      <td>204283.0</td>\n",
              "      <td>4434451.0</td>\n",
              "      <td>0.5854</td>\n",
              "      <td>explained crypto taxation work india hypertens...</td>\n",
              "      <td>loss arising crypto trading not offset kind in...</td>\n",
              "      <td>profit profit loss loss goi no set loss arisin...</td>\n",
              "    </tr>\n",
              "  </tbody>\n",
              "</table>\n",
              "</div>\n",
              "      <button class=\"colab-df-convert\" onclick=\"convertToInteractive('df-ff71d428-4889-4b93-bfe0-8f67ac394e03')\"\n",
              "              title=\"Convert this dataframe to an interactive table.\"\n",
              "              style=\"display:none;\">\n",
              "        \n",
              "  <svg xmlns=\"http://www.w3.org/2000/svg\" height=\"24px\"viewBox=\"0 0 24 24\"\n",
              "       width=\"24px\">\n",
              "    <path d=\"M0 0h24v24H0V0z\" fill=\"none\"/>\n",
              "    <path d=\"M18.56 5.44l.94 2.06.94-2.06 2.06-.94-2.06-.94-.94-2.06-.94 2.06-2.06.94zm-11 1L8.5 8.5l.94-2.06 2.06-.94-2.06-.94L8.5 2.5l-.94 2.06-2.06.94zm10 10l.94 2.06.94-2.06 2.06-.94-2.06-.94-.94-2.06-.94 2.06-2.06.94z\"/><path d=\"M17.41 7.96l-1.37-1.37c-.4-.4-.92-.59-1.43-.59-.52 0-1.04.2-1.43.59L10.3 9.45l-7.72 7.72c-.78.78-.78 2.05 0 2.83L4 21.41c.39.39.9.59 1.41.59.51 0 1.02-.2 1.41-.59l7.78-7.78 2.81-2.81c.8-.78.8-2.07 0-2.86zM5.41 20L4 18.59l7.72-7.72 1.47 1.35L5.41 20z\"/>\n",
              "  </svg>\n",
              "      </button>\n",
              "      \n",
              "  <style>\n",
              "    .colab-df-container {\n",
              "      display:flex;\n",
              "      flex-wrap:wrap;\n",
              "      gap: 12px;\n",
              "    }\n",
              "\n",
              "    .colab-df-convert {\n",
              "      background-color: #E8F0FE;\n",
              "      border: none;\n",
              "      border-radius: 50%;\n",
              "      cursor: pointer;\n",
              "      display: none;\n",
              "      fill: #1967D2;\n",
              "      height: 32px;\n",
              "      padding: 0 0 0 0;\n",
              "      width: 32px;\n",
              "    }\n",
              "\n",
              "    .colab-df-convert:hover {\n",
              "      background-color: #E2EBFA;\n",
              "      box-shadow: 0px 1px 2px rgba(60, 64, 67, 0.3), 0px 1px 3px 1px rgba(60, 64, 67, 0.15);\n",
              "      fill: #174EA6;\n",
              "    }\n",
              "\n",
              "    [theme=dark] .colab-df-convert {\n",
              "      background-color: #3B4455;\n",
              "      fill: #D2E3FC;\n",
              "    }\n",
              "\n",
              "    [theme=dark] .colab-df-convert:hover {\n",
              "      background-color: #434B5C;\n",
              "      box-shadow: 0px 1px 3px 1px rgba(0, 0, 0, 0.15);\n",
              "      filter: drop-shadow(0px 1px 2px rgba(0, 0, 0, 0.3));\n",
              "      fill: #FFFFFF;\n",
              "    }\n",
              "  </style>\n",
              "\n",
              "      <script>\n",
              "        const buttonEl =\n",
              "          document.querySelector('#df-ff71d428-4889-4b93-bfe0-8f67ac394e03 button.colab-df-convert');\n",
              "        buttonEl.style.display =\n",
              "          google.colab.kernel.accessAllowed ? 'block' : 'none';\n",
              "\n",
              "        async function convertToInteractive(key) {\n",
              "          const element = document.querySelector('#df-ff71d428-4889-4b93-bfe0-8f67ac394e03');\n",
              "          const dataTable =\n",
              "            await google.colab.kernel.invokeFunction('convertToInteractive',\n",
              "                                                     [key], {});\n",
              "          if (!dataTable) return;\n",
              "\n",
              "          const docLinkHtml = 'Like what you see? Visit the ' +\n",
              "            '<a target=\"_blank\" href=https://colab.research.google.com/notebooks/data_table.ipynb>data table notebook</a>'\n",
              "            + ' to learn more about interactive tables.';\n",
              "          element.innerHTML = '';\n",
              "          dataTable['output_type'] = 'display_data';\n",
              "          await google.colab.output.renderOutput(dataTable, element);\n",
              "          const docLink = document.createElement('div');\n",
              "          docLink.innerHTML = docLinkHtml;\n",
              "          element.appendChild(docLink);\n",
              "        }\n",
              "      </script>\n",
              "    </div>\n",
              "  </div>\n",
              "  "
            ]
          },
          "metadata": {},
          "execution_count": 27
        }
      ]
    },
    {
      "cell_type": "markdown",
      "source": [
        "# Joining datasets"
      ],
      "metadata": {
        "id": "zK6xUO_uwEAQ"
      }
    },
    {
      "cell_type": "code",
      "source": [
        "join1.info()"
      ],
      "metadata": {
        "colab": {
          "base_uri": "https://localhost:8080/"
        },
        "id": "0Zlb5BPRwG1n",
        "outputId": "7bf6b167-5990-49cd-f53b-9c92d869d173"
      },
      "execution_count": 28,
      "outputs": [
        {
          "output_type": "stream",
          "name": "stdout",
          "text": [
            "<class 'pandas.core.frame.DataFrame'>\n",
            "Int64Index: 116 entries, 0 to 115\n",
            "Data columns (total 17 columns):\n",
            " #   Column              Non-Null Count  Dtype  \n",
            "---  ------              --------------  -----  \n",
            " 0   Symbol              91 non-null     object \n",
            " 1   Date                116 non-null    object \n",
            " 2   Prev Close          91 non-null     float64\n",
            " 3   Open                91 non-null     float64\n",
            " 4   High                91 non-null     float64\n",
            " 5   Low                 91 non-null     float64\n",
            " 6   Last                91 non-null     float64\n",
            " 7   Close               91 non-null     float64\n",
            " 8   VWAP                91 non-null     float64\n",
            " 9   Volume              91 non-null     float64\n",
            " 10  Turnover            91 non-null     float64\n",
            " 11  Trades              91 non-null     float64\n",
            " 12  Deliverable Volume  91 non-null     float64\n",
            " 13  %Deliverble         91 non-null     float64\n",
            " 14  cleaned_title       116 non-null    object \n",
            " 15  cleaned_desc        116 non-null    object \n",
            " 16  cleaned_content     116 non-null    object \n",
            "dtypes: float64(12), object(5)\n",
            "memory usage: 16.3+ KB\n"
          ]
        }
      ]
    },
    {
      "cell_type": "code",
      "source": [
        "join2=join1.sort_values(by=['Date'],ignore_index=True )"
      ],
      "metadata": {
        "id": "9iIXAsUvwU8p"
      },
      "execution_count": 29,
      "outputs": []
    },
    {
      "cell_type": "code",
      "source": [
        "join2.to_csv('joined_by_date_and_sorted.csv')"
      ],
      "metadata": {
        "id": "sUdIM-C5wqLv"
      },
      "execution_count": 30,
      "outputs": []
    },
    {
      "cell_type": "code",
      "source": [
        "#join2[join2.Close.isnull()]"
      ],
      "metadata": {
        "id": "c3Zr4kq41lbV"
      },
      "execution_count": 31,
      "outputs": []
    },
    {
      "cell_type": "code",
      "source": [
        "join2.head(2)"
      ],
      "metadata": {
        "colab": {
          "base_uri": "https://localhost:8080/",
          "height": 315
        },
        "id": "d1PoU4Ur214K",
        "outputId": "9f6603c9-b0f6-40a4-84fe-44f90b825477"
      },
      "execution_count": 32,
      "outputs": [
        {
          "output_type": "execute_result",
          "data": {
            "text/plain": [
              "     Symbol        Date  Prev Close    Open     High      Low    Last   Close  \\\n",
              "0  HDFCBANK  2022-03-07      1366.5  1318.5  1332.35  1297.05  1326.0  1324.8   \n",
              "1  HDFCBANK  2022-03-08      1324.8  1302.2  1334.00  1292.00  1333.0  1327.8   \n",
              "\n",
              "      VWAP      Volume      Turnover    Trades  Deliverable Volume  \\\n",
              "0  1314.70  13527229.0  1.778424e+15  426139.0           8418793.0   \n",
              "1  1305.18  19606246.0  2.558968e+15  527016.0          11934591.0   \n",
              "\n",
              "   %Deliverble                                      cleaned_title  \\\n",
              "0       0.6224  life insurance claim would valid case death du...   \n",
              "1       0.6087  woman manage money well men step peculiar mone...   \n",
              "\n",
              "                                        cleaned_desc  \\\n",
              "0  however read policy fine print could certain e...   \n",
              "1  budgeting finance come naturally woman yet shy...   \n",
              "\n",
              "                                     cleaned_content  \n",
              "0  indian life lost war hit region ukraine concer...  \n",
              "1  take case client rajani single father used tak...  "
            ],
            "text/html": [
              "\n",
              "  <div id=\"df-fcc22fa2-4dd1-435e-979a-dcec79f03113\">\n",
              "    <div class=\"colab-df-container\">\n",
              "      <div>\n",
              "<style scoped>\n",
              "    .dataframe tbody tr th:only-of-type {\n",
              "        vertical-align: middle;\n",
              "    }\n",
              "\n",
              "    .dataframe tbody tr th {\n",
              "        vertical-align: top;\n",
              "    }\n",
              "\n",
              "    .dataframe thead th {\n",
              "        text-align: right;\n",
              "    }\n",
              "</style>\n",
              "<table border=\"1\" class=\"dataframe\">\n",
              "  <thead>\n",
              "    <tr style=\"text-align: right;\">\n",
              "      <th></th>\n",
              "      <th>Symbol</th>\n",
              "      <th>Date</th>\n",
              "      <th>Prev Close</th>\n",
              "      <th>Open</th>\n",
              "      <th>High</th>\n",
              "      <th>Low</th>\n",
              "      <th>Last</th>\n",
              "      <th>Close</th>\n",
              "      <th>VWAP</th>\n",
              "      <th>Volume</th>\n",
              "      <th>Turnover</th>\n",
              "      <th>Trades</th>\n",
              "      <th>Deliverable Volume</th>\n",
              "      <th>%Deliverble</th>\n",
              "      <th>cleaned_title</th>\n",
              "      <th>cleaned_desc</th>\n",
              "      <th>cleaned_content</th>\n",
              "    </tr>\n",
              "  </thead>\n",
              "  <tbody>\n",
              "    <tr>\n",
              "      <th>0</th>\n",
              "      <td>HDFCBANK</td>\n",
              "      <td>2022-03-07</td>\n",
              "      <td>1366.5</td>\n",
              "      <td>1318.5</td>\n",
              "      <td>1332.35</td>\n",
              "      <td>1297.05</td>\n",
              "      <td>1326.0</td>\n",
              "      <td>1324.8</td>\n",
              "      <td>1314.70</td>\n",
              "      <td>13527229.0</td>\n",
              "      <td>1.778424e+15</td>\n",
              "      <td>426139.0</td>\n",
              "      <td>8418793.0</td>\n",
              "      <td>0.6224</td>\n",
              "      <td>life insurance claim would valid case death du...</td>\n",
              "      <td>however read policy fine print could certain e...</td>\n",
              "      <td>indian life lost war hit region ukraine concer...</td>\n",
              "    </tr>\n",
              "    <tr>\n",
              "      <th>1</th>\n",
              "      <td>HDFCBANK</td>\n",
              "      <td>2022-03-08</td>\n",
              "      <td>1324.8</td>\n",
              "      <td>1302.2</td>\n",
              "      <td>1334.00</td>\n",
              "      <td>1292.00</td>\n",
              "      <td>1333.0</td>\n",
              "      <td>1327.8</td>\n",
              "      <td>1305.18</td>\n",
              "      <td>19606246.0</td>\n",
              "      <td>2.558968e+15</td>\n",
              "      <td>527016.0</td>\n",
              "      <td>11934591.0</td>\n",
              "      <td>0.6087</td>\n",
              "      <td>woman manage money well men step peculiar mone...</td>\n",
              "      <td>budgeting finance come naturally woman yet shy...</td>\n",
              "      <td>take case client rajani single father used tak...</td>\n",
              "    </tr>\n",
              "  </tbody>\n",
              "</table>\n",
              "</div>\n",
              "      <button class=\"colab-df-convert\" onclick=\"convertToInteractive('df-fcc22fa2-4dd1-435e-979a-dcec79f03113')\"\n",
              "              title=\"Convert this dataframe to an interactive table.\"\n",
              "              style=\"display:none;\">\n",
              "        \n",
              "  <svg xmlns=\"http://www.w3.org/2000/svg\" height=\"24px\"viewBox=\"0 0 24 24\"\n",
              "       width=\"24px\">\n",
              "    <path d=\"M0 0h24v24H0V0z\" fill=\"none\"/>\n",
              "    <path d=\"M18.56 5.44l.94 2.06.94-2.06 2.06-.94-2.06-.94-.94-2.06-.94 2.06-2.06.94zm-11 1L8.5 8.5l.94-2.06 2.06-.94-2.06-.94L8.5 2.5l-.94 2.06-2.06.94zm10 10l.94 2.06.94-2.06 2.06-.94-2.06-.94-.94-2.06-.94 2.06-2.06.94z\"/><path d=\"M17.41 7.96l-1.37-1.37c-.4-.4-.92-.59-1.43-.59-.52 0-1.04.2-1.43.59L10.3 9.45l-7.72 7.72c-.78.78-.78 2.05 0 2.83L4 21.41c.39.39.9.59 1.41.59.51 0 1.02-.2 1.41-.59l7.78-7.78 2.81-2.81c.8-.78.8-2.07 0-2.86zM5.41 20L4 18.59l7.72-7.72 1.47 1.35L5.41 20z\"/>\n",
              "  </svg>\n",
              "      </button>\n",
              "      \n",
              "  <style>\n",
              "    .colab-df-container {\n",
              "      display:flex;\n",
              "      flex-wrap:wrap;\n",
              "      gap: 12px;\n",
              "    }\n",
              "\n",
              "    .colab-df-convert {\n",
              "      background-color: #E8F0FE;\n",
              "      border: none;\n",
              "      border-radius: 50%;\n",
              "      cursor: pointer;\n",
              "      display: none;\n",
              "      fill: #1967D2;\n",
              "      height: 32px;\n",
              "      padding: 0 0 0 0;\n",
              "      width: 32px;\n",
              "    }\n",
              "\n",
              "    .colab-df-convert:hover {\n",
              "      background-color: #E2EBFA;\n",
              "      box-shadow: 0px 1px 2px rgba(60, 64, 67, 0.3), 0px 1px 3px 1px rgba(60, 64, 67, 0.15);\n",
              "      fill: #174EA6;\n",
              "    }\n",
              "\n",
              "    [theme=dark] .colab-df-convert {\n",
              "      background-color: #3B4455;\n",
              "      fill: #D2E3FC;\n",
              "    }\n",
              "\n",
              "    [theme=dark] .colab-df-convert:hover {\n",
              "      background-color: #434B5C;\n",
              "      box-shadow: 0px 1px 3px 1px rgba(0, 0, 0, 0.15);\n",
              "      filter: drop-shadow(0px 1px 2px rgba(0, 0, 0, 0.3));\n",
              "      fill: #FFFFFF;\n",
              "    }\n",
              "  </style>\n",
              "\n",
              "      <script>\n",
              "        const buttonEl =\n",
              "          document.querySelector('#df-fcc22fa2-4dd1-435e-979a-dcec79f03113 button.colab-df-convert');\n",
              "        buttonEl.style.display =\n",
              "          google.colab.kernel.accessAllowed ? 'block' : 'none';\n",
              "\n",
              "        async function convertToInteractive(key) {\n",
              "          const element = document.querySelector('#df-fcc22fa2-4dd1-435e-979a-dcec79f03113');\n",
              "          const dataTable =\n",
              "            await google.colab.kernel.invokeFunction('convertToInteractive',\n",
              "                                                     [key], {});\n",
              "          if (!dataTable) return;\n",
              "\n",
              "          const docLinkHtml = 'Like what you see? Visit the ' +\n",
              "            '<a target=\"_blank\" href=https://colab.research.google.com/notebooks/data_table.ipynb>data table notebook</a>'\n",
              "            + ' to learn more about interactive tables.';\n",
              "          element.innerHTML = '';\n",
              "          dataTable['output_type'] = 'display_data';\n",
              "          await google.colab.output.renderOutput(dataTable, element);\n",
              "          const docLink = document.createElement('div');\n",
              "          docLink.innerHTML = docLinkHtml;\n",
              "          element.appendChild(docLink);\n",
              "        }\n",
              "      </script>\n",
              "    </div>\n",
              "  </div>\n",
              "  "
            ]
          },
          "metadata": {},
          "execution_count": 32
        }
      ]
    },
    {
      "cell_type": "code",
      "source": [
        "join2.info()"
      ],
      "metadata": {
        "colab": {
          "base_uri": "https://localhost:8080/"
        },
        "id": "Ga17PEvq3f4g",
        "outputId": "f30ab0e5-3ae9-4ce1-f3c1-9d3a0aec8009"
      },
      "execution_count": 33,
      "outputs": [
        {
          "output_type": "stream",
          "name": "stdout",
          "text": [
            "<class 'pandas.core.frame.DataFrame'>\n",
            "RangeIndex: 116 entries, 0 to 115\n",
            "Data columns (total 17 columns):\n",
            " #   Column              Non-Null Count  Dtype  \n",
            "---  ------              --------------  -----  \n",
            " 0   Symbol              91 non-null     object \n",
            " 1   Date                116 non-null    object \n",
            " 2   Prev Close          91 non-null     float64\n",
            " 3   Open                91 non-null     float64\n",
            " 4   High                91 non-null     float64\n",
            " 5   Low                 91 non-null     float64\n",
            " 6   Last                91 non-null     float64\n",
            " 7   Close               91 non-null     float64\n",
            " 8   VWAP                91 non-null     float64\n",
            " 9   Volume              91 non-null     float64\n",
            " 10  Turnover            91 non-null     float64\n",
            " 11  Trades              91 non-null     float64\n",
            " 12  Deliverable Volume  91 non-null     float64\n",
            " 13  %Deliverble         91 non-null     float64\n",
            " 14  cleaned_title       116 non-null    object \n",
            " 15  cleaned_desc        116 non-null    object \n",
            " 16  cleaned_content     116 non-null    object \n",
            "dtypes: float64(12), object(5)\n",
            "memory usage: 15.5+ KB\n"
          ]
        }
      ]
    },
    {
      "cell_type": "code",
      "source": [
        "cond = join2[\"Close\"].isnull()\n",
        "join2.loc[cond, \"Date\"] = np.nan"
      ],
      "metadata": {
        "id": "eC0DEGWk21Md"
      },
      "execution_count": 34,
      "outputs": []
    },
    {
      "cell_type": "code",
      "source": [
        "join2[\"Date\"].ffill(inplace=True)"
      ],
      "metadata": {
        "id": "w2xMdbAu4tPL"
      },
      "execution_count": 35,
      "outputs": []
    },
    {
      "cell_type": "code",
      "source": [
        "join2.to_csv('join2.csv')"
      ],
      "metadata": {
        "id": "81XoTqRK4067"
      },
      "execution_count": 36,
      "outputs": []
    },
    {
      "cell_type": "code",
      "source": [
        "join3 = join2.copy()"
      ],
      "metadata": {
        "id": "igxWgNYg5UfZ"
      },
      "execution_count": 37,
      "outputs": []
    },
    {
      "cell_type": "code",
      "source": [
        "a=df_mc.astype({\"desc\": str, \"content\": str}).groupby('Date', as_index = False) # Removes null values in content column\n",
        "A=a.agg({'cleaned_title': ' '.join,\n",
        "       'cleaned_desc': ' '.join,\n",
        "      'cleaned_content': ' '.join})"
      ],
      "metadata": {
        "id": "A2eTsxi86Fel"
      },
      "execution_count": 38,
      "outputs": []
    },
    {
      "cell_type": "code",
      "source": [
        "join4 = join3.groupby('Date', as_index = False).agg({'cleaned_title': ' '.join,\n",
        "                                             'cleaned_desc': ' '.join,\n",
        "                                              'cleaned_content': ' '.join,\n",
        "                                              'Prev Close':sum,\n",
        "                                              'Open': sum,\n",
        "                                              'High':sum,\n",
        "                                              'Low':sum,\n",
        "                                              'Last':sum,\n",
        "                                              'Close':sum,\n",
        "                                              'VWAP':sum,\n",
        "                                              'Volume':sum,\n",
        "                                              'Turnover':sum,\n",
        "                                              'Trades':sum,\n",
        "                                              'Deliverable Volume':sum,\n",
        "                                              '%Deliverble':sum     })"
      ],
      "metadata": {
        "id": "0z7IhAkF5VpU"
      },
      "execution_count": 39,
      "outputs": []
    },
    {
      "cell_type": "code",
      "source": [
        "join4.to_csv('join4.csv')"
      ],
      "metadata": {
        "id": "4pJakiGV6Tjl"
      },
      "execution_count": 40,
      "outputs": []
    },
    {
      "cell_type": "code",
      "source": [
        "#join3['20MICRONS_Close'].fillna(method='ffill', inplace=True) # forward fill \n",
        "#join3['cleaned_title'].fillna(value='None', inplace=True)\n",
        "#join3['cleaned_desc'].fillna(value='None', inplace=True)\n",
        "#join3['cleaned_content'].fillna(value='None', inplace=True)\n",
        "#join3.info()\n",
        "# join3.to_csv('join3.csv',index=False)\n",
        "#close_price = join3[['Date','20MICRONS_Close']]\n",
        "# closing price df\n",
        "#close_price.to_csv('close_price.csv', index=False)"
      ],
      "metadata": {
        "id": "7sCLtu3fwHAa"
      },
      "execution_count": 41,
      "outputs": []
    },
    {
      "cell_type": "markdown",
      "source": [
        "# Dataset creation"
      ],
      "metadata": {
        "id": "Z4n3i3yOAXdc"
      }
    },
    {
      "cell_type": "code",
      "source": [
        "dataset = join4.copy()"
      ],
      "metadata": {
        "id": "EnPwxnySAYvc"
      },
      "execution_count": 42,
      "outputs": []
    },
    {
      "cell_type": "code",
      "source": [
        "dataset.head(10)"
      ],
      "metadata": {
        "colab": {
          "base_uri": "https://localhost:8080/",
          "height": 1000
        },
        "id": "44rODfzxAm1O",
        "outputId": "7e739397-2cb5-4346-a2b0-397f9b38ee22"
      },
      "execution_count": 43,
      "outputs": [
        {
          "output_type": "execute_result",
          "data": {
            "text/plain": [
              "         Date                                      cleaned_title  \\\n",
              "0  2022-03-07  life insurance claim would valid case death du...   \n",
              "1  2022-03-08  woman manage money well men step peculiar mone...   \n",
              "2  2022-03-09  sell equity buy gold instead amfi see uptick f...   \n",
              "3  2022-03-10  planning summer holiday five co branded airlin...   \n",
              "4  2022-03-11  explained crypto taxation work india hypertens...   \n",
              "5  2022-03-14  wealth manager taking smart position category ...   \n",
              "6  2022-03-15  reopening parag parikh flexi cap best decision...   \n",
              "7  2022-03-16  smallcaps mutual fund bought amid volatile mar...   \n",
              "8  2022-03-17  went ukraine education loan returned midway ba...   \n",
              "9  2022-03-21  value investing dead not chance explained affe...   \n",
              "\n",
              "                                        cleaned_desc  \\\n",
              "0  however read policy fine print could certain e...   \n",
              "1  budgeting finance come naturally woman yet shy...   \n",
              "2  risk taking investor follow extreme strategy s...   \n",
              "3  frequent traveller loyal airline airline co br...   \n",
              "4  loss arising crypto trading not offset kind in...   \n",
              "5  broad market rally called diversified approach...   \n",
              "6  parag parikh flexi cap fund one best performin...   \n",
              "7  correction equity market gave opportunity fund...   \n",
              "8  bank may willing restructure loan taken studen...   \n",
              "9  ensure value investing always advisable shortl...   \n",
              "\n",
              "                                     cleaned_content  Prev Close    Open  \\\n",
              "0  indian life lost war hit region ukraine concer...     1366.50  1318.5   \n",
              "1  take case client rajani single father used tak...     1324.80  1302.2   \n",
              "2  fall stock price make many investor nervous es...     1327.80  1330.0   \n",
              "3  nan investor withdrawal across several debt sc...     1371.15  1427.0   \n",
              "4  profit profit loss loss goi no set loss arisin...     1392.70  1388.0   \n",
              "5  expectation u federal reserve raising interest...     1396.80  1415.0   \n",
              "6  february security exchange board india sebi as...     1442.55  1443.5   \n",
              "7  nan mirae mutual fund built solid long term tr...     1424.00  1447.0   \n",
              "8  indian student returned home war ravaged ukrai...     1448.15  1472.0   \n",
              "9  siddhartha bhaiya time history heard value inv...     1480.05  1487.0   \n",
              "\n",
              "      High      Low     Last    Close     VWAP      Volume      Turnover  \\\n",
              "0  1332.35  1297.05  1326.00  1324.80  1314.70  13527229.0  1.778424e+15   \n",
              "1  1334.00  1292.00  1333.00  1327.80  1305.18  19606246.0  2.558968e+15   \n",
              "2  1374.70  1318.85  1371.05  1371.15  1347.62  11567347.0  1.558836e+15   \n",
              "3  1427.00  1380.25  1388.90  1392.70  1404.82  11136603.0  1.564487e+15   \n",
              "4  1408.95  1372.70  1396.00  1396.80  1396.47   7575390.0  1.057880e+15   \n",
              "5  1450.00  1415.00  1442.25  1442.55  1433.68  12509063.0  1.793394e+15   \n",
              "6  1449.50  1411.75  1422.00  1424.00  1435.02   9433964.0  1.353795e+15   \n",
              "7  1455.00  1436.20  1445.95  1448.15  1446.50   6682054.0  9.665623e+14   \n",
              "8  1489.80  1470.55  1477.95  1480.05  1482.21   7411977.0  1.098607e+15   \n",
              "9  1493.65  1472.80  1487.40  1486.50  1484.44   6128938.0  9.098011e+14   \n",
              "\n",
              "     Trades  Deliverable Volume  %Deliverble  \n",
              "0  426139.0           8418793.0       0.6224  \n",
              "1  527016.0          11934591.0       0.6087  \n",
              "2  330592.0           7459892.0       0.6449  \n",
              "3  277256.0           5815424.0       0.5222  \n",
              "4  204283.0           4434451.0       0.5854  \n",
              "5  344549.0           7220428.0       0.5772  \n",
              "6  277249.0           6025245.0       0.6387  \n",
              "7  223791.0           4412774.0       0.6604  \n",
              "8  237930.0           4437033.0       0.5986  \n",
              "9  204348.0           4058527.0       0.6622  "
            ],
            "text/html": [
              "\n",
              "  <div id=\"df-37b4deb9-1cca-4076-a9f3-a018a575c524\">\n",
              "    <div class=\"colab-df-container\">\n",
              "      <div>\n",
              "<style scoped>\n",
              "    .dataframe tbody tr th:only-of-type {\n",
              "        vertical-align: middle;\n",
              "    }\n",
              "\n",
              "    .dataframe tbody tr th {\n",
              "        vertical-align: top;\n",
              "    }\n",
              "\n",
              "    .dataframe thead th {\n",
              "        text-align: right;\n",
              "    }\n",
              "</style>\n",
              "<table border=\"1\" class=\"dataframe\">\n",
              "  <thead>\n",
              "    <tr style=\"text-align: right;\">\n",
              "      <th></th>\n",
              "      <th>Date</th>\n",
              "      <th>cleaned_title</th>\n",
              "      <th>cleaned_desc</th>\n",
              "      <th>cleaned_content</th>\n",
              "      <th>Prev Close</th>\n",
              "      <th>Open</th>\n",
              "      <th>High</th>\n",
              "      <th>Low</th>\n",
              "      <th>Last</th>\n",
              "      <th>Close</th>\n",
              "      <th>VWAP</th>\n",
              "      <th>Volume</th>\n",
              "      <th>Turnover</th>\n",
              "      <th>Trades</th>\n",
              "      <th>Deliverable Volume</th>\n",
              "      <th>%Deliverble</th>\n",
              "    </tr>\n",
              "  </thead>\n",
              "  <tbody>\n",
              "    <tr>\n",
              "      <th>0</th>\n",
              "      <td>2022-03-07</td>\n",
              "      <td>life insurance claim would valid case death du...</td>\n",
              "      <td>however read policy fine print could certain e...</td>\n",
              "      <td>indian life lost war hit region ukraine concer...</td>\n",
              "      <td>1366.50</td>\n",
              "      <td>1318.5</td>\n",
              "      <td>1332.35</td>\n",
              "      <td>1297.05</td>\n",
              "      <td>1326.00</td>\n",
              "      <td>1324.80</td>\n",
              "      <td>1314.70</td>\n",
              "      <td>13527229.0</td>\n",
              "      <td>1.778424e+15</td>\n",
              "      <td>426139.0</td>\n",
              "      <td>8418793.0</td>\n",
              "      <td>0.6224</td>\n",
              "    </tr>\n",
              "    <tr>\n",
              "      <th>1</th>\n",
              "      <td>2022-03-08</td>\n",
              "      <td>woman manage money well men step peculiar mone...</td>\n",
              "      <td>budgeting finance come naturally woman yet shy...</td>\n",
              "      <td>take case client rajani single father used tak...</td>\n",
              "      <td>1324.80</td>\n",
              "      <td>1302.2</td>\n",
              "      <td>1334.00</td>\n",
              "      <td>1292.00</td>\n",
              "      <td>1333.00</td>\n",
              "      <td>1327.80</td>\n",
              "      <td>1305.18</td>\n",
              "      <td>19606246.0</td>\n",
              "      <td>2.558968e+15</td>\n",
              "      <td>527016.0</td>\n",
              "      <td>11934591.0</td>\n",
              "      <td>0.6087</td>\n",
              "    </tr>\n",
              "    <tr>\n",
              "      <th>2</th>\n",
              "      <td>2022-03-09</td>\n",
              "      <td>sell equity buy gold instead amfi see uptick f...</td>\n",
              "      <td>risk taking investor follow extreme strategy s...</td>\n",
              "      <td>fall stock price make many investor nervous es...</td>\n",
              "      <td>1327.80</td>\n",
              "      <td>1330.0</td>\n",
              "      <td>1374.70</td>\n",
              "      <td>1318.85</td>\n",
              "      <td>1371.05</td>\n",
              "      <td>1371.15</td>\n",
              "      <td>1347.62</td>\n",
              "      <td>11567347.0</td>\n",
              "      <td>1.558836e+15</td>\n",
              "      <td>330592.0</td>\n",
              "      <td>7459892.0</td>\n",
              "      <td>0.6449</td>\n",
              "    </tr>\n",
              "    <tr>\n",
              "      <th>3</th>\n",
              "      <td>2022-03-10</td>\n",
              "      <td>planning summer holiday five co branded airlin...</td>\n",
              "      <td>frequent traveller loyal airline airline co br...</td>\n",
              "      <td>nan investor withdrawal across several debt sc...</td>\n",
              "      <td>1371.15</td>\n",
              "      <td>1427.0</td>\n",
              "      <td>1427.00</td>\n",
              "      <td>1380.25</td>\n",
              "      <td>1388.90</td>\n",
              "      <td>1392.70</td>\n",
              "      <td>1404.82</td>\n",
              "      <td>11136603.0</td>\n",
              "      <td>1.564487e+15</td>\n",
              "      <td>277256.0</td>\n",
              "      <td>5815424.0</td>\n",
              "      <td>0.5222</td>\n",
              "    </tr>\n",
              "    <tr>\n",
              "      <th>4</th>\n",
              "      <td>2022-03-11</td>\n",
              "      <td>explained crypto taxation work india hypertens...</td>\n",
              "      <td>loss arising crypto trading not offset kind in...</td>\n",
              "      <td>profit profit loss loss goi no set loss arisin...</td>\n",
              "      <td>1392.70</td>\n",
              "      <td>1388.0</td>\n",
              "      <td>1408.95</td>\n",
              "      <td>1372.70</td>\n",
              "      <td>1396.00</td>\n",
              "      <td>1396.80</td>\n",
              "      <td>1396.47</td>\n",
              "      <td>7575390.0</td>\n",
              "      <td>1.057880e+15</td>\n",
              "      <td>204283.0</td>\n",
              "      <td>4434451.0</td>\n",
              "      <td>0.5854</td>\n",
              "    </tr>\n",
              "    <tr>\n",
              "      <th>5</th>\n",
              "      <td>2022-03-14</td>\n",
              "      <td>wealth manager taking smart position category ...</td>\n",
              "      <td>broad market rally called diversified approach...</td>\n",
              "      <td>expectation u federal reserve raising interest...</td>\n",
              "      <td>1396.80</td>\n",
              "      <td>1415.0</td>\n",
              "      <td>1450.00</td>\n",
              "      <td>1415.00</td>\n",
              "      <td>1442.25</td>\n",
              "      <td>1442.55</td>\n",
              "      <td>1433.68</td>\n",
              "      <td>12509063.0</td>\n",
              "      <td>1.793394e+15</td>\n",
              "      <td>344549.0</td>\n",
              "      <td>7220428.0</td>\n",
              "      <td>0.5772</td>\n",
              "    </tr>\n",
              "    <tr>\n",
              "      <th>6</th>\n",
              "      <td>2022-03-15</td>\n",
              "      <td>reopening parag parikh flexi cap best decision...</td>\n",
              "      <td>parag parikh flexi cap fund one best performin...</td>\n",
              "      <td>february security exchange board india sebi as...</td>\n",
              "      <td>1442.55</td>\n",
              "      <td>1443.5</td>\n",
              "      <td>1449.50</td>\n",
              "      <td>1411.75</td>\n",
              "      <td>1422.00</td>\n",
              "      <td>1424.00</td>\n",
              "      <td>1435.02</td>\n",
              "      <td>9433964.0</td>\n",
              "      <td>1.353795e+15</td>\n",
              "      <td>277249.0</td>\n",
              "      <td>6025245.0</td>\n",
              "      <td>0.6387</td>\n",
              "    </tr>\n",
              "    <tr>\n",
              "      <th>7</th>\n",
              "      <td>2022-03-16</td>\n",
              "      <td>smallcaps mutual fund bought amid volatile mar...</td>\n",
              "      <td>correction equity market gave opportunity fund...</td>\n",
              "      <td>nan mirae mutual fund built solid long term tr...</td>\n",
              "      <td>1424.00</td>\n",
              "      <td>1447.0</td>\n",
              "      <td>1455.00</td>\n",
              "      <td>1436.20</td>\n",
              "      <td>1445.95</td>\n",
              "      <td>1448.15</td>\n",
              "      <td>1446.50</td>\n",
              "      <td>6682054.0</td>\n",
              "      <td>9.665623e+14</td>\n",
              "      <td>223791.0</td>\n",
              "      <td>4412774.0</td>\n",
              "      <td>0.6604</td>\n",
              "    </tr>\n",
              "    <tr>\n",
              "      <th>8</th>\n",
              "      <td>2022-03-17</td>\n",
              "      <td>went ukraine education loan returned midway ba...</td>\n",
              "      <td>bank may willing restructure loan taken studen...</td>\n",
              "      <td>indian student returned home war ravaged ukrai...</td>\n",
              "      <td>1448.15</td>\n",
              "      <td>1472.0</td>\n",
              "      <td>1489.80</td>\n",
              "      <td>1470.55</td>\n",
              "      <td>1477.95</td>\n",
              "      <td>1480.05</td>\n",
              "      <td>1482.21</td>\n",
              "      <td>7411977.0</td>\n",
              "      <td>1.098607e+15</td>\n",
              "      <td>237930.0</td>\n",
              "      <td>4437033.0</td>\n",
              "      <td>0.5986</td>\n",
              "    </tr>\n",
              "    <tr>\n",
              "      <th>9</th>\n",
              "      <td>2022-03-21</td>\n",
              "      <td>value investing dead not chance explained affe...</td>\n",
              "      <td>ensure value investing always advisable shortl...</td>\n",
              "      <td>siddhartha bhaiya time history heard value inv...</td>\n",
              "      <td>1480.05</td>\n",
              "      <td>1487.0</td>\n",
              "      <td>1493.65</td>\n",
              "      <td>1472.80</td>\n",
              "      <td>1487.40</td>\n",
              "      <td>1486.50</td>\n",
              "      <td>1484.44</td>\n",
              "      <td>6128938.0</td>\n",
              "      <td>9.098011e+14</td>\n",
              "      <td>204348.0</td>\n",
              "      <td>4058527.0</td>\n",
              "      <td>0.6622</td>\n",
              "    </tr>\n",
              "  </tbody>\n",
              "</table>\n",
              "</div>\n",
              "      <button class=\"colab-df-convert\" onclick=\"convertToInteractive('df-37b4deb9-1cca-4076-a9f3-a018a575c524')\"\n",
              "              title=\"Convert this dataframe to an interactive table.\"\n",
              "              style=\"display:none;\">\n",
              "        \n",
              "  <svg xmlns=\"http://www.w3.org/2000/svg\" height=\"24px\"viewBox=\"0 0 24 24\"\n",
              "       width=\"24px\">\n",
              "    <path d=\"M0 0h24v24H0V0z\" fill=\"none\"/>\n",
              "    <path d=\"M18.56 5.44l.94 2.06.94-2.06 2.06-.94-2.06-.94-.94-2.06-.94 2.06-2.06.94zm-11 1L8.5 8.5l.94-2.06 2.06-.94-2.06-.94L8.5 2.5l-.94 2.06-2.06.94zm10 10l.94 2.06.94-2.06 2.06-.94-2.06-.94-.94-2.06-.94 2.06-2.06.94z\"/><path d=\"M17.41 7.96l-1.37-1.37c-.4-.4-.92-.59-1.43-.59-.52 0-1.04.2-1.43.59L10.3 9.45l-7.72 7.72c-.78.78-.78 2.05 0 2.83L4 21.41c.39.39.9.59 1.41.59.51 0 1.02-.2 1.41-.59l7.78-7.78 2.81-2.81c.8-.78.8-2.07 0-2.86zM5.41 20L4 18.59l7.72-7.72 1.47 1.35L5.41 20z\"/>\n",
              "  </svg>\n",
              "      </button>\n",
              "      \n",
              "  <style>\n",
              "    .colab-df-container {\n",
              "      display:flex;\n",
              "      flex-wrap:wrap;\n",
              "      gap: 12px;\n",
              "    }\n",
              "\n",
              "    .colab-df-convert {\n",
              "      background-color: #E8F0FE;\n",
              "      border: none;\n",
              "      border-radius: 50%;\n",
              "      cursor: pointer;\n",
              "      display: none;\n",
              "      fill: #1967D2;\n",
              "      height: 32px;\n",
              "      padding: 0 0 0 0;\n",
              "      width: 32px;\n",
              "    }\n",
              "\n",
              "    .colab-df-convert:hover {\n",
              "      background-color: #E2EBFA;\n",
              "      box-shadow: 0px 1px 2px rgba(60, 64, 67, 0.3), 0px 1px 3px 1px rgba(60, 64, 67, 0.15);\n",
              "      fill: #174EA6;\n",
              "    }\n",
              "\n",
              "    [theme=dark] .colab-df-convert {\n",
              "      background-color: #3B4455;\n",
              "      fill: #D2E3FC;\n",
              "    }\n",
              "\n",
              "    [theme=dark] .colab-df-convert:hover {\n",
              "      background-color: #434B5C;\n",
              "      box-shadow: 0px 1px 3px 1px rgba(0, 0, 0, 0.15);\n",
              "      filter: drop-shadow(0px 1px 2px rgba(0, 0, 0, 0.3));\n",
              "      fill: #FFFFFF;\n",
              "    }\n",
              "  </style>\n",
              "\n",
              "      <script>\n",
              "        const buttonEl =\n",
              "          document.querySelector('#df-37b4deb9-1cca-4076-a9f3-a018a575c524 button.colab-df-convert');\n",
              "        buttonEl.style.display =\n",
              "          google.colab.kernel.accessAllowed ? 'block' : 'none';\n",
              "\n",
              "        async function convertToInteractive(key) {\n",
              "          const element = document.querySelector('#df-37b4deb9-1cca-4076-a9f3-a018a575c524');\n",
              "          const dataTable =\n",
              "            await google.colab.kernel.invokeFunction('convertToInteractive',\n",
              "                                                     [key], {});\n",
              "          if (!dataTable) return;\n",
              "\n",
              "          const docLinkHtml = 'Like what you see? Visit the ' +\n",
              "            '<a target=\"_blank\" href=https://colab.research.google.com/notebooks/data_table.ipynb>data table notebook</a>'\n",
              "            + ' to learn more about interactive tables.';\n",
              "          element.innerHTML = '';\n",
              "          dataTable['output_type'] = 'display_data';\n",
              "          await google.colab.output.renderOutput(dataTable, element);\n",
              "          const docLink = document.createElement('div');\n",
              "          docLink.innerHTML = docLinkHtml;\n",
              "          element.appendChild(docLink);\n",
              "        }\n",
              "      </script>\n",
              "    </div>\n",
              "  </div>\n",
              "  "
            ]
          },
          "metadata": {},
          "execution_count": 43
        }
      ]
    },
    {
      "cell_type": "code",
      "source": [
        "dataset['percent_change'] = (dataset['Close']- dataset['Prev Close'])*100/dataset['Close']"
      ],
      "metadata": {
        "id": "zANTbZ8mAm3W"
      },
      "execution_count": 44,
      "outputs": []
    },
    {
      "cell_type": "code",
      "source": [
        "def sentiment(value): \n",
        "  if value>0:\n",
        "    return 'positive'\n",
        "  elif value<0:\n",
        "    return 'negative'\n",
        "  else:\n",
        "    return 'neutral'"
      ],
      "metadata": {
        "id": "5hgT0jZjEGhF"
      },
      "execution_count": 45,
      "outputs": []
    },
    {
      "cell_type": "code",
      "source": [
        "dataset['sentiment']= dataset['percent_change'].apply(sentiment)"
      ],
      "metadata": {
        "id": "xZtD8rJtE1MW"
      },
      "execution_count": 46,
      "outputs": []
    },
    {
      "cell_type": "code",
      "source": [
        "dataset.head(10)"
      ],
      "metadata": {
        "colab": {
          "base_uri": "https://localhost:8080/",
          "height": 1000
        },
        "id": "disca4x1E8LZ",
        "outputId": "ad13ffb7-eaf1-4d7d-a692-1c23324131aa"
      },
      "execution_count": 47,
      "outputs": [
        {
          "output_type": "execute_result",
          "data": {
            "text/plain": [
              "         Date                                      cleaned_title  \\\n",
              "0  2022-03-07  life insurance claim would valid case death du...   \n",
              "1  2022-03-08  woman manage money well men step peculiar mone...   \n",
              "2  2022-03-09  sell equity buy gold instead amfi see uptick f...   \n",
              "3  2022-03-10  planning summer holiday five co branded airlin...   \n",
              "4  2022-03-11  explained crypto taxation work india hypertens...   \n",
              "5  2022-03-14  wealth manager taking smart position category ...   \n",
              "6  2022-03-15  reopening parag parikh flexi cap best decision...   \n",
              "7  2022-03-16  smallcaps mutual fund bought amid volatile mar...   \n",
              "8  2022-03-17  went ukraine education loan returned midway ba...   \n",
              "9  2022-03-21  value investing dead not chance explained affe...   \n",
              "\n",
              "                                        cleaned_desc  \\\n",
              "0  however read policy fine print could certain e...   \n",
              "1  budgeting finance come naturally woman yet shy...   \n",
              "2  risk taking investor follow extreme strategy s...   \n",
              "3  frequent traveller loyal airline airline co br...   \n",
              "4  loss arising crypto trading not offset kind in...   \n",
              "5  broad market rally called diversified approach...   \n",
              "6  parag parikh flexi cap fund one best performin...   \n",
              "7  correction equity market gave opportunity fund...   \n",
              "8  bank may willing restructure loan taken studen...   \n",
              "9  ensure value investing always advisable shortl...   \n",
              "\n",
              "                                     cleaned_content  Prev Close    Open  \\\n",
              "0  indian life lost war hit region ukraine concer...     1366.50  1318.5   \n",
              "1  take case client rajani single father used tak...     1324.80  1302.2   \n",
              "2  fall stock price make many investor nervous es...     1327.80  1330.0   \n",
              "3  nan investor withdrawal across several debt sc...     1371.15  1427.0   \n",
              "4  profit profit loss loss goi no set loss arisin...     1392.70  1388.0   \n",
              "5  expectation u federal reserve raising interest...     1396.80  1415.0   \n",
              "6  february security exchange board india sebi as...     1442.55  1443.5   \n",
              "7  nan mirae mutual fund built solid long term tr...     1424.00  1447.0   \n",
              "8  indian student returned home war ravaged ukrai...     1448.15  1472.0   \n",
              "9  siddhartha bhaiya time history heard value inv...     1480.05  1487.0   \n",
              "\n",
              "      High      Low     Last    Close     VWAP      Volume      Turnover  \\\n",
              "0  1332.35  1297.05  1326.00  1324.80  1314.70  13527229.0  1.778424e+15   \n",
              "1  1334.00  1292.00  1333.00  1327.80  1305.18  19606246.0  2.558968e+15   \n",
              "2  1374.70  1318.85  1371.05  1371.15  1347.62  11567347.0  1.558836e+15   \n",
              "3  1427.00  1380.25  1388.90  1392.70  1404.82  11136603.0  1.564487e+15   \n",
              "4  1408.95  1372.70  1396.00  1396.80  1396.47   7575390.0  1.057880e+15   \n",
              "5  1450.00  1415.00  1442.25  1442.55  1433.68  12509063.0  1.793394e+15   \n",
              "6  1449.50  1411.75  1422.00  1424.00  1435.02   9433964.0  1.353795e+15   \n",
              "7  1455.00  1436.20  1445.95  1448.15  1446.50   6682054.0  9.665623e+14   \n",
              "8  1489.80  1470.55  1477.95  1480.05  1482.21   7411977.0  1.098607e+15   \n",
              "9  1493.65  1472.80  1487.40  1486.50  1484.44   6128938.0  9.098011e+14   \n",
              "\n",
              "     Trades  Deliverable Volume  %Deliverble  percent_change sentiment  \n",
              "0  426139.0           8418793.0       0.6224       -3.147645  negative  \n",
              "1  527016.0          11934591.0       0.6087        0.225938  positive  \n",
              "2  330592.0           7459892.0       0.6449        3.161580  positive  \n",
              "3  277256.0           5815424.0       0.5222        1.547354  positive  \n",
              "4  204283.0           4434451.0       0.5854        0.293528  positive  \n",
              "5  344549.0           7220428.0       0.5772        3.171467  positive  \n",
              "6  277249.0           6025245.0       0.6387       -1.302669  negative  \n",
              "7  223791.0           4412774.0       0.6604        1.667645  positive  \n",
              "8  237930.0           4437033.0       0.5986        2.155333  positive  \n",
              "9  204348.0           4058527.0       0.6622        0.433905  positive  "
            ],
            "text/html": [
              "\n",
              "  <div id=\"df-36188a53-7de1-4c5d-8853-38f14c39e996\">\n",
              "    <div class=\"colab-df-container\">\n",
              "      <div>\n",
              "<style scoped>\n",
              "    .dataframe tbody tr th:only-of-type {\n",
              "        vertical-align: middle;\n",
              "    }\n",
              "\n",
              "    .dataframe tbody tr th {\n",
              "        vertical-align: top;\n",
              "    }\n",
              "\n",
              "    .dataframe thead th {\n",
              "        text-align: right;\n",
              "    }\n",
              "</style>\n",
              "<table border=\"1\" class=\"dataframe\">\n",
              "  <thead>\n",
              "    <tr style=\"text-align: right;\">\n",
              "      <th></th>\n",
              "      <th>Date</th>\n",
              "      <th>cleaned_title</th>\n",
              "      <th>cleaned_desc</th>\n",
              "      <th>cleaned_content</th>\n",
              "      <th>Prev Close</th>\n",
              "      <th>Open</th>\n",
              "      <th>High</th>\n",
              "      <th>Low</th>\n",
              "      <th>Last</th>\n",
              "      <th>Close</th>\n",
              "      <th>VWAP</th>\n",
              "      <th>Volume</th>\n",
              "      <th>Turnover</th>\n",
              "      <th>Trades</th>\n",
              "      <th>Deliverable Volume</th>\n",
              "      <th>%Deliverble</th>\n",
              "      <th>percent_change</th>\n",
              "      <th>sentiment</th>\n",
              "    </tr>\n",
              "  </thead>\n",
              "  <tbody>\n",
              "    <tr>\n",
              "      <th>0</th>\n",
              "      <td>2022-03-07</td>\n",
              "      <td>life insurance claim would valid case death du...</td>\n",
              "      <td>however read policy fine print could certain e...</td>\n",
              "      <td>indian life lost war hit region ukraine concer...</td>\n",
              "      <td>1366.50</td>\n",
              "      <td>1318.5</td>\n",
              "      <td>1332.35</td>\n",
              "      <td>1297.05</td>\n",
              "      <td>1326.00</td>\n",
              "      <td>1324.80</td>\n",
              "      <td>1314.70</td>\n",
              "      <td>13527229.0</td>\n",
              "      <td>1.778424e+15</td>\n",
              "      <td>426139.0</td>\n",
              "      <td>8418793.0</td>\n",
              "      <td>0.6224</td>\n",
              "      <td>-3.147645</td>\n",
              "      <td>negative</td>\n",
              "    </tr>\n",
              "    <tr>\n",
              "      <th>1</th>\n",
              "      <td>2022-03-08</td>\n",
              "      <td>woman manage money well men step peculiar mone...</td>\n",
              "      <td>budgeting finance come naturally woman yet shy...</td>\n",
              "      <td>take case client rajani single father used tak...</td>\n",
              "      <td>1324.80</td>\n",
              "      <td>1302.2</td>\n",
              "      <td>1334.00</td>\n",
              "      <td>1292.00</td>\n",
              "      <td>1333.00</td>\n",
              "      <td>1327.80</td>\n",
              "      <td>1305.18</td>\n",
              "      <td>19606246.0</td>\n",
              "      <td>2.558968e+15</td>\n",
              "      <td>527016.0</td>\n",
              "      <td>11934591.0</td>\n",
              "      <td>0.6087</td>\n",
              "      <td>0.225938</td>\n",
              "      <td>positive</td>\n",
              "    </tr>\n",
              "    <tr>\n",
              "      <th>2</th>\n",
              "      <td>2022-03-09</td>\n",
              "      <td>sell equity buy gold instead amfi see uptick f...</td>\n",
              "      <td>risk taking investor follow extreme strategy s...</td>\n",
              "      <td>fall stock price make many investor nervous es...</td>\n",
              "      <td>1327.80</td>\n",
              "      <td>1330.0</td>\n",
              "      <td>1374.70</td>\n",
              "      <td>1318.85</td>\n",
              "      <td>1371.05</td>\n",
              "      <td>1371.15</td>\n",
              "      <td>1347.62</td>\n",
              "      <td>11567347.0</td>\n",
              "      <td>1.558836e+15</td>\n",
              "      <td>330592.0</td>\n",
              "      <td>7459892.0</td>\n",
              "      <td>0.6449</td>\n",
              "      <td>3.161580</td>\n",
              "      <td>positive</td>\n",
              "    </tr>\n",
              "    <tr>\n",
              "      <th>3</th>\n",
              "      <td>2022-03-10</td>\n",
              "      <td>planning summer holiday five co branded airlin...</td>\n",
              "      <td>frequent traveller loyal airline airline co br...</td>\n",
              "      <td>nan investor withdrawal across several debt sc...</td>\n",
              "      <td>1371.15</td>\n",
              "      <td>1427.0</td>\n",
              "      <td>1427.00</td>\n",
              "      <td>1380.25</td>\n",
              "      <td>1388.90</td>\n",
              "      <td>1392.70</td>\n",
              "      <td>1404.82</td>\n",
              "      <td>11136603.0</td>\n",
              "      <td>1.564487e+15</td>\n",
              "      <td>277256.0</td>\n",
              "      <td>5815424.0</td>\n",
              "      <td>0.5222</td>\n",
              "      <td>1.547354</td>\n",
              "      <td>positive</td>\n",
              "    </tr>\n",
              "    <tr>\n",
              "      <th>4</th>\n",
              "      <td>2022-03-11</td>\n",
              "      <td>explained crypto taxation work india hypertens...</td>\n",
              "      <td>loss arising crypto trading not offset kind in...</td>\n",
              "      <td>profit profit loss loss goi no set loss arisin...</td>\n",
              "      <td>1392.70</td>\n",
              "      <td>1388.0</td>\n",
              "      <td>1408.95</td>\n",
              "      <td>1372.70</td>\n",
              "      <td>1396.00</td>\n",
              "      <td>1396.80</td>\n",
              "      <td>1396.47</td>\n",
              "      <td>7575390.0</td>\n",
              "      <td>1.057880e+15</td>\n",
              "      <td>204283.0</td>\n",
              "      <td>4434451.0</td>\n",
              "      <td>0.5854</td>\n",
              "      <td>0.293528</td>\n",
              "      <td>positive</td>\n",
              "    </tr>\n",
              "    <tr>\n",
              "      <th>5</th>\n",
              "      <td>2022-03-14</td>\n",
              "      <td>wealth manager taking smart position category ...</td>\n",
              "      <td>broad market rally called diversified approach...</td>\n",
              "      <td>expectation u federal reserve raising interest...</td>\n",
              "      <td>1396.80</td>\n",
              "      <td>1415.0</td>\n",
              "      <td>1450.00</td>\n",
              "      <td>1415.00</td>\n",
              "      <td>1442.25</td>\n",
              "      <td>1442.55</td>\n",
              "      <td>1433.68</td>\n",
              "      <td>12509063.0</td>\n",
              "      <td>1.793394e+15</td>\n",
              "      <td>344549.0</td>\n",
              "      <td>7220428.0</td>\n",
              "      <td>0.5772</td>\n",
              "      <td>3.171467</td>\n",
              "      <td>positive</td>\n",
              "    </tr>\n",
              "    <tr>\n",
              "      <th>6</th>\n",
              "      <td>2022-03-15</td>\n",
              "      <td>reopening parag parikh flexi cap best decision...</td>\n",
              "      <td>parag parikh flexi cap fund one best performin...</td>\n",
              "      <td>february security exchange board india sebi as...</td>\n",
              "      <td>1442.55</td>\n",
              "      <td>1443.5</td>\n",
              "      <td>1449.50</td>\n",
              "      <td>1411.75</td>\n",
              "      <td>1422.00</td>\n",
              "      <td>1424.00</td>\n",
              "      <td>1435.02</td>\n",
              "      <td>9433964.0</td>\n",
              "      <td>1.353795e+15</td>\n",
              "      <td>277249.0</td>\n",
              "      <td>6025245.0</td>\n",
              "      <td>0.6387</td>\n",
              "      <td>-1.302669</td>\n",
              "      <td>negative</td>\n",
              "    </tr>\n",
              "    <tr>\n",
              "      <th>7</th>\n",
              "      <td>2022-03-16</td>\n",
              "      <td>smallcaps mutual fund bought amid volatile mar...</td>\n",
              "      <td>correction equity market gave opportunity fund...</td>\n",
              "      <td>nan mirae mutual fund built solid long term tr...</td>\n",
              "      <td>1424.00</td>\n",
              "      <td>1447.0</td>\n",
              "      <td>1455.00</td>\n",
              "      <td>1436.20</td>\n",
              "      <td>1445.95</td>\n",
              "      <td>1448.15</td>\n",
              "      <td>1446.50</td>\n",
              "      <td>6682054.0</td>\n",
              "      <td>9.665623e+14</td>\n",
              "      <td>223791.0</td>\n",
              "      <td>4412774.0</td>\n",
              "      <td>0.6604</td>\n",
              "      <td>1.667645</td>\n",
              "      <td>positive</td>\n",
              "    </tr>\n",
              "    <tr>\n",
              "      <th>8</th>\n",
              "      <td>2022-03-17</td>\n",
              "      <td>went ukraine education loan returned midway ba...</td>\n",
              "      <td>bank may willing restructure loan taken studen...</td>\n",
              "      <td>indian student returned home war ravaged ukrai...</td>\n",
              "      <td>1448.15</td>\n",
              "      <td>1472.0</td>\n",
              "      <td>1489.80</td>\n",
              "      <td>1470.55</td>\n",
              "      <td>1477.95</td>\n",
              "      <td>1480.05</td>\n",
              "      <td>1482.21</td>\n",
              "      <td>7411977.0</td>\n",
              "      <td>1.098607e+15</td>\n",
              "      <td>237930.0</td>\n",
              "      <td>4437033.0</td>\n",
              "      <td>0.5986</td>\n",
              "      <td>2.155333</td>\n",
              "      <td>positive</td>\n",
              "    </tr>\n",
              "    <tr>\n",
              "      <th>9</th>\n",
              "      <td>2022-03-21</td>\n",
              "      <td>value investing dead not chance explained affe...</td>\n",
              "      <td>ensure value investing always advisable shortl...</td>\n",
              "      <td>siddhartha bhaiya time history heard value inv...</td>\n",
              "      <td>1480.05</td>\n",
              "      <td>1487.0</td>\n",
              "      <td>1493.65</td>\n",
              "      <td>1472.80</td>\n",
              "      <td>1487.40</td>\n",
              "      <td>1486.50</td>\n",
              "      <td>1484.44</td>\n",
              "      <td>6128938.0</td>\n",
              "      <td>9.098011e+14</td>\n",
              "      <td>204348.0</td>\n",
              "      <td>4058527.0</td>\n",
              "      <td>0.6622</td>\n",
              "      <td>0.433905</td>\n",
              "      <td>positive</td>\n",
              "    </tr>\n",
              "  </tbody>\n",
              "</table>\n",
              "</div>\n",
              "      <button class=\"colab-df-convert\" onclick=\"convertToInteractive('df-36188a53-7de1-4c5d-8853-38f14c39e996')\"\n",
              "              title=\"Convert this dataframe to an interactive table.\"\n",
              "              style=\"display:none;\">\n",
              "        \n",
              "  <svg xmlns=\"http://www.w3.org/2000/svg\" height=\"24px\"viewBox=\"0 0 24 24\"\n",
              "       width=\"24px\">\n",
              "    <path d=\"M0 0h24v24H0V0z\" fill=\"none\"/>\n",
              "    <path d=\"M18.56 5.44l.94 2.06.94-2.06 2.06-.94-2.06-.94-.94-2.06-.94 2.06-2.06.94zm-11 1L8.5 8.5l.94-2.06 2.06-.94-2.06-.94L8.5 2.5l-.94 2.06-2.06.94zm10 10l.94 2.06.94-2.06 2.06-.94-2.06-.94-.94-2.06-.94 2.06-2.06.94z\"/><path d=\"M17.41 7.96l-1.37-1.37c-.4-.4-.92-.59-1.43-.59-.52 0-1.04.2-1.43.59L10.3 9.45l-7.72 7.72c-.78.78-.78 2.05 0 2.83L4 21.41c.39.39.9.59 1.41.59.51 0 1.02-.2 1.41-.59l7.78-7.78 2.81-2.81c.8-.78.8-2.07 0-2.86zM5.41 20L4 18.59l7.72-7.72 1.47 1.35L5.41 20z\"/>\n",
              "  </svg>\n",
              "      </button>\n",
              "      \n",
              "  <style>\n",
              "    .colab-df-container {\n",
              "      display:flex;\n",
              "      flex-wrap:wrap;\n",
              "      gap: 12px;\n",
              "    }\n",
              "\n",
              "    .colab-df-convert {\n",
              "      background-color: #E8F0FE;\n",
              "      border: none;\n",
              "      border-radius: 50%;\n",
              "      cursor: pointer;\n",
              "      display: none;\n",
              "      fill: #1967D2;\n",
              "      height: 32px;\n",
              "      padding: 0 0 0 0;\n",
              "      width: 32px;\n",
              "    }\n",
              "\n",
              "    .colab-df-convert:hover {\n",
              "      background-color: #E2EBFA;\n",
              "      box-shadow: 0px 1px 2px rgba(60, 64, 67, 0.3), 0px 1px 3px 1px rgba(60, 64, 67, 0.15);\n",
              "      fill: #174EA6;\n",
              "    }\n",
              "\n",
              "    [theme=dark] .colab-df-convert {\n",
              "      background-color: #3B4455;\n",
              "      fill: #D2E3FC;\n",
              "    }\n",
              "\n",
              "    [theme=dark] .colab-df-convert:hover {\n",
              "      background-color: #434B5C;\n",
              "      box-shadow: 0px 1px 3px 1px rgba(0, 0, 0, 0.15);\n",
              "      filter: drop-shadow(0px 1px 2px rgba(0, 0, 0, 0.3));\n",
              "      fill: #FFFFFF;\n",
              "    }\n",
              "  </style>\n",
              "\n",
              "      <script>\n",
              "        const buttonEl =\n",
              "          document.querySelector('#df-36188a53-7de1-4c5d-8853-38f14c39e996 button.colab-df-convert');\n",
              "        buttonEl.style.display =\n",
              "          google.colab.kernel.accessAllowed ? 'block' : 'none';\n",
              "\n",
              "        async function convertToInteractive(key) {\n",
              "          const element = document.querySelector('#df-36188a53-7de1-4c5d-8853-38f14c39e996');\n",
              "          const dataTable =\n",
              "            await google.colab.kernel.invokeFunction('convertToInteractive',\n",
              "                                                     [key], {});\n",
              "          if (!dataTable) return;\n",
              "\n",
              "          const docLinkHtml = 'Like what you see? Visit the ' +\n",
              "            '<a target=\"_blank\" href=https://colab.research.google.com/notebooks/data_table.ipynb>data table notebook</a>'\n",
              "            + ' to learn more about interactive tables.';\n",
              "          element.innerHTML = '';\n",
              "          dataTable['output_type'] = 'display_data';\n",
              "          await google.colab.output.renderOutput(dataTable, element);\n",
              "          const docLink = document.createElement('div');\n",
              "          docLink.innerHTML = docLinkHtml;\n",
              "          element.appendChild(docLink);\n",
              "        }\n",
              "      </script>\n",
              "    </div>\n",
              "  </div>\n",
              "  "
            ]
          },
          "metadata": {},
          "execution_count": 47
        }
      ]
    },
    {
      "cell_type": "code",
      "source": [
        "dataset.to_csv('dataset_hdfc.csv',index=False)"
      ],
      "metadata": {
        "id": "u7LAlRkbQuVM"
      },
      "execution_count": 84,
      "outputs": []
    },
    {
      "cell_type": "markdown",
      "source": [
        "# EDA"
      ],
      "metadata": {
        "id": "iT7TxertUJQZ"
      }
    },
    {
      "cell_type": "code",
      "source": [
        "from nltk.stem.wordnet import WordNetLemmatizer\n",
        "from nltk.stem import PorterStemmer\n",
        "import string\n",
        "\n",
        "from nltk.corpus import stopwords\n",
        "\n",
        "from gensim.models import Word2Vec\n",
        "from gensim.models.doc2vec import Doc2Vec, TaggedDocument\n",
        "\n",
        "from sklearn.feature_extraction.text import CountVectorizer\n",
        "from sklearn.feature_extraction.text import TfidfVectorizer\n",
        "\n",
        "from sklearn.manifold import TSNE\n",
        "from sklearn.metrics.pairwise import cosine_similarity"
      ],
      "metadata": {
        "id": "r7fmbjA-VYhS"
      },
      "execution_count": 48,
      "outputs": []
    },
    {
      "cell_type": "code",
      "source": [
        "portfolio = ['auto', 'bank', 'oil', 'pharmaceutical', 'cement', 'technology']"
      ],
      "metadata": {
        "id": "YkKR59OTI2Nj"
      },
      "execution_count": 49,
      "outputs": []
    },
    {
      "cell_type": "markdown",
      "source": [
        "## TF-IDF Experiment"
      ],
      "metadata": {
        "id": "OCHmR8ThmJbg"
      }
    },
    {
      "cell_type": "code",
      "source": [
        "def dummy_fun(doc):\n",
        "    return doc\n",
        "\n",
        "tfidf = TfidfVectorizer(\n",
        "    analyzer='word',\n",
        "    tokenizer=dummy_fun,\n",
        "    preprocessor=dummy_fun,\n",
        "    token_pattern=None,\n",
        "    stop_words = 'english')"
      ],
      "metadata": {
        "id": "sdlZfHogkgjq"
      },
      "execution_count": 50,
      "outputs": []
    },
    {
      "cell_type": "code",
      "source": [
        "vectorizer_tfidf = TfidfVectorizer(stop_words = set(nltk.corpus.stopwords.words('english')))"
      ],
      "metadata": {
        "id": "UFyMQ7OYmNL0"
      },
      "execution_count": 51,
      "outputs": []
    },
    {
      "cell_type": "code",
      "source": [
        "vectorizer_tfidf"
      ],
      "metadata": {
        "colab": {
          "base_uri": "https://localhost:8080/"
        },
        "id": "2_h2Fcq5mgOc",
        "outputId": "9664414e-1239-48bc-9e05-d2f46264262b"
      },
      "execution_count": 52,
      "outputs": [
        {
          "output_type": "execute_result",
          "data": {
            "text/plain": [
              "TfidfVectorizer(stop_words={'a', 'about', 'above', 'after', 'again', 'against',\n",
              "                            'ain', 'all', 'am', 'an', 'and', 'any', 'are',\n",
              "                            'aren', \"aren't\", 'as', 'at', 'be', 'because',\n",
              "                            'been', 'before', 'being', 'below', 'between',\n",
              "                            'both', 'but', 'by', 'can', 'couldn', \"couldn't\", ...})"
            ]
          },
          "metadata": {},
          "execution_count": 52
        }
      ]
    },
    {
      "cell_type": "code",
      "source": [
        "tfidf_scores_content3 = vectorizer_tfidf.fit_transform(dataset.cleaned_title)"
      ],
      "metadata": {
        "id": "MN8uECm_nDzG"
      },
      "execution_count": 53,
      "outputs": []
    },
    {
      "cell_type": "code",
      "source": [
        "# Create Data Frame of tdief scores\n",
        "tfidf_df_content3 = pd.DataFrame(tfidf_scores_content3.toarray(),\n",
        "             columns = vectorizer_tfidf.get_feature_names_out(),\n",
        "             index = dataset.index)"
      ],
      "metadata": {
        "id": "acJE-98-tNal"
      },
      "execution_count": 54,
      "outputs": []
    },
    {
      "cell_type": "code",
      "source": [
        "tfidf_scores_content3.shape"
      ],
      "metadata": {
        "colab": {
          "base_uri": "https://localhost:8080/"
        },
        "id": "oblo8rDYsOnZ",
        "outputId": "fe9a7ce2-343f-4bfb-b4f7-82dcb3c01901"
      },
      "execution_count": 55,
      "outputs": [
        {
          "output_type": "execute_result",
          "data": {
            "text/plain": [
              "(91, 4786)"
            ]
          },
          "metadata": {},
          "execution_count": 55
        }
      ]
    },
    {
      "cell_type": "code",
      "source": [
        "# Extract tfidf scores for portfolio\n",
        "tfidf_df_content3[portfolio]"
      ],
      "metadata": {
        "colab": {
          "base_uri": "https://localhost:8080/",
          "height": 424
        },
        "id": "T2zTBBT5sUPK",
        "outputId": "054c7547-bba1-4427-daeb-47fc31735233"
      },
      "execution_count": 56,
      "outputs": [
        {
          "output_type": "execute_result",
          "data": {
            "text/plain": [
              "        auto      bank       oil  pharmaceutical    cement  technology\n",
              "0   0.000000  0.000000  0.000000             0.0  0.000000    0.000000\n",
              "1   0.000000  0.000000  0.000000             0.0  0.000000    0.000000\n",
              "2   0.000000  0.000000  0.000000             0.0  0.000000    0.000000\n",
              "3   0.000000  0.000000  0.000000             0.0  0.000000    0.000000\n",
              "4   0.000000  0.000000  0.000000             0.0  0.000000    0.000000\n",
              "..       ...       ...       ...             ...       ...         ...\n",
              "86  0.021453  0.012411  0.000000             0.0  0.000000    0.000000\n",
              "87  0.000000  0.189130  0.000000             0.0  0.023917    0.000000\n",
              "88  0.000000  0.040667  0.031787             0.0  0.045714    0.058193\n",
              "89  0.008667  0.065182  0.007055             0.0  0.010145    0.009225\n",
              "90  0.008283  0.047918  0.040451             0.0  0.000000    0.017632\n",
              "\n",
              "[91 rows x 6 columns]"
            ],
            "text/html": [
              "\n",
              "  <div id=\"df-5b1a72b5-6cc3-4eca-8b64-572ba1291614\">\n",
              "    <div class=\"colab-df-container\">\n",
              "      <div>\n",
              "<style scoped>\n",
              "    .dataframe tbody tr th:only-of-type {\n",
              "        vertical-align: middle;\n",
              "    }\n",
              "\n",
              "    .dataframe tbody tr th {\n",
              "        vertical-align: top;\n",
              "    }\n",
              "\n",
              "    .dataframe thead th {\n",
              "        text-align: right;\n",
              "    }\n",
              "</style>\n",
              "<table border=\"1\" class=\"dataframe\">\n",
              "  <thead>\n",
              "    <tr style=\"text-align: right;\">\n",
              "      <th></th>\n",
              "      <th>auto</th>\n",
              "      <th>bank</th>\n",
              "      <th>oil</th>\n",
              "      <th>pharmaceutical</th>\n",
              "      <th>cement</th>\n",
              "      <th>technology</th>\n",
              "    </tr>\n",
              "  </thead>\n",
              "  <tbody>\n",
              "    <tr>\n",
              "      <th>0</th>\n",
              "      <td>0.000000</td>\n",
              "      <td>0.000000</td>\n",
              "      <td>0.000000</td>\n",
              "      <td>0.0</td>\n",
              "      <td>0.000000</td>\n",
              "      <td>0.000000</td>\n",
              "    </tr>\n",
              "    <tr>\n",
              "      <th>1</th>\n",
              "      <td>0.000000</td>\n",
              "      <td>0.000000</td>\n",
              "      <td>0.000000</td>\n",
              "      <td>0.0</td>\n",
              "      <td>0.000000</td>\n",
              "      <td>0.000000</td>\n",
              "    </tr>\n",
              "    <tr>\n",
              "      <th>2</th>\n",
              "      <td>0.000000</td>\n",
              "      <td>0.000000</td>\n",
              "      <td>0.000000</td>\n",
              "      <td>0.0</td>\n",
              "      <td>0.000000</td>\n",
              "      <td>0.000000</td>\n",
              "    </tr>\n",
              "    <tr>\n",
              "      <th>3</th>\n",
              "      <td>0.000000</td>\n",
              "      <td>0.000000</td>\n",
              "      <td>0.000000</td>\n",
              "      <td>0.0</td>\n",
              "      <td>0.000000</td>\n",
              "      <td>0.000000</td>\n",
              "    </tr>\n",
              "    <tr>\n",
              "      <th>4</th>\n",
              "      <td>0.000000</td>\n",
              "      <td>0.000000</td>\n",
              "      <td>0.000000</td>\n",
              "      <td>0.0</td>\n",
              "      <td>0.000000</td>\n",
              "      <td>0.000000</td>\n",
              "    </tr>\n",
              "    <tr>\n",
              "      <th>...</th>\n",
              "      <td>...</td>\n",
              "      <td>...</td>\n",
              "      <td>...</td>\n",
              "      <td>...</td>\n",
              "      <td>...</td>\n",
              "      <td>...</td>\n",
              "    </tr>\n",
              "    <tr>\n",
              "      <th>86</th>\n",
              "      <td>0.021453</td>\n",
              "      <td>0.012411</td>\n",
              "      <td>0.000000</td>\n",
              "      <td>0.0</td>\n",
              "      <td>0.000000</td>\n",
              "      <td>0.000000</td>\n",
              "    </tr>\n",
              "    <tr>\n",
              "      <th>87</th>\n",
              "      <td>0.000000</td>\n",
              "      <td>0.189130</td>\n",
              "      <td>0.000000</td>\n",
              "      <td>0.0</td>\n",
              "      <td>0.023917</td>\n",
              "      <td>0.000000</td>\n",
              "    </tr>\n",
              "    <tr>\n",
              "      <th>88</th>\n",
              "      <td>0.000000</td>\n",
              "      <td>0.040667</td>\n",
              "      <td>0.031787</td>\n",
              "      <td>0.0</td>\n",
              "      <td>0.045714</td>\n",
              "      <td>0.058193</td>\n",
              "    </tr>\n",
              "    <tr>\n",
              "      <th>89</th>\n",
              "      <td>0.008667</td>\n",
              "      <td>0.065182</td>\n",
              "      <td>0.007055</td>\n",
              "      <td>0.0</td>\n",
              "      <td>0.010145</td>\n",
              "      <td>0.009225</td>\n",
              "    </tr>\n",
              "    <tr>\n",
              "      <th>90</th>\n",
              "      <td>0.008283</td>\n",
              "      <td>0.047918</td>\n",
              "      <td>0.040451</td>\n",
              "      <td>0.0</td>\n",
              "      <td>0.000000</td>\n",
              "      <td>0.017632</td>\n",
              "    </tr>\n",
              "  </tbody>\n",
              "</table>\n",
              "<p>91 rows × 6 columns</p>\n",
              "</div>\n",
              "      <button class=\"colab-df-convert\" onclick=\"convertToInteractive('df-5b1a72b5-6cc3-4eca-8b64-572ba1291614')\"\n",
              "              title=\"Convert this dataframe to an interactive table.\"\n",
              "              style=\"display:none;\">\n",
              "        \n",
              "  <svg xmlns=\"http://www.w3.org/2000/svg\" height=\"24px\"viewBox=\"0 0 24 24\"\n",
              "       width=\"24px\">\n",
              "    <path d=\"M0 0h24v24H0V0z\" fill=\"none\"/>\n",
              "    <path d=\"M18.56 5.44l.94 2.06.94-2.06 2.06-.94-2.06-.94-.94-2.06-.94 2.06-2.06.94zm-11 1L8.5 8.5l.94-2.06 2.06-.94-2.06-.94L8.5 2.5l-.94 2.06-2.06.94zm10 10l.94 2.06.94-2.06 2.06-.94-2.06-.94-.94-2.06-.94 2.06-2.06.94z\"/><path d=\"M17.41 7.96l-1.37-1.37c-.4-.4-.92-.59-1.43-.59-.52 0-1.04.2-1.43.59L10.3 9.45l-7.72 7.72c-.78.78-.78 2.05 0 2.83L4 21.41c.39.39.9.59 1.41.59.51 0 1.02-.2 1.41-.59l7.78-7.78 2.81-2.81c.8-.78.8-2.07 0-2.86zM5.41 20L4 18.59l7.72-7.72 1.47 1.35L5.41 20z\"/>\n",
              "  </svg>\n",
              "      </button>\n",
              "      \n",
              "  <style>\n",
              "    .colab-df-container {\n",
              "      display:flex;\n",
              "      flex-wrap:wrap;\n",
              "      gap: 12px;\n",
              "    }\n",
              "\n",
              "    .colab-df-convert {\n",
              "      background-color: #E8F0FE;\n",
              "      border: none;\n",
              "      border-radius: 50%;\n",
              "      cursor: pointer;\n",
              "      display: none;\n",
              "      fill: #1967D2;\n",
              "      height: 32px;\n",
              "      padding: 0 0 0 0;\n",
              "      width: 32px;\n",
              "    }\n",
              "\n",
              "    .colab-df-convert:hover {\n",
              "      background-color: #E2EBFA;\n",
              "      box-shadow: 0px 1px 2px rgba(60, 64, 67, 0.3), 0px 1px 3px 1px rgba(60, 64, 67, 0.15);\n",
              "      fill: #174EA6;\n",
              "    }\n",
              "\n",
              "    [theme=dark] .colab-df-convert {\n",
              "      background-color: #3B4455;\n",
              "      fill: #D2E3FC;\n",
              "    }\n",
              "\n",
              "    [theme=dark] .colab-df-convert:hover {\n",
              "      background-color: #434B5C;\n",
              "      box-shadow: 0px 1px 3px 1px rgba(0, 0, 0, 0.15);\n",
              "      filter: drop-shadow(0px 1px 2px rgba(0, 0, 0, 0.3));\n",
              "      fill: #FFFFFF;\n",
              "    }\n",
              "  </style>\n",
              "\n",
              "      <script>\n",
              "        const buttonEl =\n",
              "          document.querySelector('#df-5b1a72b5-6cc3-4eca-8b64-572ba1291614 button.colab-df-convert');\n",
              "        buttonEl.style.display =\n",
              "          google.colab.kernel.accessAllowed ? 'block' : 'none';\n",
              "\n",
              "        async function convertToInteractive(key) {\n",
              "          const element = document.querySelector('#df-5b1a72b5-6cc3-4eca-8b64-572ba1291614');\n",
              "          const dataTable =\n",
              "            await google.colab.kernel.invokeFunction('convertToInteractive',\n",
              "                                                     [key], {});\n",
              "          if (!dataTable) return;\n",
              "\n",
              "          const docLinkHtml = 'Like what you see? Visit the ' +\n",
              "            '<a target=\"_blank\" href=https://colab.research.google.com/notebooks/data_table.ipynb>data table notebook</a>'\n",
              "            + ' to learn more about interactive tables.';\n",
              "          element.innerHTML = '';\n",
              "          dataTable['output_type'] = 'display_data';\n",
              "          await google.colab.output.renderOutput(dataTable, element);\n",
              "          const docLink = document.createElement('div');\n",
              "          docLink.innerHTML = docLinkHtml;\n",
              "          element.appendChild(docLink);\n",
              "        }\n",
              "      </script>\n",
              "    </div>\n",
              "  </div>\n",
              "  "
            ]
          },
          "metadata": {},
          "execution_count": 56
        }
      ]
    },
    {
      "cell_type": "code",
      "source": [
        "# calculate average tfidf scores for portfolio\n",
        "tfidf_df_content3[portfolio].mean()"
      ],
      "metadata": {
        "id": "1iswAd93sbyL",
        "colab": {
          "base_uri": "https://localhost:8080/"
        },
        "outputId": "f63b30f8-97de-41b7-fd58-e2c9cc43dd8a"
      },
      "execution_count": 57,
      "outputs": [
        {
          "output_type": "execute_result",
          "data": {
            "text/plain": [
              "auto              0.011392\n",
              "bank              0.034691\n",
              "oil               0.017953\n",
              "pharmaceutical    0.004524\n",
              "cement            0.007359\n",
              "technology        0.010974\n",
              "dtype: float64"
            ]
          },
          "metadata": {},
          "execution_count": 57
        }
      ]
    },
    {
      "cell_type": "code",
      "source": [
        "# Calculate tfidf for all columns and list top 10\n",
        "tfidf_df_content3.mean().sort_values(ascending = False).head(10)"
      ],
      "metadata": {
        "colab": {
          "base_uri": "https://localhost:8080/"
        },
        "id": "fhF5rFxXP5eZ",
        "outputId": "0f4c8b1f-68d0-48e5-b3e2-b8939170b5c9"
      },
      "execution_count": 58,
      "outputs": [
        {
          "output_type": "execute_result",
          "data": {
            "text/plain": [
              "india     0.065221\n",
              "fund      0.053761\n",
              "target    0.049410\n",
              "buy       0.044582\n",
              "crore     0.038657\n",
              "stock     0.037806\n",
              "bank      0.034691\n",
              "rate      0.033955\n",
              "mutual    0.033270\n",
              "year      0.032974\n",
              "dtype: float64"
            ]
          },
          "metadata": {},
          "execution_count": 58
        }
      ]
    },
    {
      "cell_type": "markdown",
      "source": [
        "## Word2vec"
      ],
      "metadata": {
        "id": "jA5QqaSSVgad"
      }
    },
    {
      "cell_type": "code",
      "source": [
        "dfw = (dataset.copy().loc[:,['cleaned_title']])"
      ],
      "metadata": {
        "id": "EONKUq6JVJn3"
      },
      "execution_count": 59,
      "outputs": []
    },
    {
      "cell_type": "code",
      "source": [
        "dfw"
      ],
      "metadata": {
        "colab": {
          "base_uri": "https://localhost:8080/",
          "height": 0
        },
        "id": "aHeTZh58ZiSG",
        "outputId": "54bd6896-207d-4530-9ee9-af1bd0e99636"
      },
      "execution_count": 60,
      "outputs": [
        {
          "output_type": "execute_result",
          "data": {
            "text/plain": [
              "                                        cleaned_title\n",
              "0   life insurance claim would valid case death du...\n",
              "1   woman manage money well men step peculiar mone...\n",
              "2   sell equity buy gold instead amfi see uptick f...\n",
              "3   planning summer holiday five co branded airlin...\n",
              "4   explained crypto taxation work india hypertens...\n",
              "..                                                ...\n",
              "86  asia share open gingerly u inflation earnings ...\n",
              "87  nomura singapore buy lakh share bls internatio...\n",
              "88  wall street tumble close worry mount ahead cpi...\n",
              "89  hot stock bet shriram transport hero motocorp ...\n",
              "90  p dow close lower bank earnings inflation data...\n",
              "\n",
              "[91 rows x 1 columns]"
            ],
            "text/html": [
              "\n",
              "  <div id=\"df-8a11bb5c-f016-448a-aafa-4167b6f4cafc\">\n",
              "    <div class=\"colab-df-container\">\n",
              "      <div>\n",
              "<style scoped>\n",
              "    .dataframe tbody tr th:only-of-type {\n",
              "        vertical-align: middle;\n",
              "    }\n",
              "\n",
              "    .dataframe tbody tr th {\n",
              "        vertical-align: top;\n",
              "    }\n",
              "\n",
              "    .dataframe thead th {\n",
              "        text-align: right;\n",
              "    }\n",
              "</style>\n",
              "<table border=\"1\" class=\"dataframe\">\n",
              "  <thead>\n",
              "    <tr style=\"text-align: right;\">\n",
              "      <th></th>\n",
              "      <th>cleaned_title</th>\n",
              "    </tr>\n",
              "  </thead>\n",
              "  <tbody>\n",
              "    <tr>\n",
              "      <th>0</th>\n",
              "      <td>life insurance claim would valid case death du...</td>\n",
              "    </tr>\n",
              "    <tr>\n",
              "      <th>1</th>\n",
              "      <td>woman manage money well men step peculiar mone...</td>\n",
              "    </tr>\n",
              "    <tr>\n",
              "      <th>2</th>\n",
              "      <td>sell equity buy gold instead amfi see uptick f...</td>\n",
              "    </tr>\n",
              "    <tr>\n",
              "      <th>3</th>\n",
              "      <td>planning summer holiday five co branded airlin...</td>\n",
              "    </tr>\n",
              "    <tr>\n",
              "      <th>4</th>\n",
              "      <td>explained crypto taxation work india hypertens...</td>\n",
              "    </tr>\n",
              "    <tr>\n",
              "      <th>...</th>\n",
              "      <td>...</td>\n",
              "    </tr>\n",
              "    <tr>\n",
              "      <th>86</th>\n",
              "      <td>asia share open gingerly u inflation earnings ...</td>\n",
              "    </tr>\n",
              "    <tr>\n",
              "      <th>87</th>\n",
              "      <td>nomura singapore buy lakh share bls internatio...</td>\n",
              "    </tr>\n",
              "    <tr>\n",
              "      <th>88</th>\n",
              "      <td>wall street tumble close worry mount ahead cpi...</td>\n",
              "    </tr>\n",
              "    <tr>\n",
              "      <th>89</th>\n",
              "      <td>hot stock bet shriram transport hero motocorp ...</td>\n",
              "    </tr>\n",
              "    <tr>\n",
              "      <th>90</th>\n",
              "      <td>p dow close lower bank earnings inflation data...</td>\n",
              "    </tr>\n",
              "  </tbody>\n",
              "</table>\n",
              "<p>91 rows × 1 columns</p>\n",
              "</div>\n",
              "      <button class=\"colab-df-convert\" onclick=\"convertToInteractive('df-8a11bb5c-f016-448a-aafa-4167b6f4cafc')\"\n",
              "              title=\"Convert this dataframe to an interactive table.\"\n",
              "              style=\"display:none;\">\n",
              "        \n",
              "  <svg xmlns=\"http://www.w3.org/2000/svg\" height=\"24px\"viewBox=\"0 0 24 24\"\n",
              "       width=\"24px\">\n",
              "    <path d=\"M0 0h24v24H0V0z\" fill=\"none\"/>\n",
              "    <path d=\"M18.56 5.44l.94 2.06.94-2.06 2.06-.94-2.06-.94-.94-2.06-.94 2.06-2.06.94zm-11 1L8.5 8.5l.94-2.06 2.06-.94-2.06-.94L8.5 2.5l-.94 2.06-2.06.94zm10 10l.94 2.06.94-2.06 2.06-.94-2.06-.94-.94-2.06-.94 2.06-2.06.94z\"/><path d=\"M17.41 7.96l-1.37-1.37c-.4-.4-.92-.59-1.43-.59-.52 0-1.04.2-1.43.59L10.3 9.45l-7.72 7.72c-.78.78-.78 2.05 0 2.83L4 21.41c.39.39.9.59 1.41.59.51 0 1.02-.2 1.41-.59l7.78-7.78 2.81-2.81c.8-.78.8-2.07 0-2.86zM5.41 20L4 18.59l7.72-7.72 1.47 1.35L5.41 20z\"/>\n",
              "  </svg>\n",
              "      </button>\n",
              "      \n",
              "  <style>\n",
              "    .colab-df-container {\n",
              "      display:flex;\n",
              "      flex-wrap:wrap;\n",
              "      gap: 12px;\n",
              "    }\n",
              "\n",
              "    .colab-df-convert {\n",
              "      background-color: #E8F0FE;\n",
              "      border: none;\n",
              "      border-radius: 50%;\n",
              "      cursor: pointer;\n",
              "      display: none;\n",
              "      fill: #1967D2;\n",
              "      height: 32px;\n",
              "      padding: 0 0 0 0;\n",
              "      width: 32px;\n",
              "    }\n",
              "\n",
              "    .colab-df-convert:hover {\n",
              "      background-color: #E2EBFA;\n",
              "      box-shadow: 0px 1px 2px rgba(60, 64, 67, 0.3), 0px 1px 3px 1px rgba(60, 64, 67, 0.15);\n",
              "      fill: #174EA6;\n",
              "    }\n",
              "\n",
              "    [theme=dark] .colab-df-convert {\n",
              "      background-color: #3B4455;\n",
              "      fill: #D2E3FC;\n",
              "    }\n",
              "\n",
              "    [theme=dark] .colab-df-convert:hover {\n",
              "      background-color: #434B5C;\n",
              "      box-shadow: 0px 1px 3px 1px rgba(0, 0, 0, 0.15);\n",
              "      filter: drop-shadow(0px 1px 2px rgba(0, 0, 0, 0.3));\n",
              "      fill: #FFFFFF;\n",
              "    }\n",
              "  </style>\n",
              "\n",
              "      <script>\n",
              "        const buttonEl =\n",
              "          document.querySelector('#df-8a11bb5c-f016-448a-aafa-4167b6f4cafc button.colab-df-convert');\n",
              "        buttonEl.style.display =\n",
              "          google.colab.kernel.accessAllowed ? 'block' : 'none';\n",
              "\n",
              "        async function convertToInteractive(key) {\n",
              "          const element = document.querySelector('#df-8a11bb5c-f016-448a-aafa-4167b6f4cafc');\n",
              "          const dataTable =\n",
              "            await google.colab.kernel.invokeFunction('convertToInteractive',\n",
              "                                                     [key], {});\n",
              "          if (!dataTable) return;\n",
              "\n",
              "          const docLinkHtml = 'Like what you see? Visit the ' +\n",
              "            '<a target=\"_blank\" href=https://colab.research.google.com/notebooks/data_table.ipynb>data table notebook</a>'\n",
              "            + ' to learn more about interactive tables.';\n",
              "          element.innerHTML = '';\n",
              "          dataTable['output_type'] = 'display_data';\n",
              "          await google.colab.output.renderOutput(dataTable, element);\n",
              "          const docLink = document.createElement('div');\n",
              "          docLink.innerHTML = docLinkHtml;\n",
              "          element.appendChild(docLink);\n",
              "        }\n",
              "      </script>\n",
              "    </div>\n",
              "  </div>\n",
              "  "
            ]
          },
          "metadata": {},
          "execution_count": 60
        }
      ]
    },
    {
      "cell_type": "code",
      "source": [
        "dfw['token'] = dfw['cleaned_title'].apply(lambda x : nltk.word_tokenize(x))"
      ],
      "metadata": {
        "id": "ANtMpZIkZjxq"
      },
      "execution_count": 61,
      "outputs": []
    },
    {
      "cell_type": "code",
      "source": [
        "dfw"
      ],
      "metadata": {
        "colab": {
          "base_uri": "https://localhost:8080/",
          "height": 0
        },
        "id": "A3XUAQM0Z2Jn",
        "outputId": "100cdc6b-83db-4020-ff0b-96cf55cc1c6b"
      },
      "execution_count": 62,
      "outputs": [
        {
          "output_type": "execute_result",
          "data": {
            "text/plain": [
              "                                        cleaned_title  \\\n",
              "0   life insurance claim would valid case death du...   \n",
              "1   woman manage money well men step peculiar mone...   \n",
              "2   sell equity buy gold instead amfi see uptick f...   \n",
              "3   planning summer holiday five co branded airlin...   \n",
              "4   explained crypto taxation work india hypertens...   \n",
              "..                                                ...   \n",
              "86  asia share open gingerly u inflation earnings ...   \n",
              "87  nomura singapore buy lakh share bls internatio...   \n",
              "88  wall street tumble close worry mount ahead cpi...   \n",
              "89  hot stock bet shriram transport hero motocorp ...   \n",
              "90  p dow close lower bank earnings inflation data...   \n",
              "\n",
              "                                                token  \n",
              "0   [life, insurance, claim, would, valid, case, d...  \n",
              "1   [woman, manage, money, well, men, step, peculi...  \n",
              "2   [sell, equity, buy, gold, instead, amfi, see, ...  \n",
              "3   [planning, summer, holiday, five, co, branded,...  \n",
              "4   [explained, crypto, taxation, work, india, hyp...  \n",
              "..                                                ...  \n",
              "86  [asia, share, open, gingerly, u, inflation, ea...  \n",
              "87  [nomura, singapore, buy, lakh, share, bls, int...  \n",
              "88  [wall, street, tumble, close, worry, mount, ah...  \n",
              "89  [hot, stock, bet, shriram, transport, hero, mo...  \n",
              "90  [p, dow, close, lower, bank, earnings, inflati...  \n",
              "\n",
              "[91 rows x 2 columns]"
            ],
            "text/html": [
              "\n",
              "  <div id=\"df-3e665a17-0f81-4ffa-97b2-a1c8acb739bf\">\n",
              "    <div class=\"colab-df-container\">\n",
              "      <div>\n",
              "<style scoped>\n",
              "    .dataframe tbody tr th:only-of-type {\n",
              "        vertical-align: middle;\n",
              "    }\n",
              "\n",
              "    .dataframe tbody tr th {\n",
              "        vertical-align: top;\n",
              "    }\n",
              "\n",
              "    .dataframe thead th {\n",
              "        text-align: right;\n",
              "    }\n",
              "</style>\n",
              "<table border=\"1\" class=\"dataframe\">\n",
              "  <thead>\n",
              "    <tr style=\"text-align: right;\">\n",
              "      <th></th>\n",
              "      <th>cleaned_title</th>\n",
              "      <th>token</th>\n",
              "    </tr>\n",
              "  </thead>\n",
              "  <tbody>\n",
              "    <tr>\n",
              "      <th>0</th>\n",
              "      <td>life insurance claim would valid case death du...</td>\n",
              "      <td>[life, insurance, claim, would, valid, case, d...</td>\n",
              "    </tr>\n",
              "    <tr>\n",
              "      <th>1</th>\n",
              "      <td>woman manage money well men step peculiar mone...</td>\n",
              "      <td>[woman, manage, money, well, men, step, peculi...</td>\n",
              "    </tr>\n",
              "    <tr>\n",
              "      <th>2</th>\n",
              "      <td>sell equity buy gold instead amfi see uptick f...</td>\n",
              "      <td>[sell, equity, buy, gold, instead, amfi, see, ...</td>\n",
              "    </tr>\n",
              "    <tr>\n",
              "      <th>3</th>\n",
              "      <td>planning summer holiday five co branded airlin...</td>\n",
              "      <td>[planning, summer, holiday, five, co, branded,...</td>\n",
              "    </tr>\n",
              "    <tr>\n",
              "      <th>4</th>\n",
              "      <td>explained crypto taxation work india hypertens...</td>\n",
              "      <td>[explained, crypto, taxation, work, india, hyp...</td>\n",
              "    </tr>\n",
              "    <tr>\n",
              "      <th>...</th>\n",
              "      <td>...</td>\n",
              "      <td>...</td>\n",
              "    </tr>\n",
              "    <tr>\n",
              "      <th>86</th>\n",
              "      <td>asia share open gingerly u inflation earnings ...</td>\n",
              "      <td>[asia, share, open, gingerly, u, inflation, ea...</td>\n",
              "    </tr>\n",
              "    <tr>\n",
              "      <th>87</th>\n",
              "      <td>nomura singapore buy lakh share bls internatio...</td>\n",
              "      <td>[nomura, singapore, buy, lakh, share, bls, int...</td>\n",
              "    </tr>\n",
              "    <tr>\n",
              "      <th>88</th>\n",
              "      <td>wall street tumble close worry mount ahead cpi...</td>\n",
              "      <td>[wall, street, tumble, close, worry, mount, ah...</td>\n",
              "    </tr>\n",
              "    <tr>\n",
              "      <th>89</th>\n",
              "      <td>hot stock bet shriram transport hero motocorp ...</td>\n",
              "      <td>[hot, stock, bet, shriram, transport, hero, mo...</td>\n",
              "    </tr>\n",
              "    <tr>\n",
              "      <th>90</th>\n",
              "      <td>p dow close lower bank earnings inflation data...</td>\n",
              "      <td>[p, dow, close, lower, bank, earnings, inflati...</td>\n",
              "    </tr>\n",
              "  </tbody>\n",
              "</table>\n",
              "<p>91 rows × 2 columns</p>\n",
              "</div>\n",
              "      <button class=\"colab-df-convert\" onclick=\"convertToInteractive('df-3e665a17-0f81-4ffa-97b2-a1c8acb739bf')\"\n",
              "              title=\"Convert this dataframe to an interactive table.\"\n",
              "              style=\"display:none;\">\n",
              "        \n",
              "  <svg xmlns=\"http://www.w3.org/2000/svg\" height=\"24px\"viewBox=\"0 0 24 24\"\n",
              "       width=\"24px\">\n",
              "    <path d=\"M0 0h24v24H0V0z\" fill=\"none\"/>\n",
              "    <path d=\"M18.56 5.44l.94 2.06.94-2.06 2.06-.94-2.06-.94-.94-2.06-.94 2.06-2.06.94zm-11 1L8.5 8.5l.94-2.06 2.06-.94-2.06-.94L8.5 2.5l-.94 2.06-2.06.94zm10 10l.94 2.06.94-2.06 2.06-.94-2.06-.94-.94-2.06-.94 2.06-2.06.94z\"/><path d=\"M17.41 7.96l-1.37-1.37c-.4-.4-.92-.59-1.43-.59-.52 0-1.04.2-1.43.59L10.3 9.45l-7.72 7.72c-.78.78-.78 2.05 0 2.83L4 21.41c.39.39.9.59 1.41.59.51 0 1.02-.2 1.41-.59l7.78-7.78 2.81-2.81c.8-.78.8-2.07 0-2.86zM5.41 20L4 18.59l7.72-7.72 1.47 1.35L5.41 20z\"/>\n",
              "  </svg>\n",
              "      </button>\n",
              "      \n",
              "  <style>\n",
              "    .colab-df-container {\n",
              "      display:flex;\n",
              "      flex-wrap:wrap;\n",
              "      gap: 12px;\n",
              "    }\n",
              "\n",
              "    .colab-df-convert {\n",
              "      background-color: #E8F0FE;\n",
              "      border: none;\n",
              "      border-radius: 50%;\n",
              "      cursor: pointer;\n",
              "      display: none;\n",
              "      fill: #1967D2;\n",
              "      height: 32px;\n",
              "      padding: 0 0 0 0;\n",
              "      width: 32px;\n",
              "    }\n",
              "\n",
              "    .colab-df-convert:hover {\n",
              "      background-color: #E2EBFA;\n",
              "      box-shadow: 0px 1px 2px rgba(60, 64, 67, 0.3), 0px 1px 3px 1px rgba(60, 64, 67, 0.15);\n",
              "      fill: #174EA6;\n",
              "    }\n",
              "\n",
              "    [theme=dark] .colab-df-convert {\n",
              "      background-color: #3B4455;\n",
              "      fill: #D2E3FC;\n",
              "    }\n",
              "\n",
              "    [theme=dark] .colab-df-convert:hover {\n",
              "      background-color: #434B5C;\n",
              "      box-shadow: 0px 1px 3px 1px rgba(0, 0, 0, 0.15);\n",
              "      filter: drop-shadow(0px 1px 2px rgba(0, 0, 0, 0.3));\n",
              "      fill: #FFFFFF;\n",
              "    }\n",
              "  </style>\n",
              "\n",
              "      <script>\n",
              "        const buttonEl =\n",
              "          document.querySelector('#df-3e665a17-0f81-4ffa-97b2-a1c8acb739bf button.colab-df-convert');\n",
              "        buttonEl.style.display =\n",
              "          google.colab.kernel.accessAllowed ? 'block' : 'none';\n",
              "\n",
              "        async function convertToInteractive(key) {\n",
              "          const element = document.querySelector('#df-3e665a17-0f81-4ffa-97b2-a1c8acb739bf');\n",
              "          const dataTable =\n",
              "            await google.colab.kernel.invokeFunction('convertToInteractive',\n",
              "                                                     [key], {});\n",
              "          if (!dataTable) return;\n",
              "\n",
              "          const docLinkHtml = 'Like what you see? Visit the ' +\n",
              "            '<a target=\"_blank\" href=https://colab.research.google.com/notebooks/data_table.ipynb>data table notebook</a>'\n",
              "            + ' to learn more about interactive tables.';\n",
              "          element.innerHTML = '';\n",
              "          dataTable['output_type'] = 'display_data';\n",
              "          await google.colab.output.renderOutput(dataTable, element);\n",
              "          const docLink = document.createElement('div');\n",
              "          docLink.innerHTML = docLinkHtml;\n",
              "          element.appendChild(docLink);\n",
              "        }\n",
              "      </script>\n",
              "    </div>\n",
              "  </div>\n",
              "  "
            ]
          },
          "metadata": {},
          "execution_count": 62
        }
      ]
    },
    {
      "cell_type": "code",
      "source": [
        "# take a subset of 200 tokens here. These 200 may be ‘random’ or top 200 tokens with the highest tf-idf scores.\n",
        "top200_tokens_tfidf_3 = (tfidf_df_content3.mean()\n",
        "                                          .sort_values(ascending=False)\n",
        "                                          .head(200)\n",
        "                                          .index)\n",
        "# For content3 with embedding size to be 200\n",
        "model31_word2vec = Word2Vec(sentences=dfw.token,\n",
        "                          size=200,  #Embedding size = 200 --> Change as per the need  \n",
        "                          min_count=1)\n",
        "top200_tokens_tfidf_vectors = {token: model31_word2vec.wv[token] \n",
        "                               for token in top200_tokens_tfidf_3}\n",
        "top200_tfidf_word_vectors_m31 = (pd.DataFrame(top200_tokens_tfidf_vectors)\n",
        "                               .transpose())\n",
        "top200_tfidf_word_vectors_m31"
      ],
      "metadata": {
        "colab": {
          "base_uri": "https://localhost:8080/",
          "height": 0
        },
        "id": "Mg3XjOrlZ4LT",
        "outputId": "c9097377-6b53-4863-b086-c1ccd61bead3"
      },
      "execution_count": 63,
      "outputs": [
        {
          "output_type": "stream",
          "name": "stderr",
          "text": [
            "WARNING:gensim.models.base_any2vec:under 10 jobs per worker: consider setting a smaller `batch_words' for smoother alpha decay\n"
          ]
        },
        {
          "output_type": "execute_result",
          "data": {
            "text/plain": [
              "             0         1         2         3         4         5         6    \\\n",
              "india   0.002504 -0.008687 -0.047321 -0.069003  0.036305 -0.015278 -0.016913   \n",
              "fund    0.001682 -0.003804 -0.036713 -0.048042  0.028024 -0.013389 -0.010929   \n",
              "target -0.000421 -0.006816 -0.024298 -0.035750  0.022187 -0.009581 -0.005844   \n",
              "buy    -0.001690 -0.007267 -0.025813 -0.037920  0.024321 -0.012135 -0.007142   \n",
              "crore   0.003249 -0.003272 -0.029199 -0.044398  0.024239 -0.011310 -0.011091   \n",
              "...          ...       ...       ...       ...       ...       ...       ...   \n",
              "news    0.000348 -0.003512 -0.012202 -0.014774  0.007361 -0.002725 -0.006581   \n",
              "mumbai  0.001916 -0.000626 -0.010554 -0.017954  0.008035 -0.005340 -0.005637   \n",
              "money   0.001283 -0.003326 -0.007186 -0.005642  0.004874 -0.002089  0.000390   \n",
              "day     0.002896 -0.002944 -0.012286 -0.016808  0.007172 -0.003383 -0.002495   \n",
              "crisis -0.001301 -0.000502 -0.006982 -0.010676  0.006563 -0.000004 -0.001171   \n",
              "\n",
              "             7         8         9    ...       190       191       192  \\\n",
              "india  -0.045479  0.063061 -0.075846  ... -0.043548  0.071775 -0.020930   \n",
              "fund   -0.035175  0.043284 -0.055937  ... -0.029414  0.055276 -0.014087   \n",
              "target -0.027969  0.037486 -0.041112  ... -0.023466  0.040579 -0.010831   \n",
              "buy    -0.028014  0.039669 -0.044419  ... -0.024909  0.042041 -0.012504   \n",
              "crore  -0.029498  0.037768 -0.042578  ... -0.023579  0.044118 -0.012720   \n",
              "...          ...       ...       ...  ...       ...       ...       ...   \n",
              "news   -0.010682  0.017411 -0.018327  ... -0.010053  0.016127 -0.006404   \n",
              "mumbai -0.012434  0.013231 -0.019875  ... -0.010916  0.020815 -0.006715   \n",
              "money  -0.005687  0.005841 -0.008819  ... -0.005394  0.008232 -0.000025   \n",
              "day    -0.012071  0.013662 -0.016790  ... -0.010024  0.014705 -0.005064   \n",
              "crisis -0.006381  0.006189 -0.008924  ... -0.004669  0.010965 -0.003840   \n",
              "\n",
              "             193       194       195       196       197       198       199  \n",
              "india   0.054206 -0.014900 -0.023687 -0.014423  0.005309  0.055550 -0.013083  \n",
              "fund    0.042480 -0.009132 -0.017404 -0.013839  0.000856  0.042648 -0.008298  \n",
              "target  0.034838 -0.009633 -0.012814 -0.010636  0.000728  0.030960 -0.007238  \n",
              "buy     0.030310 -0.008647 -0.012110 -0.009490  0.000728  0.032624 -0.005754  \n",
              "crore   0.036919 -0.006777 -0.011469 -0.009253  0.002860  0.032452 -0.006573  \n",
              "...          ...       ...       ...       ...       ...       ...       ...  \n",
              "news    0.015791 -0.004323 -0.004088 -0.005602  0.001730  0.014168 -0.005696  \n",
              "mumbai  0.011535 -0.003684 -0.003779 -0.002569  0.003563  0.012714 -0.002970  \n",
              "money   0.007212  0.000452 -0.002187 -0.000465  0.002469  0.004808  0.000014  \n",
              "day     0.010781 -0.004089 -0.005534 -0.004945  0.001657  0.013126 -0.005437  \n",
              "crisis  0.004982 -0.001876 -0.002630  0.000228  0.001068  0.006741 -0.001000  \n",
              "\n",
              "[200 rows x 200 columns]"
            ],
            "text/html": [
              "\n",
              "  <div id=\"df-551400fd-b3ce-49f9-8717-a7e6f6b5eceb\">\n",
              "    <div class=\"colab-df-container\">\n",
              "      <div>\n",
              "<style scoped>\n",
              "    .dataframe tbody tr th:only-of-type {\n",
              "        vertical-align: middle;\n",
              "    }\n",
              "\n",
              "    .dataframe tbody tr th {\n",
              "        vertical-align: top;\n",
              "    }\n",
              "\n",
              "    .dataframe thead th {\n",
              "        text-align: right;\n",
              "    }\n",
              "</style>\n",
              "<table border=\"1\" class=\"dataframe\">\n",
              "  <thead>\n",
              "    <tr style=\"text-align: right;\">\n",
              "      <th></th>\n",
              "      <th>0</th>\n",
              "      <th>1</th>\n",
              "      <th>2</th>\n",
              "      <th>3</th>\n",
              "      <th>4</th>\n",
              "      <th>5</th>\n",
              "      <th>6</th>\n",
              "      <th>7</th>\n",
              "      <th>8</th>\n",
              "      <th>9</th>\n",
              "      <th>...</th>\n",
              "      <th>190</th>\n",
              "      <th>191</th>\n",
              "      <th>192</th>\n",
              "      <th>193</th>\n",
              "      <th>194</th>\n",
              "      <th>195</th>\n",
              "      <th>196</th>\n",
              "      <th>197</th>\n",
              "      <th>198</th>\n",
              "      <th>199</th>\n",
              "    </tr>\n",
              "  </thead>\n",
              "  <tbody>\n",
              "    <tr>\n",
              "      <th>india</th>\n",
              "      <td>0.002504</td>\n",
              "      <td>-0.008687</td>\n",
              "      <td>-0.047321</td>\n",
              "      <td>-0.069003</td>\n",
              "      <td>0.036305</td>\n",
              "      <td>-0.015278</td>\n",
              "      <td>-0.016913</td>\n",
              "      <td>-0.045479</td>\n",
              "      <td>0.063061</td>\n",
              "      <td>-0.075846</td>\n",
              "      <td>...</td>\n",
              "      <td>-0.043548</td>\n",
              "      <td>0.071775</td>\n",
              "      <td>-0.020930</td>\n",
              "      <td>0.054206</td>\n",
              "      <td>-0.014900</td>\n",
              "      <td>-0.023687</td>\n",
              "      <td>-0.014423</td>\n",
              "      <td>0.005309</td>\n",
              "      <td>0.055550</td>\n",
              "      <td>-0.013083</td>\n",
              "    </tr>\n",
              "    <tr>\n",
              "      <th>fund</th>\n",
              "      <td>0.001682</td>\n",
              "      <td>-0.003804</td>\n",
              "      <td>-0.036713</td>\n",
              "      <td>-0.048042</td>\n",
              "      <td>0.028024</td>\n",
              "      <td>-0.013389</td>\n",
              "      <td>-0.010929</td>\n",
              "      <td>-0.035175</td>\n",
              "      <td>0.043284</td>\n",
              "      <td>-0.055937</td>\n",
              "      <td>...</td>\n",
              "      <td>-0.029414</td>\n",
              "      <td>0.055276</td>\n",
              "      <td>-0.014087</td>\n",
              "      <td>0.042480</td>\n",
              "      <td>-0.009132</td>\n",
              "      <td>-0.017404</td>\n",
              "      <td>-0.013839</td>\n",
              "      <td>0.000856</td>\n",
              "      <td>0.042648</td>\n",
              "      <td>-0.008298</td>\n",
              "    </tr>\n",
              "    <tr>\n",
              "      <th>target</th>\n",
              "      <td>-0.000421</td>\n",
              "      <td>-0.006816</td>\n",
              "      <td>-0.024298</td>\n",
              "      <td>-0.035750</td>\n",
              "      <td>0.022187</td>\n",
              "      <td>-0.009581</td>\n",
              "      <td>-0.005844</td>\n",
              "      <td>-0.027969</td>\n",
              "      <td>0.037486</td>\n",
              "      <td>-0.041112</td>\n",
              "      <td>...</td>\n",
              "      <td>-0.023466</td>\n",
              "      <td>0.040579</td>\n",
              "      <td>-0.010831</td>\n",
              "      <td>0.034838</td>\n",
              "      <td>-0.009633</td>\n",
              "      <td>-0.012814</td>\n",
              "      <td>-0.010636</td>\n",
              "      <td>0.000728</td>\n",
              "      <td>0.030960</td>\n",
              "      <td>-0.007238</td>\n",
              "    </tr>\n",
              "    <tr>\n",
              "      <th>buy</th>\n",
              "      <td>-0.001690</td>\n",
              "      <td>-0.007267</td>\n",
              "      <td>-0.025813</td>\n",
              "      <td>-0.037920</td>\n",
              "      <td>0.024321</td>\n",
              "      <td>-0.012135</td>\n",
              "      <td>-0.007142</td>\n",
              "      <td>-0.028014</td>\n",
              "      <td>0.039669</td>\n",
              "      <td>-0.044419</td>\n",
              "      <td>...</td>\n",
              "      <td>-0.024909</td>\n",
              "      <td>0.042041</td>\n",
              "      <td>-0.012504</td>\n",
              "      <td>0.030310</td>\n",
              "      <td>-0.008647</td>\n",
              "      <td>-0.012110</td>\n",
              "      <td>-0.009490</td>\n",
              "      <td>0.000728</td>\n",
              "      <td>0.032624</td>\n",
              "      <td>-0.005754</td>\n",
              "    </tr>\n",
              "    <tr>\n",
              "      <th>crore</th>\n",
              "      <td>0.003249</td>\n",
              "      <td>-0.003272</td>\n",
              "      <td>-0.029199</td>\n",
              "      <td>-0.044398</td>\n",
              "      <td>0.024239</td>\n",
              "      <td>-0.011310</td>\n",
              "      <td>-0.011091</td>\n",
              "      <td>-0.029498</td>\n",
              "      <td>0.037768</td>\n",
              "      <td>-0.042578</td>\n",
              "      <td>...</td>\n",
              "      <td>-0.023579</td>\n",
              "      <td>0.044118</td>\n",
              "      <td>-0.012720</td>\n",
              "      <td>0.036919</td>\n",
              "      <td>-0.006777</td>\n",
              "      <td>-0.011469</td>\n",
              "      <td>-0.009253</td>\n",
              "      <td>0.002860</td>\n",
              "      <td>0.032452</td>\n",
              "      <td>-0.006573</td>\n",
              "    </tr>\n",
              "    <tr>\n",
              "      <th>...</th>\n",
              "      <td>...</td>\n",
              "      <td>...</td>\n",
              "      <td>...</td>\n",
              "      <td>...</td>\n",
              "      <td>...</td>\n",
              "      <td>...</td>\n",
              "      <td>...</td>\n",
              "      <td>...</td>\n",
              "      <td>...</td>\n",
              "      <td>...</td>\n",
              "      <td>...</td>\n",
              "      <td>...</td>\n",
              "      <td>...</td>\n",
              "      <td>...</td>\n",
              "      <td>...</td>\n",
              "      <td>...</td>\n",
              "      <td>...</td>\n",
              "      <td>...</td>\n",
              "      <td>...</td>\n",
              "      <td>...</td>\n",
              "      <td>...</td>\n",
              "    </tr>\n",
              "    <tr>\n",
              "      <th>news</th>\n",
              "      <td>0.000348</td>\n",
              "      <td>-0.003512</td>\n",
              "      <td>-0.012202</td>\n",
              "      <td>-0.014774</td>\n",
              "      <td>0.007361</td>\n",
              "      <td>-0.002725</td>\n",
              "      <td>-0.006581</td>\n",
              "      <td>-0.010682</td>\n",
              "      <td>0.017411</td>\n",
              "      <td>-0.018327</td>\n",
              "      <td>...</td>\n",
              "      <td>-0.010053</td>\n",
              "      <td>0.016127</td>\n",
              "      <td>-0.006404</td>\n",
              "      <td>0.015791</td>\n",
              "      <td>-0.004323</td>\n",
              "      <td>-0.004088</td>\n",
              "      <td>-0.005602</td>\n",
              "      <td>0.001730</td>\n",
              "      <td>0.014168</td>\n",
              "      <td>-0.005696</td>\n",
              "    </tr>\n",
              "    <tr>\n",
              "      <th>mumbai</th>\n",
              "      <td>0.001916</td>\n",
              "      <td>-0.000626</td>\n",
              "      <td>-0.010554</td>\n",
              "      <td>-0.017954</td>\n",
              "      <td>0.008035</td>\n",
              "      <td>-0.005340</td>\n",
              "      <td>-0.005637</td>\n",
              "      <td>-0.012434</td>\n",
              "      <td>0.013231</td>\n",
              "      <td>-0.019875</td>\n",
              "      <td>...</td>\n",
              "      <td>-0.010916</td>\n",
              "      <td>0.020815</td>\n",
              "      <td>-0.006715</td>\n",
              "      <td>0.011535</td>\n",
              "      <td>-0.003684</td>\n",
              "      <td>-0.003779</td>\n",
              "      <td>-0.002569</td>\n",
              "      <td>0.003563</td>\n",
              "      <td>0.012714</td>\n",
              "      <td>-0.002970</td>\n",
              "    </tr>\n",
              "    <tr>\n",
              "      <th>money</th>\n",
              "      <td>0.001283</td>\n",
              "      <td>-0.003326</td>\n",
              "      <td>-0.007186</td>\n",
              "      <td>-0.005642</td>\n",
              "      <td>0.004874</td>\n",
              "      <td>-0.002089</td>\n",
              "      <td>0.000390</td>\n",
              "      <td>-0.005687</td>\n",
              "      <td>0.005841</td>\n",
              "      <td>-0.008819</td>\n",
              "      <td>...</td>\n",
              "      <td>-0.005394</td>\n",
              "      <td>0.008232</td>\n",
              "      <td>-0.000025</td>\n",
              "      <td>0.007212</td>\n",
              "      <td>0.000452</td>\n",
              "      <td>-0.002187</td>\n",
              "      <td>-0.000465</td>\n",
              "      <td>0.002469</td>\n",
              "      <td>0.004808</td>\n",
              "      <td>0.000014</td>\n",
              "    </tr>\n",
              "    <tr>\n",
              "      <th>day</th>\n",
              "      <td>0.002896</td>\n",
              "      <td>-0.002944</td>\n",
              "      <td>-0.012286</td>\n",
              "      <td>-0.016808</td>\n",
              "      <td>0.007172</td>\n",
              "      <td>-0.003383</td>\n",
              "      <td>-0.002495</td>\n",
              "      <td>-0.012071</td>\n",
              "      <td>0.013662</td>\n",
              "      <td>-0.016790</td>\n",
              "      <td>...</td>\n",
              "      <td>-0.010024</td>\n",
              "      <td>0.014705</td>\n",
              "      <td>-0.005064</td>\n",
              "      <td>0.010781</td>\n",
              "      <td>-0.004089</td>\n",
              "      <td>-0.005534</td>\n",
              "      <td>-0.004945</td>\n",
              "      <td>0.001657</td>\n",
              "      <td>0.013126</td>\n",
              "      <td>-0.005437</td>\n",
              "    </tr>\n",
              "    <tr>\n",
              "      <th>crisis</th>\n",
              "      <td>-0.001301</td>\n",
              "      <td>-0.000502</td>\n",
              "      <td>-0.006982</td>\n",
              "      <td>-0.010676</td>\n",
              "      <td>0.006563</td>\n",
              "      <td>-0.000004</td>\n",
              "      <td>-0.001171</td>\n",
              "      <td>-0.006381</td>\n",
              "      <td>0.006189</td>\n",
              "      <td>-0.008924</td>\n",
              "      <td>...</td>\n",
              "      <td>-0.004669</td>\n",
              "      <td>0.010965</td>\n",
              "      <td>-0.003840</td>\n",
              "      <td>0.004982</td>\n",
              "      <td>-0.001876</td>\n",
              "      <td>-0.002630</td>\n",
              "      <td>0.000228</td>\n",
              "      <td>0.001068</td>\n",
              "      <td>0.006741</td>\n",
              "      <td>-0.001000</td>\n",
              "    </tr>\n",
              "  </tbody>\n",
              "</table>\n",
              "<p>200 rows × 200 columns</p>\n",
              "</div>\n",
              "      <button class=\"colab-df-convert\" onclick=\"convertToInteractive('df-551400fd-b3ce-49f9-8717-a7e6f6b5eceb')\"\n",
              "              title=\"Convert this dataframe to an interactive table.\"\n",
              "              style=\"display:none;\">\n",
              "        \n",
              "  <svg xmlns=\"http://www.w3.org/2000/svg\" height=\"24px\"viewBox=\"0 0 24 24\"\n",
              "       width=\"24px\">\n",
              "    <path d=\"M0 0h24v24H0V0z\" fill=\"none\"/>\n",
              "    <path d=\"M18.56 5.44l.94 2.06.94-2.06 2.06-.94-2.06-.94-.94-2.06-.94 2.06-2.06.94zm-11 1L8.5 8.5l.94-2.06 2.06-.94-2.06-.94L8.5 2.5l-.94 2.06-2.06.94zm10 10l.94 2.06.94-2.06 2.06-.94-2.06-.94-.94-2.06-.94 2.06-2.06.94z\"/><path d=\"M17.41 7.96l-1.37-1.37c-.4-.4-.92-.59-1.43-.59-.52 0-1.04.2-1.43.59L10.3 9.45l-7.72 7.72c-.78.78-.78 2.05 0 2.83L4 21.41c.39.39.9.59 1.41.59.51 0 1.02-.2 1.41-.59l7.78-7.78 2.81-2.81c.8-.78.8-2.07 0-2.86zM5.41 20L4 18.59l7.72-7.72 1.47 1.35L5.41 20z\"/>\n",
              "  </svg>\n",
              "      </button>\n",
              "      \n",
              "  <style>\n",
              "    .colab-df-container {\n",
              "      display:flex;\n",
              "      flex-wrap:wrap;\n",
              "      gap: 12px;\n",
              "    }\n",
              "\n",
              "    .colab-df-convert {\n",
              "      background-color: #E8F0FE;\n",
              "      border: none;\n",
              "      border-radius: 50%;\n",
              "      cursor: pointer;\n",
              "      display: none;\n",
              "      fill: #1967D2;\n",
              "      height: 32px;\n",
              "      padding: 0 0 0 0;\n",
              "      width: 32px;\n",
              "    }\n",
              "\n",
              "    .colab-df-convert:hover {\n",
              "      background-color: #E2EBFA;\n",
              "      box-shadow: 0px 1px 2px rgba(60, 64, 67, 0.3), 0px 1px 3px 1px rgba(60, 64, 67, 0.15);\n",
              "      fill: #174EA6;\n",
              "    }\n",
              "\n",
              "    [theme=dark] .colab-df-convert {\n",
              "      background-color: #3B4455;\n",
              "      fill: #D2E3FC;\n",
              "    }\n",
              "\n",
              "    [theme=dark] .colab-df-convert:hover {\n",
              "      background-color: #434B5C;\n",
              "      box-shadow: 0px 1px 3px 1px rgba(0, 0, 0, 0.15);\n",
              "      filter: drop-shadow(0px 1px 2px rgba(0, 0, 0, 0.3));\n",
              "      fill: #FFFFFF;\n",
              "    }\n",
              "  </style>\n",
              "\n",
              "      <script>\n",
              "        const buttonEl =\n",
              "          document.querySelector('#df-551400fd-b3ce-49f9-8717-a7e6f6b5eceb button.colab-df-convert');\n",
              "        buttonEl.style.display =\n",
              "          google.colab.kernel.accessAllowed ? 'block' : 'none';\n",
              "\n",
              "        async function convertToInteractive(key) {\n",
              "          const element = document.querySelector('#df-551400fd-b3ce-49f9-8717-a7e6f6b5eceb');\n",
              "          const dataTable =\n",
              "            await google.colab.kernel.invokeFunction('convertToInteractive',\n",
              "                                                     [key], {});\n",
              "          if (!dataTable) return;\n",
              "\n",
              "          const docLinkHtml = 'Like what you see? Visit the ' +\n",
              "            '<a target=\"_blank\" href=https://colab.research.google.com/notebooks/data_table.ipynb>data table notebook</a>'\n",
              "            + ' to learn more about interactive tables.';\n",
              "          element.innerHTML = '';\n",
              "          dataTable['output_type'] = 'display_data';\n",
              "          await google.colab.output.renderOutput(dataTable, element);\n",
              "          const docLink = document.createElement('div');\n",
              "          docLink.innerHTML = docLinkHtml;\n",
              "          element.appendChild(docLink);\n",
              "        }\n",
              "      </script>\n",
              "    </div>\n",
              "  </div>\n",
              "  "
            ]
          },
          "metadata": {},
          "execution_count": 63
        }
      ]
    },
    {
      "cell_type": "code",
      "source": [
        "# Computing the similarities for \n",
        "similarities = cosine_similarity(top200_tfidf_word_vectors_m31, \n",
        "                                 top200_tfidf_word_vectors_m31)"
      ],
      "metadata": {
        "id": "fDWmIjK_akt0"
      },
      "execution_count": 64,
      "outputs": []
    },
    {
      "cell_type": "code",
      "source": [
        "import matplotlib.pyplot as plt\n",
        "import seaborn as sns"
      ],
      "metadata": {
        "id": "PPyX4PAJWxNG"
      },
      "execution_count": 65,
      "outputs": []
    },
    {
      "cell_type": "code",
      "source": [
        "fig, ax = plt.subplots(figsize=(40, 40))\n",
        "sns.heatmap(ax=ax, \n",
        "            data=similarities,\n",
        "            xticklabels=top200_tfidf_word_vectors_m31.index, \n",
        "            yticklabels=top200_tfidf_word_vectors_m31.index)"
      ],
      "metadata": {
        "colab": {
          "base_uri": "https://localhost:8080/",
          "height": 0
        },
        "id": "x49mStJSa8Uw",
        "outputId": "6e815667-6b6c-40f2-9ebd-b1523f829266"
      },
      "execution_count": 66,
      "outputs": [
        {
          "output_type": "execute_result",
          "data": {
            "text/plain": [
              "<matplotlib.axes._subplots.AxesSubplot at 0x7fc4501e3210>"
            ]
          },
          "metadata": {},
          "execution_count": 66
        },
        {
          "output_type": "display_data",
          "data": {
            "text/plain": [
              "<Figure size 2880x2880 with 2 Axes>"
            ],
            "image/png": "[encoded data removed]"
          },
          "metadata": {
            "needs_background": "light"
          }
        }
      ]
    },
    {
      "cell_type": "markdown",
      "source": [
        "## Doc2Vec"
      ],
      "metadata": {
        "id": "Etqzw6zxgZG7"
      }
    },
    {
      "cell_type": "code",
      "source": [
        "dfw.head(1)"
      ],
      "metadata": {
        "colab": {
          "base_uri": "https://localhost:8080/",
          "height": 81
        },
        "id": "RaYvjq_mfkow",
        "outputId": "d92f5702-c980-4871-c96a-5372e0edb85b"
      },
      "execution_count": 67,
      "outputs": [
        {
          "output_type": "execute_result",
          "data": {
            "text/plain": [
              "                                       cleaned_title  \\\n",
              "0  life insurance claim would valid case death du...   \n",
              "\n",
              "                                               token  \n",
              "0  [life, insurance, claim, would, valid, case, d...  "
            ],
            "text/html": [
              "\n",
              "  <div id=\"df-8021c813-51c5-4006-b355-df21498da8eb\">\n",
              "    <div class=\"colab-df-container\">\n",
              "      <div>\n",
              "<style scoped>\n",
              "    .dataframe tbody tr th:only-of-type {\n",
              "        vertical-align: middle;\n",
              "    }\n",
              "\n",
              "    .dataframe tbody tr th {\n",
              "        vertical-align: top;\n",
              "    }\n",
              "\n",
              "    .dataframe thead th {\n",
              "        text-align: right;\n",
              "    }\n",
              "</style>\n",
              "<table border=\"1\" class=\"dataframe\">\n",
              "  <thead>\n",
              "    <tr style=\"text-align: right;\">\n",
              "      <th></th>\n",
              "      <th>cleaned_title</th>\n",
              "      <th>token</th>\n",
              "    </tr>\n",
              "  </thead>\n",
              "  <tbody>\n",
              "    <tr>\n",
              "      <th>0</th>\n",
              "      <td>life insurance claim would valid case death du...</td>\n",
              "      <td>[life, insurance, claim, would, valid, case, d...</td>\n",
              "    </tr>\n",
              "  </tbody>\n",
              "</table>\n",
              "</div>\n",
              "      <button class=\"colab-df-convert\" onclick=\"convertToInteractive('df-8021c813-51c5-4006-b355-df21498da8eb')\"\n",
              "              title=\"Convert this dataframe to an interactive table.\"\n",
              "              style=\"display:none;\">\n",
              "        \n",
              "  <svg xmlns=\"http://www.w3.org/2000/svg\" height=\"24px\"viewBox=\"0 0 24 24\"\n",
              "       width=\"24px\">\n",
              "    <path d=\"M0 0h24v24H0V0z\" fill=\"none\"/>\n",
              "    <path d=\"M18.56 5.44l.94 2.06.94-2.06 2.06-.94-2.06-.94-.94-2.06-.94 2.06-2.06.94zm-11 1L8.5 8.5l.94-2.06 2.06-.94-2.06-.94L8.5 2.5l-.94 2.06-2.06.94zm10 10l.94 2.06.94-2.06 2.06-.94-2.06-.94-.94-2.06-.94 2.06-2.06.94z\"/><path d=\"M17.41 7.96l-1.37-1.37c-.4-.4-.92-.59-1.43-.59-.52 0-1.04.2-1.43.59L10.3 9.45l-7.72 7.72c-.78.78-.78 2.05 0 2.83L4 21.41c.39.39.9.59 1.41.59.51 0 1.02-.2 1.41-.59l7.78-7.78 2.81-2.81c.8-.78.8-2.07 0-2.86zM5.41 20L4 18.59l7.72-7.72 1.47 1.35L5.41 20z\"/>\n",
              "  </svg>\n",
              "      </button>\n",
              "      \n",
              "  <style>\n",
              "    .colab-df-container {\n",
              "      display:flex;\n",
              "      flex-wrap:wrap;\n",
              "      gap: 12px;\n",
              "    }\n",
              "\n",
              "    .colab-df-convert {\n",
              "      background-color: #E8F0FE;\n",
              "      border: none;\n",
              "      border-radius: 50%;\n",
              "      cursor: pointer;\n",
              "      display: none;\n",
              "      fill: #1967D2;\n",
              "      height: 32px;\n",
              "      padding: 0 0 0 0;\n",
              "      width: 32px;\n",
              "    }\n",
              "\n",
              "    .colab-df-convert:hover {\n",
              "      background-color: #E2EBFA;\n",
              "      box-shadow: 0px 1px 2px rgba(60, 64, 67, 0.3), 0px 1px 3px 1px rgba(60, 64, 67, 0.15);\n",
              "      fill: #174EA6;\n",
              "    }\n",
              "\n",
              "    [theme=dark] .colab-df-convert {\n",
              "      background-color: #3B4455;\n",
              "      fill: #D2E3FC;\n",
              "    }\n",
              "\n",
              "    [theme=dark] .colab-df-convert:hover {\n",
              "      background-color: #434B5C;\n",
              "      box-shadow: 0px 1px 3px 1px rgba(0, 0, 0, 0.15);\n",
              "      filter: drop-shadow(0px 1px 2px rgba(0, 0, 0, 0.3));\n",
              "      fill: #FFFFFF;\n",
              "    }\n",
              "  </style>\n",
              "\n",
              "      <script>\n",
              "        const buttonEl =\n",
              "          document.querySelector('#df-8021c813-51c5-4006-b355-df21498da8eb button.colab-df-convert');\n",
              "        buttonEl.style.display =\n",
              "          google.colab.kernel.accessAllowed ? 'block' : 'none';\n",
              "\n",
              "        async function convertToInteractive(key) {\n",
              "          const element = document.querySelector('#df-8021c813-51c5-4006-b355-df21498da8eb');\n",
              "          const dataTable =\n",
              "            await google.colab.kernel.invokeFunction('convertToInteractive',\n",
              "                                                     [key], {});\n",
              "          if (!dataTable) return;\n",
              "\n",
              "          const docLinkHtml = 'Like what you see? Visit the ' +\n",
              "            '<a target=\"_blank\" href=https://colab.research.google.com/notebooks/data_table.ipynb>data table notebook</a>'\n",
              "            + ' to learn more about interactive tables.';\n",
              "          element.innerHTML = '';\n",
              "          dataTable['output_type'] = 'display_data';\n",
              "          await google.colab.output.renderOutput(dataTable, element);\n",
              "          const docLink = document.createElement('div');\n",
              "          docLink.innerHTML = docLinkHtml;\n",
              "          element.appendChild(docLink);\n",
              "        }\n",
              "      </script>\n",
              "    </div>\n",
              "  </div>\n",
              "  "
            ]
          },
          "metadata": {},
          "execution_count": 67
        }
      ]
    },
    {
      "cell_type": "code",
      "source": [
        "review_token3 = dfw['token']"
      ],
      "metadata": {
        "id": "Q5j3c9uwgiyC"
      },
      "execution_count": 68,
      "outputs": []
    },
    {
      "cell_type": "code",
      "source": [
        "review_token3"
      ],
      "metadata": {
        "colab": {
          "base_uri": "https://localhost:8080/"
        },
        "id": "9JgdvOyWgyZS",
        "outputId": "58b968df-f43a-442c-a05b-4203ee48eb69"
      },
      "execution_count": 69,
      "outputs": [
        {
          "output_type": "execute_result",
          "data": {
            "text/plain": [
              "0     [life, insurance, claim, would, valid, case, d...\n",
              "1     [woman, manage, money, well, men, step, peculi...\n",
              "2     [sell, equity, buy, gold, instead, amfi, see, ...\n",
              "3     [planning, summer, holiday, five, co, branded,...\n",
              "4     [explained, crypto, taxation, work, india, hyp...\n",
              "                            ...                        \n",
              "86    [asia, share, open, gingerly, u, inflation, ea...\n",
              "87    [nomura, singapore, buy, lakh, share, bls, int...\n",
              "88    [wall, street, tumble, close, worry, mount, ah...\n",
              "89    [hot, stock, bet, shriram, transport, hero, mo...\n",
              "90    [p, dow, close, lower, bank, earnings, inflati...\n",
              "Name: token, Length: 91, dtype: object"
            ]
          },
          "metadata": {},
          "execution_count": 69
        }
      ]
    },
    {
      "cell_type": "code",
      "source": [
        "tagged_documents = [TaggedDocument(review_token, [i]) \n",
        "                    for i, review_token in enumerate(review_token3)]\n",
        "tagged_documents[0]"
      ],
      "metadata": {
        "colab": {
          "base_uri": "https://localhost:8080/"
        },
        "id": "MkWiOVN5g00W",
        "outputId": "4c9d4b1e-18a4-4c48-b351-1b6a6296f5d1"
      },
      "execution_count": 70,
      "outputs": [
        {
          "output_type": "execute_result",
          "data": {
            "text/plain": [
              "TaggedDocument(words=['life', 'insurance', 'claim', 'would', 'valid', 'case', 'death', 'due', 'war', 'need', 'know', 'inflation', 'monster', 'eat', 'saving', 'antidote', 'investment', 'motherhood', 'ahead', 'plan', 'child', 'expense', 'build', 'kitty'], tags=[0])"
            ]
          },
          "metadata": {},
          "execution_count": 70
        }
      ]
    },
    {
      "cell_type": "code",
      "source": [
        "doc2vec_model = Doc2Vec(tagged_documents, \n",
        "                            vector_size=200, ##Embedding size 200 --> Change for other sizes\n",
        "                            window=3, \n",
        "                            min_count=2) "
      ],
      "metadata": {
        "id": "46ayFH8bhOPZ",
        "colab": {
          "base_uri": "https://localhost:8080/"
        },
        "outputId": "a62a33ac-7dfc-477f-9b39-c6b2272157d0"
      },
      "execution_count": 71,
      "outputs": [
        {
          "output_type": "stream",
          "name": "stderr",
          "text": [
            "WARNING:gensim.models.base_any2vec:under 10 jobs per worker: consider setting a smaller `batch_words' for smoother alpha decay\n"
          ]
        }
      ]
    },
    {
      "cell_type": "code",
      "source": [
        "doc2vec_df = pd.DataFrame()\n",
        "for r in review_token3: \n",
        "    vector = pd.DataFrame(doc2vec_model.infer_vector(r)).transpose()\n",
        "    doc2vec_df = pd.concat([doc2vec_df, vector], axis=0)\n",
        "\n",
        "doc2vec_df.index = dataset.index"
      ],
      "metadata": {
        "id": "aj9d1JythYY3"
      },
      "execution_count": 72,
      "outputs": []
    },
    {
      "cell_type": "code",
      "source": [
        "doc2vec_df.shape"
      ],
      "metadata": {
        "colab": {
          "base_uri": "https://localhost:8080/"
        },
        "id": "_ypSBJlthq_n",
        "outputId": "3bb60101-1827-424d-bb2c-31c65de8fff7"
      },
      "execution_count": 73,
      "outputs": [
        {
          "output_type": "execute_result",
          "data": {
            "text/plain": [
              "(91, 200)"
            ]
          },
          "metadata": {},
          "execution_count": 73
        }
      ]
    },
    {
      "cell_type": "code",
      "source": [
        "doc2vec_df.head()"
      ],
      "metadata": {
        "colab": {
          "base_uri": "https://localhost:8080/",
          "height": 299
        },
        "id": "gTi_aurQhyY4",
        "outputId": "902d5f72-64f7-45fc-996a-b5048b493f1f"
      },
      "execution_count": 74,
      "outputs": [
        {
          "output_type": "execute_result",
          "data": {
            "text/plain": [
              "        0         1         2         3         4         5         6    \\\n",
              "0 -0.065888 -0.031398 -0.034833 -0.106464  0.062537  0.071294 -0.018730   \n",
              "1 -0.265464 -0.123110 -0.131167 -0.423315  0.237960  0.290415 -0.072103   \n",
              "2 -0.039704 -0.018055 -0.019133 -0.061165  0.038021  0.041071 -0.012336   \n",
              "3 -0.151103 -0.072511 -0.074401 -0.241863  0.139407  0.163843 -0.044047   \n",
              "4 -0.096523 -0.041767 -0.048362 -0.149421  0.084168  0.101963 -0.029302   \n",
              "\n",
              "        7         8         9    ...       190       191       192       193  \\\n",
              "0 -0.101412  0.004725 -0.054452  ... -0.033892  0.002740 -0.017357  0.043907   \n",
              "1 -0.397982  0.020855 -0.205951  ... -0.128708  0.005655 -0.069141  0.176535   \n",
              "2 -0.057034  0.002923 -0.031852  ... -0.020257 -0.000158 -0.008476  0.024499   \n",
              "3 -0.225548  0.012532 -0.117091  ... -0.074079  0.005403 -0.041456  0.100276   \n",
              "4 -0.141890  0.006672 -0.072566  ... -0.048806  0.001809 -0.025169  0.065458   \n",
              "\n",
              "        194       195       196       197       198       199  \n",
              "0  0.030659  0.017838 -0.000018  0.087796  0.045984 -0.007193  \n",
              "1  0.127688  0.069812  0.001643  0.358267  0.192489 -0.035013  \n",
              "2  0.020307  0.011812 -0.000479  0.055603  0.026497 -0.002598  \n",
              "3  0.075222  0.042164 -0.000146  0.202887  0.108615 -0.016408  \n",
              "4  0.048211  0.025760  0.002933  0.126843  0.066901 -0.012517  \n",
              "\n",
              "[5 rows x 200 columns]"
            ],
            "text/html": [
              "\n",
              "  <div id=\"df-2d7c6a7b-6336-4bdc-993c-a826cbc57c6e\">\n",
              "    <div class=\"colab-df-container\">\n",
              "      <div>\n",
              "<style scoped>\n",
              "    .dataframe tbody tr th:only-of-type {\n",
              "        vertical-align: middle;\n",
              "    }\n",
              "\n",
              "    .dataframe tbody tr th {\n",
              "        vertical-align: top;\n",
              "    }\n",
              "\n",
              "    .dataframe thead th {\n",
              "        text-align: right;\n",
              "    }\n",
              "</style>\n",
              "<table border=\"1\" class=\"dataframe\">\n",
              "  <thead>\n",
              "    <tr style=\"text-align: right;\">\n",
              "      <th></th>\n",
              "      <th>0</th>\n",
              "      <th>1</th>\n",
              "      <th>2</th>\n",
              "      <th>3</th>\n",
              "      <th>4</th>\n",
              "      <th>5</th>\n",
              "      <th>6</th>\n",
              "      <th>7</th>\n",
              "      <th>8</th>\n",
              "      <th>9</th>\n",
              "      <th>...</th>\n",
              "      <th>190</th>\n",
              "      <th>191</th>\n",
              "      <th>192</th>\n",
              "      <th>193</th>\n",
              "      <th>194</th>\n",
              "      <th>195</th>\n",
              "      <th>196</th>\n",
              "      <th>197</th>\n",
              "      <th>198</th>\n",
              "      <th>199</th>\n",
              "    </tr>\n",
              "  </thead>\n",
              "  <tbody>\n",
              "    <tr>\n",
              "      <th>0</th>\n",
              "      <td>-0.065888</td>\n",
              "      <td>-0.031398</td>\n",
              "      <td>-0.034833</td>\n",
              "      <td>-0.106464</td>\n",
              "      <td>0.062537</td>\n",
              "      <td>0.071294</td>\n",
              "      <td>-0.018730</td>\n",
              "      <td>-0.101412</td>\n",
              "      <td>0.004725</td>\n",
              "      <td>-0.054452</td>\n",
              "      <td>...</td>\n",
              "      <td>-0.033892</td>\n",
              "      <td>0.002740</td>\n",
              "      <td>-0.017357</td>\n",
              "      <td>0.043907</td>\n",
              "      <td>0.030659</td>\n",
              "      <td>0.017838</td>\n",
              "      <td>-0.000018</td>\n",
              "      <td>0.087796</td>\n",
              "      <td>0.045984</td>\n",
              "      <td>-0.007193</td>\n",
              "    </tr>\n",
              "    <tr>\n",
              "      <th>1</th>\n",
              "      <td>-0.265464</td>\n",
              "      <td>-0.123110</td>\n",
              "      <td>-0.131167</td>\n",
              "      <td>-0.423315</td>\n",
              "      <td>0.237960</td>\n",
              "      <td>0.290415</td>\n",
              "      <td>-0.072103</td>\n",
              "      <td>-0.397982</td>\n",
              "      <td>0.020855</td>\n",
              "      <td>-0.205951</td>\n",
              "      <td>...</td>\n",
              "      <td>-0.128708</td>\n",
              "      <td>0.005655</td>\n",
              "      <td>-0.069141</td>\n",
              "      <td>0.176535</td>\n",
              "      <td>0.127688</td>\n",
              "      <td>0.069812</td>\n",
              "      <td>0.001643</td>\n",
              "      <td>0.358267</td>\n",
              "      <td>0.192489</td>\n",
              "      <td>-0.035013</td>\n",
              "    </tr>\n",
              "    <tr>\n",
              "      <th>2</th>\n",
              "      <td>-0.039704</td>\n",
              "      <td>-0.018055</td>\n",
              "      <td>-0.019133</td>\n",
              "      <td>-0.061165</td>\n",
              "      <td>0.038021</td>\n",
              "      <td>0.041071</td>\n",
              "      <td>-0.012336</td>\n",
              "      <td>-0.057034</td>\n",
              "      <td>0.002923</td>\n",
              "      <td>-0.031852</td>\n",
              "      <td>...</td>\n",
              "      <td>-0.020257</td>\n",
              "      <td>-0.000158</td>\n",
              "      <td>-0.008476</td>\n",
              "      <td>0.024499</td>\n",
              "      <td>0.020307</td>\n",
              "      <td>0.011812</td>\n",
              "      <td>-0.000479</td>\n",
              "      <td>0.055603</td>\n",
              "      <td>0.026497</td>\n",
              "      <td>-0.002598</td>\n",
              "    </tr>\n",
              "    <tr>\n",
              "      <th>3</th>\n",
              "      <td>-0.151103</td>\n",
              "      <td>-0.072511</td>\n",
              "      <td>-0.074401</td>\n",
              "      <td>-0.241863</td>\n",
              "      <td>0.139407</td>\n",
              "      <td>0.163843</td>\n",
              "      <td>-0.044047</td>\n",
              "      <td>-0.225548</td>\n",
              "      <td>0.012532</td>\n",
              "      <td>-0.117091</td>\n",
              "      <td>...</td>\n",
              "      <td>-0.074079</td>\n",
              "      <td>0.005403</td>\n",
              "      <td>-0.041456</td>\n",
              "      <td>0.100276</td>\n",
              "      <td>0.075222</td>\n",
              "      <td>0.042164</td>\n",
              "      <td>-0.000146</td>\n",
              "      <td>0.202887</td>\n",
              "      <td>0.108615</td>\n",
              "      <td>-0.016408</td>\n",
              "    </tr>\n",
              "    <tr>\n",
              "      <th>4</th>\n",
              "      <td>-0.096523</td>\n",
              "      <td>-0.041767</td>\n",
              "      <td>-0.048362</td>\n",
              "      <td>-0.149421</td>\n",
              "      <td>0.084168</td>\n",
              "      <td>0.101963</td>\n",
              "      <td>-0.029302</td>\n",
              "      <td>-0.141890</td>\n",
              "      <td>0.006672</td>\n",
              "      <td>-0.072566</td>\n",
              "      <td>...</td>\n",
              "      <td>-0.048806</td>\n",
              "      <td>0.001809</td>\n",
              "      <td>-0.025169</td>\n",
              "      <td>0.065458</td>\n",
              "      <td>0.048211</td>\n",
              "      <td>0.025760</td>\n",
              "      <td>0.002933</td>\n",
              "      <td>0.126843</td>\n",
              "      <td>0.066901</td>\n",
              "      <td>-0.012517</td>\n",
              "    </tr>\n",
              "  </tbody>\n",
              "</table>\n",
              "<p>5 rows × 200 columns</p>\n",
              "</div>\n",
              "      <button class=\"colab-df-convert\" onclick=\"convertToInteractive('df-2d7c6a7b-6336-4bdc-993c-a826cbc57c6e')\"\n",
              "              title=\"Convert this dataframe to an interactive table.\"\n",
              "              style=\"display:none;\">\n",
              "        \n",
              "  <svg xmlns=\"http://www.w3.org/2000/svg\" height=\"24px\"viewBox=\"0 0 24 24\"\n",
              "       width=\"24px\">\n",
              "    <path d=\"M0 0h24v24H0V0z\" fill=\"none\"/>\n",
              "    <path d=\"M18.56 5.44l.94 2.06.94-2.06 2.06-.94-2.06-.94-.94-2.06-.94 2.06-2.06.94zm-11 1L8.5 8.5l.94-2.06 2.06-.94-2.06-.94L8.5 2.5l-.94 2.06-2.06.94zm10 10l.94 2.06.94-2.06 2.06-.94-2.06-.94-.94-2.06-.94 2.06-2.06.94z\"/><path d=\"M17.41 7.96l-1.37-1.37c-.4-.4-.92-.59-1.43-.59-.52 0-1.04.2-1.43.59L10.3 9.45l-7.72 7.72c-.78.78-.78 2.05 0 2.83L4 21.41c.39.39.9.59 1.41.59.51 0 1.02-.2 1.41-.59l7.78-7.78 2.81-2.81c.8-.78.8-2.07 0-2.86zM5.41 20L4 18.59l7.72-7.72 1.47 1.35L5.41 20z\"/>\n",
              "  </svg>\n",
              "      </button>\n",
              "      \n",
              "  <style>\n",
              "    .colab-df-container {\n",
              "      display:flex;\n",
              "      flex-wrap:wrap;\n",
              "      gap: 12px;\n",
              "    }\n",
              "\n",
              "    .colab-df-convert {\n",
              "      background-color: #E8F0FE;\n",
              "      border: none;\n",
              "      border-radius: 50%;\n",
              "      cursor: pointer;\n",
              "      display: none;\n",
              "      fill: #1967D2;\n",
              "      height: 32px;\n",
              "      padding: 0 0 0 0;\n",
              "      width: 32px;\n",
              "    }\n",
              "\n",
              "    .colab-df-convert:hover {\n",
              "      background-color: #E2EBFA;\n",
              "      box-shadow: 0px 1px 2px rgba(60, 64, 67, 0.3), 0px 1px 3px 1px rgba(60, 64, 67, 0.15);\n",
              "      fill: #174EA6;\n",
              "    }\n",
              "\n",
              "    [theme=dark] .colab-df-convert {\n",
              "      background-color: #3B4455;\n",
              "      fill: #D2E3FC;\n",
              "    }\n",
              "\n",
              "    [theme=dark] .colab-df-convert:hover {\n",
              "      background-color: #434B5C;\n",
              "      box-shadow: 0px 1px 3px 1px rgba(0, 0, 0, 0.15);\n",
              "      filter: drop-shadow(0px 1px 2px rgba(0, 0, 0, 0.3));\n",
              "      fill: #FFFFFF;\n",
              "    }\n",
              "  </style>\n",
              "\n",
              "      <script>\n",
              "        const buttonEl =\n",
              "          document.querySelector('#df-2d7c6a7b-6336-4bdc-993c-a826cbc57c6e button.colab-df-convert');\n",
              "        buttonEl.style.display =\n",
              "          google.colab.kernel.accessAllowed ? 'block' : 'none';\n",
              "\n",
              "        async function convertToInteractive(key) {\n",
              "          const element = document.querySelector('#df-2d7c6a7b-6336-4bdc-993c-a826cbc57c6e');\n",
              "          const dataTable =\n",
              "            await google.colab.kernel.invokeFunction('convertToInteractive',\n",
              "                                                     [key], {});\n",
              "          if (!dataTable) return;\n",
              "\n",
              "          const docLinkHtml = 'Like what you see? Visit the ' +\n",
              "            '<a target=\"_blank\" href=https://colab.research.google.com/notebooks/data_table.ipynb>data table notebook</a>'\n",
              "            + ' to learn more about interactive tables.';\n",
              "          element.innerHTML = '';\n",
              "          dataTable['output_type'] = 'display_data';\n",
              "          await google.colab.output.renderOutput(dataTable, element);\n",
              "          const docLink = document.createElement('div');\n",
              "          docLink.innerHTML = docLinkHtml;\n",
              "          element.appendChild(docLink);\n",
              "        }\n",
              "      </script>\n",
              "    </div>\n",
              "  </div>\n",
              "  "
            ]
          },
          "metadata": {},
          "execution_count": 74
        }
      ]
    },
    {
      "cell_type": "markdown",
      "source": [
        "## Cosine similarity"
      ],
      "metadata": {
        "id": "cILeKCfRiJGP"
      }
    },
    {
      "cell_type": "code",
      "source": [
        "# Computing the similarities\n",
        "similarities = cosine_similarity(doc2vec_df, \n",
        "                                 doc2vec_df)\n",
        "\n",
        "fig, ax = plt.subplots(figsize=(40, 40))\n",
        "sns.heatmap(ax=ax, \n",
        "            data=similarities,\n",
        "            xticklabels=doc2vec_df.index, \n",
        "            yticklabels=doc2vec_df.index)"
      ],
      "metadata": {
        "colab": {
          "base_uri": "https://localhost:8080/",
          "height": 1000
        },
        "id": "2-pD2-bHh0-n",
        "outputId": "9aaa453c-730e-4131-9519-cd02f674cb37"
      },
      "execution_count": null,
      "outputs": [
        {
          "output_type": "execute_result",
          "data": {
            "text/plain": [
              "<matplotlib.axes._subplots.AxesSubplot at 0x7f1658078550>"
            ]
          },
          "metadata": {},
          "execution_count": 74
        },
        {
          "output_type": "display_data",
          "data": {
            "text/plain": [
              "<Figure size 2880x2880 with 2 Axes>"
            ],
            "image/png": "[encoded data removed]"
          },
          "metadata": {
            "needs_background": "light"
          }
        }
      ]
    },
    {
      "cell_type": "markdown",
      "source": [
        "# Sentiment Analysis"
      ],
      "metadata": {
        "id": "ZsN0hZe-Xqb2"
      }
    },
    {
      "cell_type": "code",
      "source": [
        "from sklearn.model_selection import train_test_split\n",
        "from sklearn.svm import SVC\n",
        "from sklearn.linear_model import LogisticRegression\n",
        "from sklearn.naive_bayes import MultinomialNB\n",
        "from sklearn.ensemble import RandomForestClassifier\n",
        "from sklearn.metrics import accuracy_score, classification_report"
      ],
      "metadata": {
        "id": "ADx8p_Oah2El"
      },
      "execution_count": 75,
      "outputs": []
    },
    {
      "cell_type": "code",
      "source": [
        "doc2vec_df.shape"
      ],
      "metadata": {
        "colab": {
          "base_uri": "https://localhost:8080/"
        },
        "id": "pV6-Q_W8hqSC",
        "outputId": "823e0ae9-4dc5-49f5-e9a6-9e0c060ffbcc"
      },
      "execution_count": 76,
      "outputs": [
        {
          "output_type": "execute_result",
          "data": {
            "text/plain": [
              "(91, 200)"
            ]
          },
          "metadata": {},
          "execution_count": 76
        }
      ]
    },
    {
      "cell_type": "code",
      "source": [
        "dataset.sentiment.value_counts()"
      ],
      "metadata": {
        "colab": {
          "base_uri": "https://localhost:8080/"
        },
        "id": "mlDim0VPXr8r",
        "outputId": "87035eac-088d-4031-b774-6eea9f6b846d"
      },
      "execution_count": 77,
      "outputs": [
        {
          "output_type": "execute_result",
          "data": {
            "text/plain": [
              "positive    49\n",
              "negative    42\n",
              "Name: sentiment, dtype: int64"
            ]
          },
          "metadata": {},
          "execution_count": 77
        }
      ]
    },
    {
      "cell_type": "code",
      "source": [
        "labels = np.where(dataset.sentiment == 'negative', 0, 1)"
      ],
      "metadata": {
        "id": "i3EG-e4AhqXr"
      },
      "execution_count": 78,
      "outputs": []
    },
    {
      "cell_type": "code",
      "source": [
        "X_train, X_test, y_train, y_test = train_test_split(doc2vec_df, labels,\n",
        "                                                    test_size=0.33,\n",
        "                                                    random_state=20130810)"
      ],
      "metadata": {
        "id": "E6RA4vWkiIFC"
      },
      "execution_count": null,
      "outputs": []
    },
    {
      "cell_type": "markdown",
      "source": [
        "## SVM"
      ],
      "metadata": {
        "id": "eE_R96fOlSqk"
      }
    },
    {
      "cell_type": "code",
      "source": [
        "model_svm = SVC()"
      ],
      "metadata": {
        "id": "CTs4IR1GiL3f"
      },
      "execution_count": null,
      "outputs": []
    },
    {
      "cell_type": "code",
      "source": [
        "model_svm.fit(X_train, y_train)"
      ],
      "metadata": {
        "colab": {
          "base_uri": "https://localhost:8080/"
        },
        "id": "d6N3psctiL6A",
        "outputId": "a0151832-be9b-4a92-dd1f-76e7a790a36d"
      },
      "execution_count": null,
      "outputs": [
        {
          "output_type": "execute_result",
          "data": {
            "text/plain": [
              "SVC()"
            ]
          },
          "metadata": {},
          "execution_count": 163
        }
      ]
    },
    {
      "cell_type": "code",
      "source": [
        "y_pred = model_svm.predict(X_test)\n",
        "y_pred"
      ],
      "metadata": {
        "colab": {
          "base_uri": "https://localhost:8080/"
        },
        "id": "Kaa3eov2ijjz",
        "outputId": "57dcbc9e-65c1-45ad-e1df-4e5a6c48f3e1"
      },
      "execution_count": null,
      "outputs": [
        {
          "output_type": "execute_result",
          "data": {
            "text/plain": [
              "array([1, 1, 1, 1, 1, 1, 1, 1, 1, 1, 1, 1, 1, 1, 1, 1, 1, 1, 0, 1, 1, 1,\n",
              "       1, 1, 1, 1, 1, 1, 1, 1, 1])"
            ]
          },
          "metadata": {},
          "execution_count": 164
        }
      ]
    },
    {
      "cell_type": "code",
      "source": [
        "accuracy_score(y_test, y_pred)"
      ],
      "metadata": {
        "colab": {
          "base_uri": "https://localhost:8080/"
        },
        "id": "IHE1t5UMijpH",
        "outputId": "4bb65e3e-b758-45a9-b22a-42e9b901852d"
      },
      "execution_count": null,
      "outputs": [
        {
          "output_type": "execute_result",
          "data": {
            "text/plain": [
              "0.4838709677419355"
            ]
          },
          "metadata": {},
          "execution_count": 165
        }
      ]
    },
    {
      "cell_type": "code",
      "source": [
        "# Hyperparameter tuning\n",
        "for C_value in [0.01, 0.1, 1, 10, 100, 1000, 10000, 100000]:\n",
        "    model_svm = SVC(C=C_value)\n",
        "    model_svm.fit(X_train, y_train)\n",
        "    y_pred = model_svm.predict(X_test)\n",
        "    acc = accuracy_score(y_test, y_pred) \n",
        "    print(f\"C: {C_value}, Accuracy: {acc}\")"
      ],
      "metadata": {
        "colab": {
          "base_uri": "https://localhost:8080/"
        },
        "id": "gIr_X01oioxt",
        "outputId": "0f38e308-792d-43b3-8e9c-368698914890"
      },
      "execution_count": null,
      "outputs": [
        {
          "output_type": "stream",
          "name": "stdout",
          "text": [
            "C: 0.01, Accuracy: 0.5161290322580645\n",
            "C: 0.1, Accuracy: 0.5161290322580645\n",
            "C: 1, Accuracy: 0.4838709677419355\n",
            "C: 10, Accuracy: 0.4838709677419355\n",
            "C: 100, Accuracy: 0.4838709677419355\n",
            "C: 1000, Accuracy: 0.4838709677419355\n",
            "C: 10000, Accuracy: 0.5483870967741935\n",
            "C: 100000, Accuracy: 0.5483870967741935\n"
          ]
        }
      ]
    },
    {
      "cell_type": "code",
      "source": [
        "model_svm = SVC(C=100000)\n",
        "model_svm.fit(X_train, y_train)"
      ],
      "metadata": {
        "colab": {
          "base_uri": "https://localhost:8080/"
        },
        "id": "1jO1BNq6iwlw",
        "outputId": "0d3b0618-8220-4966-faa2-a273c1fe9059"
      },
      "execution_count": null,
      "outputs": [
        {
          "output_type": "execute_result",
          "data": {
            "text/plain": [
              "SVC(C=100000)"
            ]
          },
          "metadata": {},
          "execution_count": 167
        }
      ]
    },
    {
      "cell_type": "code",
      "source": [
        "model_svm.predict(X_test)"
      ],
      "metadata": {
        "colab": {
          "base_uri": "https://localhost:8080/"
        },
        "id": "Y-gH28L-iwn6",
        "outputId": "81971d9c-9f5c-4925-ed8f-43134c80f155"
      },
      "execution_count": null,
      "outputs": [
        {
          "output_type": "execute_result",
          "data": {
            "text/plain": [
              "array([1, 0, 0, 0, 0, 1, 0, 1, 1, 1, 1, 1, 1, 1, 0, 0, 0, 0, 1, 1, 0, 1,\n",
              "       0, 1, 1, 1, 1, 1, 0, 1, 0])"
            ]
          },
          "metadata": {},
          "execution_count": 168
        }
      ]
    },
    {
      "cell_type": "code",
      "source": [
        "print(classification_report(y_test, model_svm.predict(X_test)))"
      ],
      "metadata": {
        "colab": {
          "base_uri": "https://localhost:8080/"
        },
        "id": "q_lAphfviwp-",
        "outputId": "e9269a85-bdff-4168-b795-657da1cd102e"
      },
      "execution_count": null,
      "outputs": [
        {
          "output_type": "stream",
          "name": "stdout",
          "text": [
            "              precision    recall  f1-score   support\n",
            "\n",
            "           0       0.54      0.47      0.50        15\n",
            "           1       0.56      0.62      0.59        16\n",
            "\n",
            "    accuracy                           0.55        31\n",
            "   macro avg       0.55      0.55      0.54        31\n",
            "weighted avg       0.55      0.55      0.55        31\n",
            "\n"
          ]
        }
      ]
    },
    {
      "cell_type": "markdown",
      "source": [
        "## Logistic Regression"
      ],
      "metadata": {
        "id": "mSlEuwmdlNRG"
      }
    },
    {
      "cell_type": "code",
      "source": [
        "# Logistic Regression\n",
        "model_LR = LogisticRegression(max_iter=10000)\n",
        "for C_value in [0.01, 0.1, 1, 10, 100, 1000, 10000, 100000]:\n",
        "    model_LR = LogisticRegression(C=C_value)\n",
        "    model_LR.fit(X_train, y_train)\n",
        "    y_pred = model_LR.predict(X_test)\n",
        "    acc = accuracy_score(y_test, y_pred) \n",
        "    print(f\"C: {C_value}, Accuracy: {acc}\")"
      ],
      "metadata": {
        "colab": {
          "base_uri": "https://localhost:8080/"
        },
        "id": "5Cx4tBvuiwsE",
        "outputId": "2aa4d494-ddb2-418c-9c39-be4817ccac24"
      },
      "execution_count": null,
      "outputs": [
        {
          "output_type": "stream",
          "name": "stdout",
          "text": [
            "C: 0.01, Accuracy: 0.4838709677419355\n",
            "C: 0.1, Accuracy: 0.4838709677419355\n",
            "C: 1, Accuracy: 0.4838709677419355\n",
            "C: 10, Accuracy: 0.4838709677419355\n",
            "C: 100, Accuracy: 0.4838709677419355\n",
            "C: 1000, Accuracy: 0.45161290322580644\n",
            "C: 10000, Accuracy: 0.41935483870967744\n",
            "C: 100000, Accuracy: 0.45161290322580644\n"
          ]
        },
        {
          "output_type": "stream",
          "name": "stderr",
          "text": [
            "/usr/local/lib/python3.7/dist-packages/sklearn/linear_model/_logistic.py:818: ConvergenceWarning: lbfgs failed to converge (status=1):\n",
            "STOP: TOTAL NO. of ITERATIONS REACHED LIMIT.\n",
            "\n",
            "Increase the number of iterations (max_iter) or scale the data as shown in:\n",
            "    https://scikit-learn.org/stable/modules/preprocessing.html\n",
            "Please also refer to the documentation for alternative solver options:\n",
            "    https://scikit-learn.org/stable/modules/linear_model.html#logistic-regression\n",
            "  extra_warning_msg=_LOGISTIC_SOLVER_CONVERGENCE_MSG,\n"
          ]
        }
      ]
    },
    {
      "cell_type": "code",
      "source": [
        "model_LR = LogisticRegression(C=100)\n",
        "model_LR.fit(X_train, y_train)"
      ],
      "metadata": {
        "colab": {
          "base_uri": "https://localhost:8080/"
        },
        "id": "v2ye4Y_ojBmT",
        "outputId": "66270b09-a2bb-478c-ccad-43ed17615876"
      },
      "execution_count": null,
      "outputs": [
        {
          "output_type": "execute_result",
          "data": {
            "text/plain": [
              "LogisticRegression(C=100)"
            ]
          },
          "metadata": {},
          "execution_count": 177
        }
      ]
    },
    {
      "cell_type": "code",
      "source": [
        "model_LR.predict(X_test)"
      ],
      "metadata": {
        "colab": {
          "base_uri": "https://localhost:8080/"
        },
        "id": "i8dsVM5ijBoX",
        "outputId": "e23f9200-2666-4e2b-d73f-5bdcf1dd2551"
      },
      "execution_count": null,
      "outputs": [
        {
          "output_type": "execute_result",
          "data": {
            "text/plain": [
              "array([1, 1, 1, 1, 1, 1, 1, 1, 1, 1, 1, 1, 1, 1, 1, 1, 1, 1, 0, 1, 1, 1,\n",
              "       1, 1, 1, 1, 1, 1, 1, 1, 1])"
            ]
          },
          "metadata": {},
          "execution_count": 178
        }
      ]
    },
    {
      "cell_type": "code",
      "source": [
        "print(classification_report(y_test, model_LR.predict(X_test)))"
      ],
      "metadata": {
        "colab": {
          "base_uri": "https://localhost:8080/"
        },
        "id": "cBUt-FTujBrR",
        "outputId": "7f8966cd-9d50-448a-e513-38fafede1b11"
      },
      "execution_count": null,
      "outputs": [
        {
          "output_type": "stream",
          "name": "stdout",
          "text": [
            "              precision    recall  f1-score   support\n",
            "\n",
            "           0       0.00      0.00      0.00        15\n",
            "           1       0.50      0.94      0.65        16\n",
            "\n",
            "    accuracy                           0.48        31\n",
            "   macro avg       0.25      0.47      0.33        31\n",
            "weighted avg       0.26      0.48      0.34        31\n",
            "\n"
          ]
        }
      ]
    },
    {
      "cell_type": "markdown",
      "source": [
        "## Random Forest"
      ],
      "metadata": {
        "id": "juiZ57uElW8a"
      }
    },
    {
      "cell_type": "code",
      "source": [
        "model_RF = RandomForestClassifier()"
      ],
      "metadata": {
        "id": "oFKKkzVdjBs2"
      },
      "execution_count": null,
      "outputs": []
    },
    {
      "cell_type": "code",
      "source": [
        "for C_value in [1, 100, 500, 1000, 5000, 10000]:\n",
        "    model_RF = RandomForestClassifier(n_estimators=C_value)\n",
        "    model_RF.fit(X_train, y_train)\n",
        "    y_pred = model_RF.predict(X_test)\n",
        "    acc = accuracy_score(y_test, y_pred) \n",
        "    print(f\"C: {C_value}, Accuracy: {acc}\")"
      ],
      "metadata": {
        "colab": {
          "base_uri": "https://localhost:8080/"
        },
        "id": "mjOwQfDmjBu4",
        "outputId": "08f9199f-55ec-45f8-d463-1d43ae7df276"
      },
      "execution_count": null,
      "outputs": [
        {
          "output_type": "stream",
          "name": "stdout",
          "text": [
            "C: 1, Accuracy: 0.5483870967741935\n",
            "C: 100, Accuracy: 0.5161290322580645\n",
            "C: 500, Accuracy: 0.4838709677419355\n",
            "C: 1000, Accuracy: 0.5806451612903226\n",
            "C: 5000, Accuracy: 0.5806451612903226\n",
            "C: 10000, Accuracy: 0.5806451612903226\n"
          ]
        }
      ]
    },
    {
      "cell_type": "code",
      "source": [
        "model_RF = RandomForestClassifier(n_estimators=1000)\n",
        "model_RF.fit(X_train, y_train)"
      ],
      "metadata": {
        "colab": {
          "base_uri": "https://localhost:8080/"
        },
        "id": "frAi-5fHjtKd",
        "outputId": "f1f65901-637b-44b9-db4f-d6c18d5d892a"
      },
      "execution_count": null,
      "outputs": [
        {
          "output_type": "execute_result",
          "data": {
            "text/plain": [
              "RandomForestClassifier(n_estimators=1000)"
            ]
          },
          "metadata": {},
          "execution_count": 182
        }
      ]
    },
    {
      "cell_type": "code",
      "source": [
        "model_RF.predict(X_test)"
      ],
      "metadata": {
        "colab": {
          "base_uri": "https://localhost:8080/"
        },
        "id": "WtEcRKfKjtMv",
        "outputId": "0fb59ef8-4e82-49cc-edb5-6b6911dc6581"
      },
      "execution_count": null,
      "outputs": [
        {
          "output_type": "execute_result",
          "data": {
            "text/plain": [
              "array([0, 0, 0, 1, 0, 0, 0, 1, 1, 1, 1, 0, 1, 1, 0, 1, 1, 0, 0, 1, 0, 0,\n",
              "       0, 0, 1, 1, 1, 1, 1, 1, 0])"
            ]
          },
          "metadata": {},
          "execution_count": 183
        }
      ]
    },
    {
      "cell_type": "code",
      "source": [
        "print(classification_report(y_test, model_RF.predict(X_test)))"
      ],
      "metadata": {
        "colab": {
          "base_uri": "https://localhost:8080/"
        },
        "id": "zs44arGkjuIh",
        "outputId": "09adf43e-4990-4120-fcbe-b0d64bce629c"
      },
      "execution_count": null,
      "outputs": [
        {
          "output_type": "stream",
          "name": "stdout",
          "text": [
            "              precision    recall  f1-score   support\n",
            "\n",
            "           0       0.60      0.60      0.60        15\n",
            "           1       0.62      0.62      0.62        16\n",
            "\n",
            "    accuracy                           0.61        31\n",
            "   macro avg       0.61      0.61      0.61        31\n",
            "weighted avg       0.61      0.61      0.61        31\n",
            "\n"
          ]
        }
      ]
    },
    {
      "cell_type": "markdown",
      "source": [
        "## BERT"
      ],
      "metadata": {
        "id": "YjbsBNHnlIvW"
      }
    },
    {
      "cell_type": "code",
      "source": [
        "import tensorflow as tf\n",
        "import tensorflow_hub as hub\n",
        "import tensorflow_text as text"
      ],
      "metadata": {
        "id": "zqY93YZKmAEz"
      },
      "execution_count": 79,
      "outputs": []
    },
    {
      "cell_type": "code",
      "source": [
        "bert_preprocess = hub.KerasLayer(\"https://tfhub.dev/tensorflow/bert_en_uncased_preprocess/3\")\n",
        "bert_encoder = hub.KerasLayer(\"https://tfhub.dev/tensorflow/bert_en_uncased_L-12_H-768_A-12/4\")"
      ],
      "metadata": {
        "id": "E4uscHbejuLX"
      },
      "execution_count": 80,
      "outputs": []
    },
    {
      "cell_type": "code",
      "source": [
        "X_train, X_test, y_train, y_test = train_test_split(dataset.cleaned_title, labels,\n",
        "                                                    test_size=0.33,\n",
        "                                                    random_state=20130810)"
      ],
      "metadata": {
        "id": "oZ6-CNK1m3jM"
      },
      "execution_count": 81,
      "outputs": []
    },
    {
      "cell_type": "code",
      "source": [
        "# Bert layers\n",
        "text_input = tf.keras.layers.Input(shape=(), dtype=tf.string, name='text')\n",
        "preprocessed_text = bert_preprocess(text_input)\n",
        "outputs = bert_encoder(preprocessed_text)\n",
        "# Neural network layers\n",
        "l = tf.keras.layers.Dropout(0.1, name=\"dropout\")(outputs['pooled_output'])\n",
        "l = tf.keras.layers.Dense(1, activation='sigmoid', name=\"output\")(l)\n",
        "# Use inputs and outputs to construct a final model\n",
        "model = tf.keras.Model(inputs=[text_input], outputs = [l])"
      ],
      "metadata": {
        "id": "9WGHQXvtjuNR"
      },
      "execution_count": 82,
      "outputs": []
    },
    {
      "cell_type": "code",
      "source": [
        "model.compile(optimizer='adam', loss='binary_crossentropy', metrics=['accuracy'])\n",
        "model.fit(X_train, y_train, epochs=50, batch_size = 32)"
      ],
      "metadata": {
        "colab": {
          "base_uri": "https://localhost:8080/"
        },
        "id": "APjciuKNlnGL",
        "outputId": "9d051dc1-a587-4c67-cedb-a2a08111566b"
      },
      "execution_count": 83,
      "outputs": [
        {
          "output_type": "stream",
          "name": "stdout",
          "text": [
            "Epoch 1/50\n",
            "2/2 [==============================] - 40s 13s/step - loss: 0.7670 - accuracy: 0.5333\n",
            "Epoch 2/50\n",
            "2/2 [==============================] - 27s 13s/step - loss: 0.7094 - accuracy: 0.5167\n",
            "Epoch 3/50\n",
            "2/2 [==============================] - 27s 13s/step - loss: 0.7113 - accuracy: 0.5000\n",
            "Epoch 4/50\n",
            "2/2 [==============================] - 49s 26s/step - loss: 0.7471 - accuracy: 0.4167\n",
            "Epoch 5/50\n",
            "2/2 [==============================] - 45s 19s/step - loss: 0.7114 - accuracy: 0.4667\n",
            "Epoch 6/50\n",
            "2/2 [==============================] - 42s 19s/step - loss: 0.6808 - accuracy: 0.6000\n",
            "Epoch 7/50\n",
            "2/2 [==============================] - 50s 24s/step - loss: 0.7102 - accuracy: 0.4500\n",
            "Epoch 8/50\n",
            "2/2 [==============================] - 44s 19s/step - loss: 0.6985 - accuracy: 0.5500\n",
            "Epoch 9/50\n",
            "2/2 [==============================] - 34s 13s/step - loss: 0.7007 - accuracy: 0.5333\n",
            "Epoch 10/50\n",
            "2/2 [==============================] - 28s 13s/step - loss: 0.7260 - accuracy: 0.5000\n",
            "Epoch 11/50\n",
            "2/2 [==============================] - 29s 13s/step - loss: 0.7045 - accuracy: 0.5167\n",
            "Epoch 12/50\n",
            "2/2 [==============================] - 28s 13s/step - loss: 0.7142 - accuracy: 0.4833\n",
            "Epoch 13/50\n",
            "2/2 [==============================] - 28s 13s/step - loss: 0.7004 - accuracy: 0.5000\n",
            "Epoch 14/50\n",
            "2/2 [==============================] - 29s 14s/step - loss: 0.6749 - accuracy: 0.6500\n",
            "Epoch 15/50\n",
            "2/2 [==============================] - 28s 13s/step - loss: 0.6920 - accuracy: 0.5333\n",
            "Epoch 16/50\n",
            "2/2 [==============================] - 28s 13s/step - loss: 0.6780 - accuracy: 0.6333\n",
            "Epoch 17/50\n",
            "2/2 [==============================] - 29s 13s/step - loss: 0.7086 - accuracy: 0.5000\n",
            "Epoch 18/50\n",
            "2/2 [==============================] - 28s 13s/step - loss: 0.6612 - accuracy: 0.6000\n",
            "Epoch 19/50\n",
            "2/2 [==============================] - 28s 13s/step - loss: 0.6828 - accuracy: 0.6000\n",
            "Epoch 20/50\n",
            "2/2 [==============================] - 28s 13s/step - loss: 0.7330 - accuracy: 0.4333\n",
            "Epoch 21/50\n",
            "2/2 [==============================] - 27s 13s/step - loss: 0.6848 - accuracy: 0.5500\n",
            "Epoch 22/50\n",
            "2/2 [==============================] - 28s 13s/step - loss: 0.7021 - accuracy: 0.4833\n",
            "Epoch 23/50\n",
            "2/2 [==============================] - 28s 13s/step - loss: 0.6983 - accuracy: 0.5333\n",
            "Epoch 24/50\n",
            "2/2 [==============================] - 28s 13s/step - loss: 0.6496 - accuracy: 0.6000\n",
            "Epoch 25/50\n",
            "2/2 [==============================] - 28s 13s/step - loss: 0.6667 - accuracy: 0.6000\n",
            "Epoch 26/50\n",
            "2/2 [==============================] - 28s 13s/step - loss: 0.6408 - accuracy: 0.7000\n",
            "Epoch 27/50\n",
            "2/2 [==============================] - 27s 13s/step - loss: 0.6634 - accuracy: 0.6167\n",
            "Epoch 28/50\n",
            "2/2 [==============================] - 31s 16s/step - loss: 0.6687 - accuracy: 0.6167\n",
            "Epoch 29/50\n",
            "2/2 [==============================] - 28s 13s/step - loss: 0.6564 - accuracy: 0.5833\n",
            "Epoch 30/50\n",
            "2/2 [==============================] - 28s 13s/step - loss: 0.6953 - accuracy: 0.5500\n",
            "Epoch 31/50\n",
            "2/2 [==============================] - 28s 13s/step - loss: 0.6859 - accuracy: 0.5333\n",
            "Epoch 32/50\n",
            "2/2 [==============================] - 27s 13s/step - loss: 0.6603 - accuracy: 0.6000\n",
            "Epoch 33/50\n",
            "2/2 [==============================] - 27s 13s/step - loss: 0.7129 - accuracy: 0.5000\n",
            "Epoch 34/50\n",
            "2/2 [==============================] - 27s 13s/step - loss: 0.6917 - accuracy: 0.5500\n",
            "Epoch 35/50\n",
            "2/2 [==============================] - 28s 13s/step - loss: 0.6710 - accuracy: 0.5833\n",
            "Epoch 36/50\n",
            "2/2 [==============================] - 28s 13s/step - loss: 0.6674 - accuracy: 0.5333\n",
            "Epoch 37/50\n",
            "2/2 [==============================] - 27s 13s/step - loss: 0.6795 - accuracy: 0.6000\n",
            "Epoch 38/50\n",
            "2/2 [==============================] - 27s 13s/step - loss: 0.6622 - accuracy: 0.6000\n",
            "Epoch 39/50\n",
            "2/2 [==============================] - 28s 13s/step - loss: 0.6605 - accuracy: 0.5667\n",
            "Epoch 40/50\n",
            "2/2 [==============================] - 27s 13s/step - loss: 0.6774 - accuracy: 0.6000\n",
            "Epoch 41/50\n",
            "2/2 [==============================] - 28s 13s/step - loss: 0.6781 - accuracy: 0.6000\n",
            "Epoch 42/50\n",
            "2/2 [==============================] - 28s 13s/step - loss: 0.6506 - accuracy: 0.6500\n",
            "Epoch 43/50\n",
            "2/2 [==============================] - 28s 13s/step - loss: 0.6918 - accuracy: 0.5833\n",
            "Epoch 44/50\n",
            "2/2 [==============================] - 28s 13s/step - loss: 0.6757 - accuracy: 0.6500\n",
            "Epoch 45/50\n",
            "2/2 [==============================] - 28s 13s/step - loss: 0.6851 - accuracy: 0.5500\n",
            "Epoch 46/50\n",
            "2/2 [==============================] - 29s 14s/step - loss: 0.6697 - accuracy: 0.5500\n",
            "Epoch 47/50\n",
            "2/2 [==============================] - 29s 13s/step - loss: 0.6703 - accuracy: 0.6667\n",
            "Epoch 48/50\n",
            "2/2 [==============================] - 29s 13s/step - loss: 0.7036 - accuracy: 0.4333\n",
            "Epoch 49/50\n",
            "2/2 [==============================] - 28s 13s/step - loss: 0.6871 - accuracy: 0.4500\n",
            "Epoch 50/50\n",
            "2/2 [==============================] - 30s 13s/step - loss: 0.6615 - accuracy: 0.6000\n"
          ]
        },
        {
          "output_type": "execute_result",
          "data": {
            "text/plain": [
              "<keras.callbacks.History at 0x7fc3f0f2f110>"
            ]
          },
          "metadata": {},
          "execution_count": 83
        }
      ]
    },
    {
      "cell_type": "code",
      "source": [
        "y_predicted = model.predict(X_test)\n",
        "y_predicted = y_predicted.flatten()\n",
        "print(y_predicted)"
      ],
      "metadata": {
        "colab": {
          "base_uri": "https://localhost:8080/"
        },
        "id": "Bgj6BP02lnI8",
        "outputId": "a63a53ee-7f08-45aa-b8f6-1c59776b8524"
      },
      "execution_count": 85,
      "outputs": [
        {
          "output_type": "stream",
          "name": "stdout",
          "text": [
            "1/1 [==============================] - 16s 16s/step\n",
            "[0.49300063 0.54238844 0.56873554 0.62402856 0.5061471  0.4895859\n",
            " 0.48691234 0.5105765  0.62201256 0.58161074 0.60136735 0.64568126\n",
            " 0.56431526 0.5734859  0.52539766 0.48978102 0.5789447  0.5423632\n",
            " 0.4500971  0.55644834 0.6416587  0.4334398  0.5070178  0.43559238\n",
            " 0.5756304  0.4895443  0.55455756 0.54979634 0.524879   0.58522993\n",
            " 0.5376163 ]\n"
          ]
        }
      ]
    },
    {
      "cell_type": "code",
      "source": [
        "model.evaluate(X_test,y_test)"
      ],
      "metadata": {
        "colab": {
          "base_uri": "https://localhost:8080/"
        },
        "id": "FEUVK8-Anjf7",
        "outputId": "17301c79-8eec-4485-dab0-cc763747dd19"
      },
      "execution_count": 86,
      "outputs": [
        {
          "output_type": "stream",
          "name": "stdout",
          "text": [
            "1/1 [==============================] - 16s 16s/step - loss: 0.6554 - accuracy: 0.6452\n"
          ]
        },
        {
          "output_type": "execute_result",
          "data": {
            "text/plain": [
              "[0.655410647392273, 0.6451612710952759]"
            ]
          },
          "metadata": {},
          "execution_count": 86
        }
      ]
    },
    {
      "cell_type": "code",
      "source": [
        "from tensorflow.keras.models import save_model\n",
        "save_model(model,filepath='/content/model',save_format='h5')"
      ],
      "metadata": {
        "id": "2Al05JyxPobf"
      },
      "execution_count": 87,
      "outputs": []
    },
    {
      "cell_type": "code",
      "source": [
        "y = model.predict(dataset.cleaned_title)\n",
        "y= y.flatten()\n",
        "print(y)"
      ],
      "metadata": {
        "colab": {
          "base_uri": "https://localhost:8080/"
        },
        "id": "T2Xgv1IvQES_",
        "outputId": "9f3aee77-3734-4e6c-c4e5-716020a6681e"
      },
      "execution_count": 88,
      "outputs": [
        {
          "output_type": "stream",
          "name": "stdout",
          "text": [
            "3/3 [==============================] - 43s 14s/step\n",
            "[0.56431526 0.54177046 0.54979634 0.5862177  0.46873686 0.5423632\n",
            " 0.58522993 0.58161074 0.72163683 0.6015679  0.4895443  0.5725977\n",
            " 0.4687887  0.5829737  0.62201256 0.60136735 0.6540205  0.5608997\n",
            " 0.567391   0.5131368  0.5070178  0.52811104 0.62402856 0.55644834\n",
            " 0.507408   0.4895859  0.5929678  0.4624204  0.4274227  0.5617519\n",
            " 0.5756304  0.5102273  0.5078504  0.56205827 0.5734859  0.59402674\n",
            " 0.48321664 0.61915857 0.53298783 0.54238844 0.53906626 0.57325923\n",
            " 0.67019033 0.56873554 0.49524498 0.5015516  0.524879   0.5934579\n",
            " 0.5105765  0.48474124 0.5545576  0.48691234 0.5583692  0.48930618\n",
            " 0.5061471  0.47753394 0.53858197 0.5358964  0.49389505 0.52539766\n",
            " 0.43559238 0.47624183 0.43343982 0.6456812  0.4892892  0.46946228\n",
            " 0.5423733  0.4490471  0.5595912  0.48978102 0.5288335  0.52949405\n",
            " 0.644842   0.60464567 0.5345304  0.572562   0.6416587  0.537616\n",
            " 0.59041137 0.54042464 0.53037006 0.5784319  0.489892   0.5352726\n",
            " 0.54123116 0.500898   0.5789447  0.49300063 0.5265083  0.50197774\n",
            " 0.45009708]\n"
          ]
        }
      ]
    },
    {
      "cell_type": "code",
      "source": [
        "pd.DataFrame(y)"
      ],
      "metadata": {
        "colab": {
          "base_uri": "https://localhost:8080/",
          "height": 424
        },
        "id": "MDPCnr_OWuiH",
        "outputId": "6a552a81-79b2-46a5-b829-ce77e313a42b"
      },
      "execution_count": 91,
      "outputs": [
        {
          "output_type": "execute_result",
          "data": {
            "text/plain": [
              "           0\n",
              "0   0.564315\n",
              "1   0.541770\n",
              "2   0.549796\n",
              "3   0.586218\n",
              "4   0.468737\n",
              "..       ...\n",
              "86  0.578945\n",
              "87  0.493001\n",
              "88  0.526508\n",
              "89  0.501978\n",
              "90  0.450097\n",
              "\n",
              "[91 rows x 1 columns]"
            ],
            "text/html": [
              "\n",
              "  <div id=\"df-ed986d98-a2d4-40e7-9b67-c83958307d51\">\n",
              "    <div class=\"colab-df-container\">\n",
              "      <div>\n",
              "<style scoped>\n",
              "    .dataframe tbody tr th:only-of-type {\n",
              "        vertical-align: middle;\n",
              "    }\n",
              "\n",
              "    .dataframe tbody tr th {\n",
              "        vertical-align: top;\n",
              "    }\n",
              "\n",
              "    .dataframe thead th {\n",
              "        text-align: right;\n",
              "    }\n",
              "</style>\n",
              "<table border=\"1\" class=\"dataframe\">\n",
              "  <thead>\n",
              "    <tr style=\"text-align: right;\">\n",
              "      <th></th>\n",
              "      <th>0</th>\n",
              "    </tr>\n",
              "  </thead>\n",
              "  <tbody>\n",
              "    <tr>\n",
              "      <th>0</th>\n",
              "      <td>0.564315</td>\n",
              "    </tr>\n",
              "    <tr>\n",
              "      <th>1</th>\n",
              "      <td>0.541770</td>\n",
              "    </tr>\n",
              "    <tr>\n",
              "      <th>2</th>\n",
              "      <td>0.549796</td>\n",
              "    </tr>\n",
              "    <tr>\n",
              "      <th>3</th>\n",
              "      <td>0.586218</td>\n",
              "    </tr>\n",
              "    <tr>\n",
              "      <th>4</th>\n",
              "      <td>0.468737</td>\n",
              "    </tr>\n",
              "    <tr>\n",
              "      <th>...</th>\n",
              "      <td>...</td>\n",
              "    </tr>\n",
              "    <tr>\n",
              "      <th>86</th>\n",
              "      <td>0.578945</td>\n",
              "    </tr>\n",
              "    <tr>\n",
              "      <th>87</th>\n",
              "      <td>0.493001</td>\n",
              "    </tr>\n",
              "    <tr>\n",
              "      <th>88</th>\n",
              "      <td>0.526508</td>\n",
              "    </tr>\n",
              "    <tr>\n",
              "      <th>89</th>\n",
              "      <td>0.501978</td>\n",
              "    </tr>\n",
              "    <tr>\n",
              "      <th>90</th>\n",
              "      <td>0.450097</td>\n",
              "    </tr>\n",
              "  </tbody>\n",
              "</table>\n",
              "<p>91 rows × 1 columns</p>\n",
              "</div>\n",
              "      <button class=\"colab-df-convert\" onclick=\"convertToInteractive('df-ed986d98-a2d4-40e7-9b67-c83958307d51')\"\n",
              "              title=\"Convert this dataframe to an interactive table.\"\n",
              "              style=\"display:none;\">\n",
              "        \n",
              "  <svg xmlns=\"http://www.w3.org/2000/svg\" height=\"24px\"viewBox=\"0 0 24 24\"\n",
              "       width=\"24px\">\n",
              "    <path d=\"M0 0h24v24H0V0z\" fill=\"none\"/>\n",
              "    <path d=\"M18.56 5.44l.94 2.06.94-2.06 2.06-.94-2.06-.94-.94-2.06-.94 2.06-2.06.94zm-11 1L8.5 8.5l.94-2.06 2.06-.94-2.06-.94L8.5 2.5l-.94 2.06-2.06.94zm10 10l.94 2.06.94-2.06 2.06-.94-2.06-.94-.94-2.06-.94 2.06-2.06.94z\"/><path d=\"M17.41 7.96l-1.37-1.37c-.4-.4-.92-.59-1.43-.59-.52 0-1.04.2-1.43.59L10.3 9.45l-7.72 7.72c-.78.78-.78 2.05 0 2.83L4 21.41c.39.39.9.59 1.41.59.51 0 1.02-.2 1.41-.59l7.78-7.78 2.81-2.81c.8-.78.8-2.07 0-2.86zM5.41 20L4 18.59l7.72-7.72 1.47 1.35L5.41 20z\"/>\n",
              "  </svg>\n",
              "      </button>\n",
              "      \n",
              "  <style>\n",
              "    .colab-df-container {\n",
              "      display:flex;\n",
              "      flex-wrap:wrap;\n",
              "      gap: 12px;\n",
              "    }\n",
              "\n",
              "    .colab-df-convert {\n",
              "      background-color: #E8F0FE;\n",
              "      border: none;\n",
              "      border-radius: 50%;\n",
              "      cursor: pointer;\n",
              "      display: none;\n",
              "      fill: #1967D2;\n",
              "      height: 32px;\n",
              "      padding: 0 0 0 0;\n",
              "      width: 32px;\n",
              "    }\n",
              "\n",
              "    .colab-df-convert:hover {\n",
              "      background-color: #E2EBFA;\n",
              "      box-shadow: 0px 1px 2px rgba(60, 64, 67, 0.3), 0px 1px 3px 1px rgba(60, 64, 67, 0.15);\n",
              "      fill: #174EA6;\n",
              "    }\n",
              "\n",
              "    [theme=dark] .colab-df-convert {\n",
              "      background-color: #3B4455;\n",
              "      fill: #D2E3FC;\n",
              "    }\n",
              "\n",
              "    [theme=dark] .colab-df-convert:hover {\n",
              "      background-color: #434B5C;\n",
              "      box-shadow: 0px 1px 3px 1px rgba(0, 0, 0, 0.15);\n",
              "      filter: drop-shadow(0px 1px 2px rgba(0, 0, 0, 0.3));\n",
              "      fill: #FFFFFF;\n",
              "    }\n",
              "  </style>\n",
              "\n",
              "      <script>\n",
              "        const buttonEl =\n",
              "          document.querySelector('#df-ed986d98-a2d4-40e7-9b67-c83958307d51 button.colab-df-convert');\n",
              "        buttonEl.style.display =\n",
              "          google.colab.kernel.accessAllowed ? 'block' : 'none';\n",
              "\n",
              "        async function convertToInteractive(key) {\n",
              "          const element = document.querySelector('#df-ed986d98-a2d4-40e7-9b67-c83958307d51');\n",
              "          const dataTable =\n",
              "            await google.colab.kernel.invokeFunction('convertToInteractive',\n",
              "                                                     [key], {});\n",
              "          if (!dataTable) return;\n",
              "\n",
              "          const docLinkHtml = 'Like what you see? Visit the ' +\n",
              "            '<a target=\"_blank\" href=https://colab.research.google.com/notebooks/data_table.ipynb>data table notebook</a>'\n",
              "            + ' to learn more about interactive tables.';\n",
              "          element.innerHTML = '';\n",
              "          dataTable['output_type'] = 'display_data';\n",
              "          await google.colab.output.renderOutput(dataTable, element);\n",
              "          const docLink = document.createElement('div');\n",
              "          docLink.innerHTML = docLinkHtml;\n",
              "          element.appendChild(docLink);\n",
              "        }\n",
              "      </script>\n",
              "    </div>\n",
              "  </div>\n",
              "  "
            ]
          },
          "metadata": {},
          "execution_count": 91
        }
      ]
    },
    {
      "cell_type": "code",
      "source": [
        "pd.DataFrame(y).to_csv('bert_score.csv',index=False)"
      ],
      "metadata": {
        "id": "OHN8N-zdQSJE"
      },
      "execution_count": 92,
      "outputs": []
    },
    {
      "cell_type": "markdown",
      "source": [
        "## LSTM"
      ],
      "metadata": {
        "id": "hg8K6C57qHqA"
      }
    },
    {
      "cell_type": "code",
      "source": [
        "from nltk.corpus import stopwords\n",
        "\n",
        "from sklearn.model_selection import train_test_split\n",
        "from sklearn.preprocessing import OneHotEncoder\n",
        "\n",
        "from tensorflow.keras.models import Model\n",
        "from tensorflow.keras.layers import LSTM, Activation, Dense, Dropout, Input, Embedding, Bidirectional\n",
        "from tensorflow.keras.optimizers import Adam\n",
        "from tensorflow.keras.preprocessing.text import Tokenizer\n",
        "from tensorflow.keras.preprocessing import sequence\n",
        "from tensorflow.keras.callbacks import EarlyStopping"
      ],
      "metadata": {
        "id": "MYQjWLfQqJFx"
      },
      "execution_count": null,
      "outputs": []
    },
    {
      "cell_type": "code",
      "source": [
        "X = dataset.cleaned_title"
      ],
      "metadata": {
        "id": "vATBXCVtsqA6"
      },
      "execution_count": null,
      "outputs": []
    },
    {
      "cell_type": "code",
      "source": [
        "y=labels"
      ],
      "metadata": {
        "id": "mbsrKeVJsvCl"
      },
      "execution_count": 93,
      "outputs": []
    },
    {
      "cell_type": "code",
      "source": [
        "X_train, X_test, y_train, y_test = train_test_split(X, y,\n",
        "                                                    test_size=0.2)"
      ],
      "metadata": {
        "id": "aYTWmthyrub5"
      },
      "execution_count": null,
      "outputs": []
    },
    {
      "cell_type": "code",
      "source": [
        "max_words = 5000\n",
        "max_len = 5000"
      ],
      "metadata": {
        "id": "Yxqt4mRPruef"
      },
      "execution_count": null,
      "outputs": []
    },
    {
      "cell_type": "code",
      "source": [
        "tok = Tokenizer(num_words=max_words)"
      ],
      "metadata": {
        "id": "1m3gfRSGruho"
      },
      "execution_count": null,
      "outputs": []
    },
    {
      "cell_type": "code",
      "source": [
        "tok.fit_on_texts(X_train)\n",
        "sequences = tok.texts_to_sequences(X_train)\n",
        "sequences_matrix = sequence.pad_sequences(sequences, maxlen=max_len)"
      ],
      "metadata": {
        "id": "bLgDqKZis6a8"
      },
      "execution_count": null,
      "outputs": []
    },
    {
      "cell_type": "code",
      "source": [
        "sequences_matrix.shape"
      ],
      "metadata": {
        "colab": {
          "base_uri": "https://localhost:8080/"
        },
        "id": "fhnjNLG1s6c_",
        "outputId": "d042a06d-10e1-43ba-a4af-69cd3c12065f"
      },
      "execution_count": null,
      "outputs": [
        {
          "output_type": "execute_result",
          "data": {
            "text/plain": [
              "(72, 5000)"
            ]
          },
          "metadata": {},
          "execution_count": 95
        }
      ]
    },
    {
      "cell_type": "code",
      "source": [
        "def build_RNN_model():\n",
        "    inputs = Input(name='inputs', shape=[max_len])\n",
        "    layer = Embedding(max_words, 64, input_length=max_len, mask_zero=True)(inputs)\n",
        "    layer = Bidirectional(LSTM(64, return_sequences=True, dropout=0.3))(layer)\n",
        "    layer = Bidirectional(LSTM(32, dropout=0.3))(layer)\n",
        "    layer = Dense(64, name='FC1', activation='relu')(layer)\n",
        "    layer = Dense(1, name='out_layer', activation='sigmoid')(layer)\n",
        "    model = Model(inputs=inputs,outputs=layer)\n",
        "    return model"
      ],
      "metadata": {
        "id": "cFUu07AYs6fX"
      },
      "execution_count": null,
      "outputs": []
    },
    {
      "cell_type": "code",
      "source": [
        "model = build_RNN_model()"
      ],
      "metadata": {
        "id": "gpQ0ERmNtGI_"
      },
      "execution_count": null,
      "outputs": []
    },
    {
      "cell_type": "code",
      "source": [
        "model.summary()"
      ],
      "metadata": {
        "colab": {
          "base_uri": "https://localhost:8080/"
        },
        "id": "F76noBMBtGLf",
        "outputId": "b62b673b-4d36-45ae-8cbe-92f327afc5b9"
      },
      "execution_count": null,
      "outputs": [
        {
          "output_type": "stream",
          "name": "stdout",
          "text": [
            "Model: \"model_1\"\n",
            "_________________________________________________________________\n",
            " Layer (type)                Output Shape              Param #   \n",
            "=================================================================\n",
            " inputs (InputLayer)         [(None, 5000)]            0         \n",
            "                                                                 \n",
            " embedding (Embedding)       (None, 5000, 64)          320000    \n",
            "                                                                 \n",
            " bidirectional (Bidirectiona  (None, 5000, 128)        66048     \n",
            " l)                                                              \n",
            "                                                                 \n",
            " bidirectional_1 (Bidirectio  (None, 64)               41216     \n",
            " nal)                                                            \n",
            "                                                                 \n",
            " FC1 (Dense)                 (None, 64)                4160      \n",
            "                                                                 \n",
            " out_layer (Dense)           (None, 1)                 65        \n",
            "                                                                 \n",
            "=================================================================\n",
            "Total params: 431,489\n",
            "Trainable params: 431,489\n",
            "Non-trainable params: 0\n",
            "_________________________________________________________________\n"
          ]
        }
      ]
    },
    {
      "cell_type": "code",
      "source": [
        "model.compile(loss='categorical_crossentropy',\n",
        "              optimizer=Adam(),\n",
        "              metrics=['accuracy'])"
      ],
      "metadata": {
        "id": "mArY6XYotGNn"
      },
      "execution_count": null,
      "outputs": []
    },
    {
      "cell_type": "code",
      "source": [
        "history = model.fit(sequences_matrix, y_train,\n",
        "                    batch_size=16,\n",
        "                    epochs=10,\n",
        "                    validation_split=0.2,\n",
        "                    callbacks=[EarlyStopping(monitor='val_accuracy',\n",
        "                                             patience=3)])"
      ],
      "metadata": {
        "colab": {
          "base_uri": "https://localhost:8080/"
        },
        "id": "7JKiLSLPtJtH",
        "outputId": "c03e2f6a-70c6-4e30-9806-48aac8e8deeb"
      },
      "execution_count": null,
      "outputs": [
        {
          "output_type": "stream",
          "name": "stdout",
          "text": [
            "Epoch 1/10\n",
            "4/4 [==============================] - 219s 52s/step - loss: 0.0000e+00 - accuracy: 0.4211 - val_loss: 0.0000e+00 - val_accuracy: 0.5333\n",
            "Epoch 2/10\n",
            "4/4 [==============================] - 201s 51s/step - loss: 0.0000e+00 - accuracy: 0.4211 - val_loss: 0.0000e+00 - val_accuracy: 0.5333\n",
            "Epoch 3/10\n",
            "4/4 [==============================] - 199s 50s/step - loss: 0.0000e+00 - accuracy: 0.4211 - val_loss: 0.0000e+00 - val_accuracy: 0.5333\n",
            "Epoch 4/10\n",
            "4/4 [==============================] - 220s 57s/step - loss: 0.0000e+00 - accuracy: 0.4211 - val_loss: 0.0000e+00 - val_accuracy: 0.5333\n"
          ]
        }
      ]
    },
    {
      "cell_type": "code",
      "source": [
        "history.history"
      ],
      "metadata": {
        "colab": {
          "base_uri": "https://localhost:8080/"
        },
        "id": "Gke2kJfRtJvf",
        "outputId": "d963de16-76d0-41e0-d5c9-4a230cb7954d"
      },
      "execution_count": null,
      "outputs": [
        {
          "output_type": "execute_result",
          "data": {
            "text/plain": [
              "{'accuracy': [0.42105263471603394,\n",
              "  0.42105263471603394,\n",
              "  0.42105263471603394,\n",
              "  0.42105263471603394],\n",
              " 'loss': [0.0, 0.0, 0.0, 0.0],\n",
              " 'val_accuracy': [0.5333333611488342,\n",
              "  0.5333333611488342,\n",
              "  0.5333333611488342,\n",
              "  0.5333333611488342],\n",
              " 'val_loss': [0.0, 0.0, 0.0, 0.0]}"
            ]
          },
          "metadata": {},
          "execution_count": 102
        }
      ]
    },
    {
      "cell_type": "code",
      "source": [
        "from tensorflow.keras.models import save_model\n",
        "save_model(model,filepath='/content/model',save_format='h5')"
      ],
      "metadata": {
        "id": "2ooRM8-6wU3X"
      },
      "execution_count": null,
      "outputs": []
    },
    {
      "cell_type": "code",
      "source": [
        "model.save()"
      ],
      "metadata": {
        "id": "Q898nynVtJxs"
      },
      "execution_count": null,
      "outputs": []
    }
  ]
}